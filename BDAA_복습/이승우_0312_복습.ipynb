{
 "cells": [
  {
   "cell_type": "markdown",
   "metadata": {
    "id": "IUcugl801UdQ"
   },
   "source": [
    "## 정규식-2\n",
    "- *, + 의 차이 \n",
    "\n",
    "- '*' 는 0개 이상 있는지 \n",
    "- '+'는 1개 이상 있는지"
   ]
  },
  {
   "cell_type": "code",
   "execution_count": 1,
   "metadata": {
    "id": "9n6Su7Hn1UdU"
   },
   "outputs": [],
   "source": [
    "import re"
   ]
  },
  {
   "cell_type": "code",
   "execution_count": 2,
   "metadata": {
    "id": "nueAo1FZ1UdV",
    "outputId": "dfc501d2-ec15-42e9-9883-43af15b4b3e3"
   },
   "outputs": [
    {
     "data": {
      "text/plain": [
       "<re.Match object; span=(0, 1), match='b'>"
      ]
     },
     "execution_count": 2,
     "metadata": {},
     "output_type": "execute_result"
    }
   ],
   "source": [
    "re.match('a*b','b') #얘는 찾고\n",
    "#b에는 a가 0개 이상 있어도 찾을 수 있다."
   ]
  },
  {
   "cell_type": "code",
   "execution_count": 3,
   "metadata": {
    "id": "Q8jCu4f-1UdX"
   },
   "outputs": [],
   "source": [
    "re.match('a+b','b') #얘는 b를 못 찾았다.\n",
    "# a가 1개 이상 있어야지b를 찾을 수 있다."
   ]
  },
  {
   "cell_type": "code",
   "execution_count": 4,
   "metadata": {
    "id": "vC9OAFcU1UdX",
    "outputId": "07e070e7-5ac9-496a-d48e-65475631fa28"
   },
   "outputs": [
    {
     "data": {
      "text/plain": [
       "<re.Match object; span=(0, 2), match='ab'>"
      ]
     },
     "execution_count": 4,
     "metadata": {},
     "output_type": "execute_result"
    }
   ],
   "source": [
    "re.match('a*b','ab')"
   ]
  },
  {
   "cell_type": "code",
   "execution_count": 5,
   "metadata": {
    "id": "AXqCdNna1UdY",
    "outputId": "d7297a22-230b-456b-ae25-ef22b78b8288"
   },
   "outputs": [
    {
     "data": {
      "text/plain": [
       "<re.Match object; span=(0, 2), match='ab'>"
      ]
     },
     "execution_count": 5,
     "metadata": {},
     "output_type": "execute_result"
    }
   ],
   "source": [
    "re.match('a+b','ab')"
   ]
  },
  {
   "cell_type": "markdown",
   "metadata": {
    "id": "S560Clsv1UdY"
   },
   "source": [
    "### 한글, 문자개수, 영어, 숫자 다 확인했음"
   ]
  },
  {
   "cell_type": "markdown",
   "metadata": {
    "id": "HuRkfNAk1UdY"
   },
   "source": [
    "- 특수문자 &&^^%$%$##@@\n",
    "- \\특수문자"
   ]
  },
  {
   "cell_type": "code",
   "execution_count": 6,
   "metadata": {
    "id": "UlatN1LU1UdZ",
    "outputId": "370874e7-eac3-4614-d5c6-fb3460331dce"
   },
   "outputs": [
    {
     "data": {
      "text/plain": [
       "<re.Match object; span=(3, 4), match='*'>"
      ]
     },
     "execution_count": 6,
     "metadata": {},
     "output_type": "execute_result"
    }
   ],
   "source": [
    "#특수문자가 있는 경우\n",
    "re.search('\\*', '123*3')"
   ]
  },
  {
   "cell_type": "code",
   "execution_count": 7,
   "metadata": {
    "id": "jvHfZbQf1UdZ",
    "outputId": "c1e82bcb-d895-499e-fe61-711a4778cddc"
   },
   "outputs": [
    {
     "data": {
      "text/plain": [
       "<re.Match object; span=(3, 4), match='*'>"
      ]
     },
     "execution_count": 7,
     "metadata": {},
     "output_type": "execute_result"
    }
   ],
   "source": [
    "re.search('\\*', '123****3')"
   ]
  },
  {
   "cell_type": "code",
   "execution_count": 8,
   "metadata": {
    "id": "3FZ8UmLk1UdZ",
    "outputId": "173a0d0e-e71a-4734-e115-c8be27a778c5"
   },
   "outputs": [
    {
     "data": {
      "text/plain": [
       "<re.Match object; span=(3, 7), match='****'>"
      ]
     },
     "execution_count": 8,
     "metadata": {},
     "output_type": "execute_result"
    }
   ],
   "source": [
    "re.search('\\*+', '123****3') #* 별을 다 찾을 경우"
   ]
  },
  {
   "cell_type": "markdown",
   "metadata": {
    "id": "N3Dt8B5g1Uda"
   },
   "source": [
    "- 정규식 요약 설명\n",
    "- \\d : [0-9]\n",
    "- \\D : [^0-9] : 숫자를 제외한 모든 문자\n",
    "- \\w : [a-zA-Z0-9_]와 같음 영문, 대소문자, 밑줄문자, 숫자\n",
    "- \\W : [^a-zA-Z0-9_]와 같음 영문, 대소문자, 밑줄문자, 숫자 제외한 모든문자\n"
   ]
  },
  {
   "cell_type": "code",
   "execution_count": 9,
   "metadata": {
    "id": "BsZ8OIph1Uda",
    "outputId": "ffa4e039-ea83-4bcb-899f-c02f327a36a9"
   },
   "outputs": [
    {
     "data": {
      "text/plain": [
       "<re.Match object; span=(0, 1), match='1'>"
      ]
     },
     "execution_count": 9,
     "metadata": {},
     "output_type": "execute_result"
    }
   ],
   "source": [
    "re.match('\\d','123123123124123123')"
   ]
  },
  {
   "cell_type": "code",
   "execution_count": 10,
   "metadata": {
    "id": "5uqdOz9w1Uda",
    "outputId": "5aad44fa-afb5-4995-ac9a-376ebaa4e147"
   },
   "outputs": [
    {
     "data": {
      "text/plain": [
       "<re.Match object; span=(0, 18), match='123123123124123123'>"
      ]
     },
     "execution_count": 10,
     "metadata": {},
     "output_type": "execute_result"
    }
   ],
   "source": [
    "re.match('\\d+','123123123124123123')"
   ]
  },
  {
   "cell_type": "code",
   "execution_count": 11,
   "metadata": {
    "id": "xCO9wvjW1Uda"
   },
   "outputs": [],
   "source": [
    "re.match('\\D+','123123123124123123')"
   ]
  },
  {
   "cell_type": "code",
   "execution_count": 12,
   "metadata": {
    "id": "a4Ft4OZK1Udb"
   },
   "outputs": [],
   "source": [
    "re.match('\\D+','123123123124123123')"
   ]
  },
  {
   "cell_type": "code",
   "execution_count": 13,
   "metadata": {
    "id": "OpIxMb6l1Udb",
    "outputId": "55d4c292-13ac-4331-d4a9-919467976847"
   },
   "outputs": [
    {
     "data": {
      "text/plain": [
       "<re.Match object; span=(18, 24), match='dsadfa'>"
      ]
     },
     "execution_count": 13,
     "metadata": {},
     "output_type": "execute_result"
    }
   ],
   "source": [
    "re.search('\\D+','123123123124123123dsadfa')"
   ]
  },
  {
   "cell_type": "code",
   "execution_count": 14,
   "metadata": {
    "id": "Fjsdx3fE1Udb",
    "outputId": "33cdefc1-3858-4400-c8fb-de3f230a793f"
   },
   "outputs": [
    {
     "data": {
      "text/plain": [
       "<re.Match object; span=(0, 1), match='P'>"
      ]
     },
     "execution_count": 14,
     "metadata": {},
     "output_type": "execute_result"
    }
   ],
   "source": [
    "re.match('\\w','Python_Python_123123123123')"
   ]
  },
  {
   "cell_type": "code",
   "execution_count": 15,
   "metadata": {
    "id": "ux75er1L1Udb",
    "outputId": "fae099d5-5fce-44ba-cd49-1c7c6ef82e29"
   },
   "outputs": [
    {
     "data": {
      "text/plain": [
       "<re.Match object; span=(0, 26), match='Python_Python_123123123123'>"
      ]
     },
     "execution_count": 15,
     "metadata": {},
     "output_type": "execute_result"
    }
   ],
   "source": [
    "re.match('\\w+','Python_Python_123123123123')"
   ]
  },
  {
   "cell_type": "code",
   "execution_count": 16,
   "metadata": {
    "id": "vfp967GN1Udb"
   },
   "outputs": [],
   "source": [
    "re.match('\\W+','Python_Python_123123123123!!!!!')"
   ]
  },
  {
   "cell_type": "code",
   "execution_count": 17,
   "metadata": {
    "id": "Zeg8ZxeD1Udb",
    "outputId": "568eb1a4-f362-45f4-fef6-60c43bdb9148"
   },
   "outputs": [
    {
     "data": {
      "text/plain": [
       "<re.Match object; span=(26, 31), match='!!!!!'>"
      ]
     },
     "execution_count": 17,
     "metadata": {},
     "output_type": "execute_result"
    }
   ],
   "source": [
    "re.search('\\W+','Python_Python_123123123123!!!!!')"
   ]
  },
  {
   "cell_type": "markdown",
   "metadata": {
    "id": "AYJ0nw8w1Udc"
   },
   "source": [
    "- 공백처리\n",
    "- ' ' 공백을 넣어도 되고, \\s \\S 표현가능\n"
   ]
  },
  {
   "cell_type": "code",
   "execution_count": 18,
   "metadata": {
    "id": "SorhPkFn1Udc",
    "outputId": "61ffcc0f-6f58-46ab-dd68-0b89af0ccc05"
   },
   "outputs": [
    {
     "data": {
      "text/plain": [
       "<re.Match object; span=(0, 1), match='h'>"
      ]
     },
     "execution_count": 18,
     "metadata": {},
     "output_type": "execute_result"
    }
   ],
   "source": [
    "re.match('[a-z0-9]','hello 12345')"
   ]
  },
  {
   "cell_type": "code",
   "execution_count": 19,
   "metadata": {
    "id": "3Im8Sz7F1Udc",
    "outputId": "4aea0a18-02c5-4d0b-83e4-1f7ca9484fa0"
   },
   "outputs": [
    {
     "data": {
      "text/plain": [
       "<re.Match object; span=(0, 5), match='hello'>"
      ]
     },
     "execution_count": 19,
     "metadata": {},
     "output_type": "execute_result"
    }
   ],
   "source": [
    "re.match('[a-z0-9]+','hello 12345')"
   ]
  },
  {
   "cell_type": "code",
   "execution_count": 20,
   "metadata": {
    "id": "GXdcUbK-1Udc",
    "outputId": "af84bd47-5bcb-4baf-f9cd-8d72e0132640"
   },
   "outputs": [
    {
     "data": {
      "text/plain": [
       "<re.Match object; span=(0, 11), match='hello 12345'>"
      ]
     },
     "execution_count": 20,
     "metadata": {},
     "output_type": "execute_result"
    }
   ],
   "source": [
    "re.match('[a-z0-9 ]+','hello 12345')"
   ]
  },
  {
   "cell_type": "code",
   "execution_count": 21,
   "metadata": {
    "id": "xVhq8bPc1Udc",
    "outputId": "bec58643-9daa-4980-a6d0-40e161929f51"
   },
   "outputs": [
    {
     "data": {
      "text/plain": [
       "<re.Match object; span=(0, 11), match='hello 12345'>"
      ]
     },
     "execution_count": 21,
     "metadata": {},
     "output_type": "execute_result"
    }
   ],
   "source": [
    "re.match('[a-z0-9\\s]+','hello 12345')"
   ]
  },
  {
   "cell_type": "markdown",
   "metadata": {
    "id": "ync-QjbR1Udc"
   },
   "source": [
    "### Group 사용하기\n",
    "- (정규표현식)(정규표현식) 덩어리로 묶을 수 있다.\n",
    "- 객체를 넣을 변수.group(그룹의 숫자)"
   ]
  },
  {
   "cell_type": "code",
   "execution_count": 22,
   "metadata": {
    "id": "PiFl_guC1Udd"
   },
   "outputs": [],
   "source": [
    "df_re = re.match('([0-9]+) ([a-z]+)', '1234 abc')"
   ]
  },
  {
   "cell_type": "code",
   "execution_count": 23,
   "metadata": {
    "id": "L7OsM1_l1Udd",
    "outputId": "7188cfe2-f277-47f1-af96-50acef244131"
   },
   "outputs": [
    {
     "data": {
      "text/plain": [
       "'1234'"
      ]
     },
     "execution_count": 23,
     "metadata": {},
     "output_type": "execute_result"
    }
   ],
   "source": [
    "df_re.group(1)"
   ]
  },
  {
   "cell_type": "code",
   "execution_count": 24,
   "metadata": {
    "id": "iQqCr9i71Udd",
    "outputId": "385a2ab9-59ed-4887-b2c4-2e05b316a90c"
   },
   "outputs": [
    {
     "data": {
      "text/plain": [
       "'abc'"
      ]
     },
     "execution_count": 24,
     "metadata": {},
     "output_type": "execute_result"
    }
   ],
   "source": [
    "df_re.group(2)"
   ]
  },
  {
   "cell_type": "code",
   "execution_count": 25,
   "metadata": {
    "id": "IMNd5gcG1Udd",
    "outputId": "78dfc99e-5c1f-4143-941e-386355f9f1c6"
   },
   "outputs": [
    {
     "data": {
      "text/plain": [
       "'1234 abc'"
      ]
     },
     "execution_count": 25,
     "metadata": {},
     "output_type": "execute_result"
    }
   ],
   "source": [
    "df_re.group(0)"
   ]
  },
  {
   "cell_type": "code",
   "execution_count": 26,
   "metadata": {
    "id": "IBRp2g0n1Udd",
    "outputId": "0c79c9f6-9658-453d-ee62-ac685a61a5c3"
   },
   "outputs": [
    {
     "data": {
      "text/plain": [
       "('1234', 'abc')"
      ]
     },
     "execution_count": 26,
     "metadata": {},
     "output_type": "execute_result"
    }
   ],
   "source": [
    "df_re.groups()"
   ]
  },
  {
   "cell_type": "markdown",
   "metadata": {
    "id": "JxM1TKeK1Udd"
   },
   "source": [
    "### 기존함수를 이용해서 문자열 응용하기\n",
    "- findall\n",
    "- re.findall('패턴','문자열')"
   ]
  },
  {
   "cell_type": "code",
   "execution_count": 27,
   "metadata": {
    "id": "QyRMqo-k1Udd",
    "outputId": "4f3e28a9-ddc7-4951-b339-71327ef829c9"
   },
   "outputs": [
    {
     "data": {
      "text/plain": [
       "['1231', '123123', '3123']"
      ]
     },
     "execution_count": 27,
     "metadata": {},
     "output_type": "execute_result"
    }
   ],
   "source": [
    "re.findall('[0-9]+','여러분 1231 숫자를 123123 다 가지고 올 까요?!@3123') #리스트화 해준다!"
   ]
  },
  {
   "cell_type": "code",
   "execution_count": 28,
   "metadata": {
    "id": "_4mm1yAZ1Udd"
   },
   "outputs": [],
   "source": [
    "abc = re.findall('[0-9]+','여러분 1231 숫자를 123123 다 가지고 올 까요?!@3123') #리스트화 해준다!"
   ]
  },
  {
   "cell_type": "code",
   "execution_count": 29,
   "metadata": {
    "id": "P5e-oEOA1Udd",
    "outputId": "db28c71d-d3c4-40a5-b593-accb13e229d2"
   },
   "outputs": [
    {
     "data": {
      "text/plain": [
       "['1231', '123123', '3123']"
      ]
     },
     "execution_count": 29,
     "metadata": {},
     "output_type": "execute_result"
    }
   ],
   "source": [
    "abc"
   ]
  },
  {
   "cell_type": "code",
   "execution_count": 30,
   "metadata": {
    "id": "PVWA950Q1Ude",
    "outputId": "4b28b8f9-7943-412f-e8a6-349275bb14c6"
   },
   "outputs": [
    {
     "data": {
      "text/plain": [
       "['여러분', '숫자를', '다', '가지고', '올', '까요']"
      ]
     },
     "execution_count": 30,
     "metadata": {},
     "output_type": "execute_result"
    }
   ],
   "source": [
    "re.findall('[가-힣]+','여러분 1231 숫자를 123123 다 가지고 올 까요?!@3123') #리스트화 해준다!"
   ]
  },
  {
   "cell_type": "markdown",
   "metadata": {
    "id": "1Fx6EYde1Ude"
   },
   "source": [
    "### 문자열을 바꿀 수 있다.\n",
    "- re.sub('패턴', '바꿀문자열', '문자열', 바꿀횟수)"
   ]
  },
  {
   "cell_type": "code",
   "execution_count": null,
   "metadata": {
    "id": "02ut5MY61Ude",
    "outputId": "d18566d2-6c72-4295-d386-c47259c2e51b"
   },
   "outputs": [
    {
     "data": {
      "text/plain": [
       "'여러분 hi 숫자를 hi 다 가지고 올 까요?!@hi'"
      ]
     },
     "execution_count": 31,
     "metadata": {},
     "output_type": "execute_result"
    }
   ],
   "source": [
    "re.sub('[0-9]+','hi','여러분 1231 숫자를 123123 다 가지고 올 까요?!@3123') #숫자가 모두 hi로 바뀐다."
   ]
  },
  {
   "cell_type": "code",
   "execution_count": null,
   "metadata": {
    "id": "3NH5T_Jt1Ude",
    "outputId": "f61e4433-3c79-477a-c022-49139e2faf85"
   },
   "outputs": [
    {
     "data": {
      "text/plain": [
       "'안녕 안녕 d안녕df안녕 안녕 안녕'"
      ]
     },
     "execution_count": 32,
     "metadata": {},
     "output_type": "execute_result"
    }
   ],
   "source": [
    "# | or 두 개 중에 있으면 바꿔달라\n",
    "re.sub('a|b|e','안녕','a b dedfe a b')"
   ]
  },
  {
   "cell_type": "markdown",
   "metadata": {
    "id": "RCGBirHT1Ude"
   },
   "source": [
    "### 퀴즈\n",
    "- 이메일을 찾을 수 있는 정규식을 만들자!\n",
    "- 첫 이메일 시작은 영어 소문자만 가능하고 \n",
    "- 이메일은 abc123 숫자도 붙을 수 있다.\n",
    "- abc_323 가능하다.\n",
    "- ppp@naver.com , gmail.com, .net \n",
    "- .com / .net 만 가능하다 \n",
    "\n",
    "- 지금 정규식을 만들어서 패턴을 찾아주세요!"
   ]
  },
  {
   "cell_type": "code",
   "execution_count": null,
   "metadata": {
    "id": "1H13UqLv1Ude"
   },
   "outputs": [],
   "source": [
    "re.match('[a-z]{1}\\w+@[a-zA-Z]+(\\.com|\\.net)','abc_123@naver_com')"
   ]
  },
  {
   "cell_type": "code",
   "execution_count": null,
   "metadata": {
    "id": "1Ed4fcxb1Ude",
    "outputId": "7e2b1a62-7876-416b-ecc5-44cf9ab02202"
   },
   "outputs": [
    {
     "data": {
      "text/plain": [
       "'[a-z]{1}\\\\w+@[a-zA-Z]+(\\\\.com|\\\\.net)'"
      ]
     },
     "execution_count": 34,
     "metadata": {},
     "output_type": "execute_result"
    }
   ],
   "source": [
    "'[a-z]{1}\\w+@[a-zA-Z]+(\\.com|\\.net)'"
   ]
  },
  {
   "cell_type": "code",
   "execution_count": null,
   "metadata": {
    "id": "Z7UU_JMs1Ude",
    "outputId": "5582e927-55e0-49c3-b9de-cc88688005ce"
   },
   "outputs": [
    {
     "ename": "SyntaxError",
     "evalue": "invalid token (<ipython-input-35-ecdf6cf4e097>, line 1)",
     "output_type": "error",
     "traceback": [
      "\u001b[0;36m  File \u001b[0;32m\"<ipython-input-35-ecdf6cf4e097>\"\u001b[0;36m, line \u001b[0;32m1\u001b[0m\n\u001b[0;31m    ''[A-Za-z]+[A-Za-z0-9_]*@[A-Za-z]+\\.[com|net]+$'\u001b[0m\n\u001b[0m                         ^\u001b[0m\n\u001b[0;31mSyntaxError\u001b[0m\u001b[0;31m:\u001b[0m invalid token\n"
     ]
    }
   ],
   "source": [
    "''[A-Za-z]+[A-Za-z0-9_]*@[A-Za-z]+\\.[com|net]+$'"
   ]
  },
  {
   "cell_type": "code",
   "execution_count": null,
   "metadata": {
    "id": "lBkWS29K1Ude"
   },
   "outputs": [],
   "source": [
    "re.match('[A-Za-z]+[A-Za-z0-9_]*@[A-Za-z]+\\.[com|net]+$','Abc_123@naver_com')"
   ]
  },
  {
   "cell_type": "markdown",
   "metadata": {
    "id": "EdXT2AaZ1Udf"
   },
   "source": [
    "# 텍스트 분석\n",
    "- 문자열 데이터를 분석\n",
    "- 문자열은 숫자가 아니라 문자 데이터라서 -> 문자열 데이터를 수치로 만드는 것이 중요하다!\n",
    "- 문자열 데이터를 어떻게 숫자로 만들 것인가?\n",
    "- 기존에 레이블, 원핫 인코딩은 그냥 문자열 데이터를 단순하게 숫자로 바꾸는 것인데\n",
    "- 텍트스분석을 크게 보면\n",
    "- 빈도, 감성분석, 머신러닝으로 예측 -> 문자열 데이터에 대한 형태소를 나눠야 한다.\n",
    "- 형태소라는 것은 문자데이터에서 주어, 목적어, 서술어 구성성분으로 나눈다.\n",
    "- 영어도 한글도 있다.\n",
    "- 한글 konlp 자연어 관련해서 이미 만든 패키지 \n",
    "- 영어 okt, twitter 등등 형태소를 분석할 수 있는 패키지가 있다."
   ]
  },
  {
   "cell_type": "code",
   "execution_count": null,
   "metadata": {
    "id": "tUTJwhrG1Udf"
   },
   "outputs": [],
   "source": [
    "import pandas as pd"
   ]
  },
  {
   "cell_type": "code",
   "execution_count": null,
   "metadata": {
    "id": "slj70exX1Udf"
   },
   "outputs": [],
   "source": [
    "survey = pd.read_csv('survey_설문지.csv')"
   ]
  },
  {
   "cell_type": "code",
   "execution_count": null,
   "metadata": {
    "id": "9RKe8_rF1Udf",
    "outputId": "7ef354fa-c0dd-4a81-cb7c-2fb224f3ece2"
   },
   "outputs": [
    {
     "data": {
      "text/plain": [
       "0            역앞에 젊은이들이 모여있다(AA역)\n",
       "1          운동할 수 있는 장소가 있는 것이 좋다\n",
       "2                      육아 지원이 좋다\n",
       "3     어린이집에 바로 입원할 수 있다(대기아동 없음)\n",
       "4                    역앞 상가가 쓸쓸하다\n",
       "                 ...            \n",
       "81        초등학교 운동장이 잔디밭이라서 아주 좋다\n",
       "82    홈페이지에서도 설문지를 투고할 수 있게 해 달라\n",
       "83               공원에 놀이기구가 너무 적다\n",
       "84                공원을 더 늘렸으면 좋겠다\n",
       "85             역앞에 주차장이 적다, 불편하다\n",
       "Name: comment, Length: 86, dtype: object"
      ]
     },
     "execution_count": 174,
     "metadata": {},
     "output_type": "execute_result"
    }
   ],
   "source": [
    "survey['comment'] #서베이에 대한 응답 데이터 따라서 단순하게 인코딩하기는 어렵다."
   ]
  },
  {
   "cell_type": "code",
   "execution_count": null,
   "metadata": {
    "id": "BLb1eMXS1Udf"
   },
   "outputs": [],
   "source": [
    "mpg= pd.read_csv('mpg.csv')"
   ]
  },
  {
   "cell_type": "code",
   "execution_count": null,
   "metadata": {
    "id": "Zfkqx2jb1Udf",
    "outputId": "365fbeeb-96e7-41cc-9d99-7d0fbd551100"
   },
   "outputs": [
    {
     "data": {
      "text/plain": [
       "datetime        0\n",
       "comment         2\n",
       "satisfaction    0\n",
       "dtype: int64"
      ]
     },
     "execution_count": 176,
     "metadata": {},
     "output_type": "execute_result"
    }
   ],
   "source": [
    "survey.isna().sum() "
   ]
  },
  {
   "cell_type": "code",
   "execution_count": null,
   "metadata": {
    "id": "6aKUV8oV1Udf"
   },
   "outputs": [],
   "source": [
    "survey = survey.dropna()"
   ]
  },
  {
   "cell_type": "code",
   "execution_count": null,
   "metadata": {
    "id": "dTp6_sd41Udf",
    "outputId": "37fa6bd0-5f2f-4b3b-80b6-0cce33174595"
   },
   "outputs": [
    {
     "data": {
      "text/plain": [
       "datetime        0\n",
       "comment         0\n",
       "satisfaction    0\n",
       "dtype: int64"
      ]
     },
     "execution_count": 178,
     "metadata": {},
     "output_type": "execute_result"
    }
   ],
   "source": [
    "survey.isna().sum()"
   ]
  },
  {
   "cell_type": "code",
   "execution_count": null,
   "metadata": {
    "id": "lQWHwL1Z1Udf",
    "outputId": "47b3bbf9-801c-476f-f86e-1de93fc9992a"
   },
   "outputs": [
    {
     "data": {
      "text/html": [
       "<div>\n",
       "<style scoped>\n",
       "    .dataframe tbody tr th:only-of-type {\n",
       "        vertical-align: middle;\n",
       "    }\n",
       "\n",
       "    .dataframe tbody tr th {\n",
       "        vertical-align: top;\n",
       "    }\n",
       "\n",
       "    .dataframe thead th {\n",
       "        text-align: right;\n",
       "    }\n",
       "</style>\n",
       "<table border=\"1\" class=\"dataframe\">\n",
       "  <thead>\n",
       "    <tr style=\"text-align: right;\">\n",
       "      <th></th>\n",
       "      <th>datetime</th>\n",
       "      <th>comment</th>\n",
       "      <th>satisfaction</th>\n",
       "    </tr>\n",
       "  </thead>\n",
       "  <tbody>\n",
       "    <tr>\n",
       "      <th>0</th>\n",
       "      <td>2019-03-11</td>\n",
       "      <td>역앞에 젊은이들이 모여있다(AA역)</td>\n",
       "      <td>1</td>\n",
       "    </tr>\n",
       "    <tr>\n",
       "      <th>1</th>\n",
       "      <td>2019-02-25</td>\n",
       "      <td>운동할 수 있는 장소가 있는 것이 좋다</td>\n",
       "      <td>5</td>\n",
       "    </tr>\n",
       "    <tr>\n",
       "      <th>2</th>\n",
       "      <td>2019-02-18</td>\n",
       "      <td>육아 지원이 좋다</td>\n",
       "      <td>5</td>\n",
       "    </tr>\n",
       "    <tr>\n",
       "      <th>3</th>\n",
       "      <td>2019-04-09</td>\n",
       "      <td>어린이집에 바로 입원할 수 있다(대기아동 없음)</td>\n",
       "      <td>4</td>\n",
       "    </tr>\n",
       "    <tr>\n",
       "      <th>4</th>\n",
       "      <td>2019-01-06</td>\n",
       "      <td>역앞 상가가 쓸쓸하다</td>\n",
       "      <td>2</td>\n",
       "    </tr>\n",
       "    <tr>\n",
       "      <th>...</th>\n",
       "      <td>...</td>\n",
       "      <td>...</td>\n",
       "      <td>...</td>\n",
       "    </tr>\n",
       "    <tr>\n",
       "      <th>81</th>\n",
       "      <td>2019-01-21</td>\n",
       "      <td>초등학교 운동장이 잔디밭이라서 아주 좋다</td>\n",
       "      <td>5</td>\n",
       "    </tr>\n",
       "    <tr>\n",
       "      <th>82</th>\n",
       "      <td>2019-04-30</td>\n",
       "      <td>홈페이지에서도 설문지를 투고할 수 있게 해 달라</td>\n",
       "      <td>2</td>\n",
       "    </tr>\n",
       "    <tr>\n",
       "      <th>83</th>\n",
       "      <td>2019-01-09</td>\n",
       "      <td>공원에 놀이기구가 너무 적다</td>\n",
       "      <td>1</td>\n",
       "    </tr>\n",
       "    <tr>\n",
       "      <th>84</th>\n",
       "      <td>2019-03-09</td>\n",
       "      <td>공원을 더 늘렸으면 좋겠다</td>\n",
       "      <td>2</td>\n",
       "    </tr>\n",
       "    <tr>\n",
       "      <th>85</th>\n",
       "      <td>2019-04-02</td>\n",
       "      <td>역앞에 주차장이 적다, 불편하다</td>\n",
       "      <td>1</td>\n",
       "    </tr>\n",
       "  </tbody>\n",
       "</table>\n",
       "<p>84 rows × 3 columns</p>\n",
       "</div>"
      ],
      "text/plain": [
       "      datetime                     comment  satisfaction\n",
       "0   2019-03-11         역앞에 젊은이들이 모여있다(AA역)             1\n",
       "1   2019-02-25       운동할 수 있는 장소가 있는 것이 좋다             5\n",
       "2   2019-02-18                   육아 지원이 좋다             5\n",
       "3   2019-04-09  어린이집에 바로 입원할 수 있다(대기아동 없음)             4\n",
       "4   2019-01-06                 역앞 상가가 쓸쓸하다             2\n",
       "..         ...                         ...           ...\n",
       "81  2019-01-21      초등학교 운동장이 잔디밭이라서 아주 좋다             5\n",
       "82  2019-04-30  홈페이지에서도 설문지를 투고할 수 있게 해 달라             2\n",
       "83  2019-01-09             공원에 놀이기구가 너무 적다             1\n",
       "84  2019-03-09              공원을 더 늘렸으면 좋겠다             2\n",
       "85  2019-04-02           역앞에 주차장이 적다, 불편하다             1\n",
       "\n",
       "[84 rows x 3 columns]"
      ]
     },
     "execution_count": 179,
     "metadata": {},
     "output_type": "execute_result"
    }
   ],
   "source": [
    "#소괄호랑, 영어를 제외하는 정규식을 채팅으로 적어주세요!\n",
    "survey"
   ]
  },
  {
   "cell_type": "markdown",
   "metadata": {
    "id": "glnuQRv31Udf"
   },
   "source": [
    "- 데이터 프레임을 가지고 접근하는 법은 str 문법을 사용한다."
   ]
  },
  {
   "cell_type": "code",
   "execution_count": null,
   "metadata": {
    "id": "KSL__S4M1Udg",
    "outputId": "8faa3192-f657-4adb-d63e-fc0325b1ce7e"
   },
   "outputs": [
    {
     "name": "stderr",
     "output_type": "stream",
     "text": [
      "/opt/anaconda3/lib/python3.7/site-packages/ipykernel_launcher.py:1: FutureWarning: The default value of regex will change from True to False in a future version.\n",
      "  \"\"\"Entry point for launching an IPython kernel.\n"
     ]
    }
   ],
   "source": [
    "survey['comment']= survey['comment'].str.replace('[a-zA-Z]',\"\")"
   ]
  },
  {
   "cell_type": "code",
   "execution_count": null,
   "metadata": {
    "id": "vr3UgFJM1Udg",
    "outputId": "4dea5c69-fa6c-4e82-8cac-06a4f3497ac8"
   },
   "outputs": [
    {
     "name": "stderr",
     "output_type": "stream",
     "text": [
      "/opt/anaconda3/lib/python3.7/site-packages/ipykernel_launcher.py:1: FutureWarning: The default value of regex will change from True to False in a future version.\n",
      "  \"\"\"Entry point for launching an IPython kernel.\n"
     ]
    }
   ],
   "source": [
    "survey['comment']= survey['comment'].str.replace('\\(.+?\\)',\"\") #괄호 안에 있는 값을 모두 날려버려라!"
   ]
  },
  {
   "cell_type": "code",
   "execution_count": null,
   "metadata": {
    "id": "zDN2VzP11Udg"
   },
   "outputs": [],
   "source": [
    "survey['length'] = survey['comment'].str.len()"
   ]
  },
  {
   "cell_type": "code",
   "execution_count": null,
   "metadata": {
    "id": "2V6xQ5Z91Udg",
    "outputId": "7a613e42-5a1d-4d0d-81cd-7173b8165e6b"
   },
   "outputs": [
    {
     "data": {
      "text/html": [
       "<div>\n",
       "<style scoped>\n",
       "    .dataframe tbody tr th:only-of-type {\n",
       "        vertical-align: middle;\n",
       "    }\n",
       "\n",
       "    .dataframe tbody tr th {\n",
       "        vertical-align: top;\n",
       "    }\n",
       "\n",
       "    .dataframe thead th {\n",
       "        text-align: right;\n",
       "    }\n",
       "</style>\n",
       "<table border=\"1\" class=\"dataframe\">\n",
       "  <thead>\n",
       "    <tr style=\"text-align: right;\">\n",
       "      <th></th>\n",
       "      <th>datetime</th>\n",
       "      <th>comment</th>\n",
       "      <th>satisfaction</th>\n",
       "      <th>length</th>\n",
       "    </tr>\n",
       "  </thead>\n",
       "  <tbody>\n",
       "    <tr>\n",
       "      <th>0</th>\n",
       "      <td>2019-03-11</td>\n",
       "      <td>역앞에 젊은이들이 모여있다</td>\n",
       "      <td>1</td>\n",
       "      <td>14</td>\n",
       "    </tr>\n",
       "    <tr>\n",
       "      <th>1</th>\n",
       "      <td>2019-02-25</td>\n",
       "      <td>운동할 수 있는 장소가 있는 것이 좋다</td>\n",
       "      <td>5</td>\n",
       "      <td>21</td>\n",
       "    </tr>\n",
       "    <tr>\n",
       "      <th>2</th>\n",
       "      <td>2019-02-18</td>\n",
       "      <td>육아 지원이 좋다</td>\n",
       "      <td>5</td>\n",
       "      <td>9</td>\n",
       "    </tr>\n",
       "    <tr>\n",
       "      <th>3</th>\n",
       "      <td>2019-04-09</td>\n",
       "      <td>어린이집에 바로 입원할 수 있다</td>\n",
       "      <td>4</td>\n",
       "      <td>17</td>\n",
       "    </tr>\n",
       "    <tr>\n",
       "      <th>4</th>\n",
       "      <td>2019-01-06</td>\n",
       "      <td>역앞 상가가 쓸쓸하다</td>\n",
       "      <td>2</td>\n",
       "      <td>11</td>\n",
       "    </tr>\n",
       "    <tr>\n",
       "      <th>...</th>\n",
       "      <td>...</td>\n",
       "      <td>...</td>\n",
       "      <td>...</td>\n",
       "      <td>...</td>\n",
       "    </tr>\n",
       "    <tr>\n",
       "      <th>81</th>\n",
       "      <td>2019-01-21</td>\n",
       "      <td>초등학교 운동장이 잔디밭이라서 아주 좋다</td>\n",
       "      <td>5</td>\n",
       "      <td>22</td>\n",
       "    </tr>\n",
       "    <tr>\n",
       "      <th>82</th>\n",
       "      <td>2019-04-30</td>\n",
       "      <td>홈페이지에서도 설문지를 투고할 수 있게 해 달라</td>\n",
       "      <td>2</td>\n",
       "      <td>26</td>\n",
       "    </tr>\n",
       "    <tr>\n",
       "      <th>83</th>\n",
       "      <td>2019-01-09</td>\n",
       "      <td>공원에 놀이기구가 너무 적다</td>\n",
       "      <td>1</td>\n",
       "      <td>15</td>\n",
       "    </tr>\n",
       "    <tr>\n",
       "      <th>84</th>\n",
       "      <td>2019-03-09</td>\n",
       "      <td>공원을 더 늘렸으면 좋겠다</td>\n",
       "      <td>2</td>\n",
       "      <td>14</td>\n",
       "    </tr>\n",
       "    <tr>\n",
       "      <th>85</th>\n",
       "      <td>2019-04-02</td>\n",
       "      <td>역앞에 주차장이 적다, 불편하다</td>\n",
       "      <td>1</td>\n",
       "      <td>17</td>\n",
       "    </tr>\n",
       "  </tbody>\n",
       "</table>\n",
       "<p>84 rows × 4 columns</p>\n",
       "</div>"
      ],
      "text/plain": [
       "      datetime                     comment  satisfaction  length\n",
       "0   2019-03-11              역앞에 젊은이들이 모여있다             1      14\n",
       "1   2019-02-25       운동할 수 있는 장소가 있는 것이 좋다             5      21\n",
       "2   2019-02-18                   육아 지원이 좋다             5       9\n",
       "3   2019-04-09           어린이집에 바로 입원할 수 있다             4      17\n",
       "4   2019-01-06                 역앞 상가가 쓸쓸하다             2      11\n",
       "..         ...                         ...           ...     ...\n",
       "81  2019-01-21      초등학교 운동장이 잔디밭이라서 아주 좋다             5      22\n",
       "82  2019-04-30  홈페이지에서도 설문지를 투고할 수 있게 해 달라             2      26\n",
       "83  2019-01-09             공원에 놀이기구가 너무 적다             1      15\n",
       "84  2019-03-09              공원을 더 늘렸으면 좋겠다             2      14\n",
       "85  2019-04-02           역앞에 주차장이 적다, 불편하다             1      17\n",
       "\n",
       "[84 rows x 4 columns]"
      ]
     },
     "execution_count": 183,
     "metadata": {},
     "output_type": "execute_result"
    }
   ],
   "source": [
    "survey"
   ]
  },
  {
   "cell_type": "code",
   "execution_count": null,
   "metadata": {
    "id": "d5faF1Lv1Udg"
   },
   "outputs": [],
   "source": [
    "import matplotlib.pyplot as plt"
   ]
  },
  {
   "cell_type": "code",
   "execution_count": null,
   "metadata": {
    "id": "66HfPhu61Udg",
    "outputId": "5b3c41c7-94c1-4669-f8f2-8c9fc1c108fe"
   },
   "outputs": [
    {
     "data": {
      "text/plain": [
       "(array([20., 19., 20., 10.,  7.,  3.,  4.,  0.,  0.,  1.]),\n",
       " array([ 6. , 11.6, 17.2, 22.8, 28.4, 34. , 39.6, 45.2, 50.8, 56.4, 62. ]),\n",
       " <a list of 10 Patch objects>)"
      ]
     },
     "execution_count": 185,
     "metadata": {},
     "output_type": "execute_result"
    },
    {
     "data": {
      "image/png": "[encoded data removed]",
      "text/plain": [
       "<Figure size 432x288 with 1 Axes>"
      ]
     },
     "metadata": {
      "needs_background": "light"
     },
     "output_type": "display_data"
    }
   ],
   "source": [
    "plt.hist(survey['length'])"
   ]
  },
  {
   "cell_type": "markdown",
   "metadata": {
    "id": "Vc6GLciD1Udg"
   },
   "source": [
    "## 형태소 분석\n",
    "- 에러가 나시는 분들은 pip install 에러 나는 것 확인\n",
    "- 설치가 잘 안된다면 konlpy 이걸 설치해야 해서 에러나는 걸 구글링해서 해결하시는 걸 추천 "
   ]
  },
  {
   "cell_type": "code",
   "execution_count": null,
   "metadata": {
    "id": "nWgnw1DK1Udg"
   },
   "outputs": [],
   "source": [
    "from konlpy.tag import Twitter"
   ]
  },
  {
   "cell_type": "code",
   "execution_count": null,
   "metadata": {
    "id": "M-yJi8P61Udg",
    "outputId": "c22f2af1-1788-4210-b1dd-b5eaa1a4bca1"
   },
   "outputs": [
    {
     "name": "stderr",
     "output_type": "stream",
     "text": [
      "/opt/anaconda3/lib/python3.7/site-packages/konlpy/tag/_okt.py:17: UserWarning: \"Twitter\" has changed to \"Okt\" since KoNLPy v0.4.5.\n",
      "  warn('\"Twitter\" has changed to \"Okt\" since KoNLPy v0.4.5.')\n"
     ]
    },
    {
     "data": {
      "text/plain": [
       "[('여러분', 'Noun'),\n",
       " ('정규식', 'Noun'),\n",
       " ('많이', 'Adverb'),\n",
       " ('어렵나요', 'Adjective'),\n",
       " ('?', 'Punctuation'),\n",
       " ('표정', 'Noun'),\n",
       " ('이', 'Josa'),\n",
       " ('밝지', 'Verb'),\n",
       " ('못', 'Noun'),\n",
       " ('해서', 'Verb'),\n",
       " ('제', 'Noun'),\n",
       " ('마음', 'Noun'),\n",
       " ('도', 'Josa'),\n",
       " ('너무', 'Adverb'),\n",
       " ('슬프네요', 'Adjective'),\n",
       " ('!', 'Punctuation'),\n",
       " ('그래도', 'Adverb'),\n",
       " ('파이팅', 'Noun'),\n",
       " ('!!', 'Punctuation')]"
      ]
     },
     "execution_count": 187,
     "metadata": {},
     "output_type": "execute_result"
    }
   ],
   "source": [
    "twt = Twitter()\n",
    "text = '여러분 정규식 많이 어렵나요? 표정이 밝지 못 해서 제 마음도 너무 슬프네요! 그래도 파이팅!!'\n",
    "tagging = twt.pos(text)\n",
    "tagging\n"
   ]
  },
  {
   "cell_type": "markdown",
   "metadata": {
    "id": "C2YWyN2Z1Udg"
   },
   "source": [
    "- survey 데이터에서 내가 원하는 품사만 추출해서 가져와보자!"
   ]
  },
  {
   "cell_type": "code",
   "execution_count": null,
   "metadata": {
    "id": "7BEcQPQy1Udg",
    "outputId": "d59d1b4d-b44f-407b-d947-51d32bb3d8cf"
   },
   "outputs": [
    {
     "data": {
      "text/html": [
       "<div>\n",
       "<style scoped>\n",
       "    .dataframe tbody tr th:only-of-type {\n",
       "        vertical-align: middle;\n",
       "    }\n",
       "\n",
       "    .dataframe tbody tr th {\n",
       "        vertical-align: top;\n",
       "    }\n",
       "\n",
       "    .dataframe thead th {\n",
       "        text-align: right;\n",
       "    }\n",
       "</style>\n",
       "<table border=\"1\" class=\"dataframe\">\n",
       "  <thead>\n",
       "    <tr style=\"text-align: right;\">\n",
       "      <th></th>\n",
       "      <th>datetime</th>\n",
       "      <th>comment</th>\n",
       "      <th>satisfaction</th>\n",
       "      <th>length</th>\n",
       "    </tr>\n",
       "  </thead>\n",
       "  <tbody>\n",
       "    <tr>\n",
       "      <th>0</th>\n",
       "      <td>2019-03-11</td>\n",
       "      <td>역앞에 젊은이들이 모여있다</td>\n",
       "      <td>1</td>\n",
       "      <td>14</td>\n",
       "    </tr>\n",
       "    <tr>\n",
       "      <th>1</th>\n",
       "      <td>2019-02-25</td>\n",
       "      <td>운동할 수 있는 장소가 있는 것이 좋다</td>\n",
       "      <td>5</td>\n",
       "      <td>21</td>\n",
       "    </tr>\n",
       "    <tr>\n",
       "      <th>2</th>\n",
       "      <td>2019-02-18</td>\n",
       "      <td>육아 지원이 좋다</td>\n",
       "      <td>5</td>\n",
       "      <td>9</td>\n",
       "    </tr>\n",
       "    <tr>\n",
       "      <th>3</th>\n",
       "      <td>2019-04-09</td>\n",
       "      <td>어린이집에 바로 입원할 수 있다</td>\n",
       "      <td>4</td>\n",
       "      <td>17</td>\n",
       "    </tr>\n",
       "    <tr>\n",
       "      <th>4</th>\n",
       "      <td>2019-01-06</td>\n",
       "      <td>역앞 상가가 쓸쓸하다</td>\n",
       "      <td>2</td>\n",
       "      <td>11</td>\n",
       "    </tr>\n",
       "    <tr>\n",
       "      <th>...</th>\n",
       "      <td>...</td>\n",
       "      <td>...</td>\n",
       "      <td>...</td>\n",
       "      <td>...</td>\n",
       "    </tr>\n",
       "    <tr>\n",
       "      <th>81</th>\n",
       "      <td>2019-01-21</td>\n",
       "      <td>초등학교 운동장이 잔디밭이라서 아주 좋다</td>\n",
       "      <td>5</td>\n",
       "      <td>22</td>\n",
       "    </tr>\n",
       "    <tr>\n",
       "      <th>82</th>\n",
       "      <td>2019-04-30</td>\n",
       "      <td>홈페이지에서도 설문지를 투고할 수 있게 해 달라</td>\n",
       "      <td>2</td>\n",
       "      <td>26</td>\n",
       "    </tr>\n",
       "    <tr>\n",
       "      <th>83</th>\n",
       "      <td>2019-01-09</td>\n",
       "      <td>공원에 놀이기구가 너무 적다</td>\n",
       "      <td>1</td>\n",
       "      <td>15</td>\n",
       "    </tr>\n",
       "    <tr>\n",
       "      <th>84</th>\n",
       "      <td>2019-03-09</td>\n",
       "      <td>공원을 더 늘렸으면 좋겠다</td>\n",
       "      <td>2</td>\n",
       "      <td>14</td>\n",
       "    </tr>\n",
       "    <tr>\n",
       "      <th>85</th>\n",
       "      <td>2019-04-02</td>\n",
       "      <td>역앞에 주차장이 적다, 불편하다</td>\n",
       "      <td>1</td>\n",
       "      <td>17</td>\n",
       "    </tr>\n",
       "  </tbody>\n",
       "</table>\n",
       "<p>84 rows × 4 columns</p>\n",
       "</div>"
      ],
      "text/plain": [
       "      datetime                     comment  satisfaction  length\n",
       "0   2019-03-11              역앞에 젊은이들이 모여있다             1      14\n",
       "1   2019-02-25       운동할 수 있는 장소가 있는 것이 좋다             5      21\n",
       "2   2019-02-18                   육아 지원이 좋다             5       9\n",
       "3   2019-04-09           어린이집에 바로 입원할 수 있다             4      17\n",
       "4   2019-01-06                 역앞 상가가 쓸쓸하다             2      11\n",
       "..         ...                         ...           ...     ...\n",
       "81  2019-01-21      초등학교 운동장이 잔디밭이라서 아주 좋다             5      22\n",
       "82  2019-04-30  홈페이지에서도 설문지를 투고할 수 있게 해 달라             2      26\n",
       "83  2019-01-09             공원에 놀이기구가 너무 적다             1      15\n",
       "84  2019-03-09              공원을 더 늘렸으면 좋겠다             2      14\n",
       "85  2019-04-02           역앞에 주차장이 적다, 불편하다             1      17\n",
       "\n",
       "[84 rows x 4 columns]"
      ]
     },
     "execution_count": 188,
     "metadata": {},
     "output_type": "execute_result"
    }
   ],
   "source": [
    "survey"
   ]
  },
  {
   "cell_type": "code",
   "execution_count": null,
   "metadata": {
    "id": "B1J0g55F1Udh",
    "outputId": "63033f8f-d4f6-4cf0-e309-687932c451e0"
   },
   "outputs": [
    {
     "name": "stdout",
     "output_type": "stream",
     "text": [
      "['역앞', '젊은이', '운동', '수', '장소', '것', '육아', '지원이', '어린이집', '바로', '입원', '수', '역앞', '상가', '생활', '놀', '장소', '놀', '장소', '상업시설', '좀', '더', '병원', '사이클링', '코스', '축제', '좀', '더', '성대', '초등학교', '공원', '더', '근처', '공원', '살기', '슈퍼', '육아', '데이트', '명소', '상가', '좀', '더', '밤길', '쓰레기', '처리', '영화관', '가로수', '더', '공원', '추가', '관광', '명소', '육아', '최고', '길이', '시내', '접근성', '집세', '합리', '의', '교통', '체증', '게', '해', '상가', '지붕', '비', '큰일', '상가', '더', '카페', '스포츠', '센터', '자주', '이용', '스포츠', '센터', '이용', '요금', '워킹맘', '지원', '더', '버스', '별로', '안', '자전거', '달리기', '달리기', '운동', '수', '장소', '기업', '역앞', '주차장', '아저씨', '말', '적', '경찰', '순찰', '더', '소방', '활동', '수', '재난', '시', '피난', '장소', '것', '요즘', '강', '범람', '피해', '크게', '이', '도시', '범람', '방지', '취하', '설명', '신호등', '사거리', '때문', '사고', '신호', '상가', '활성화', '활동', '좀더', '행정', '뒷받침', '아이', '놀', '장소', '역앞', '자전거', '주차장', '가로수', '낙엽', '청소', '가로수', '재해', '시', '비축', '상황', '보도', '길이', '수', '지역', '자치', '단체', '더', '지원', '자치', '단체', '활동', '안심', '살', '수', '관광지', '최근', '지방', '넘버', '치안', '제대로', '주차장', '수가', '요금', '역', '앞', '공공', '주차장', '보행자', '용', '신호', '노인', '어린이', '생각', '설정', '급행', '시내', '버스', '노선', '봄', '벚꽃', '길이', '최고', '벚꽃', '길', '더', '옆', '동네', '쓰레기', '처리', '시설', '걱정', '공해', '시장', '활기', '앙케이트', '제대로', '확인', '거리', '조성', '반영', '자세', '지난달', '직원', '비리', '의혹', '대해', '좀', '더', '설명', '달라', '시청', '담당자', '마음', '관공서', '출장소', '역전', '관공서', '토요일', '일요일', '재', '피난', '경로', '좀', '더', '표시', '시', '홈페이지', '관공서', '연결', '대응', '더', '시오', '골목', '동물원', '겨울철', '노면', '동결', '사고', '처리', '자연', '경관', '도둑고양이', '피해', '도둑고양이', '대책', '관공서', '상담', '때', '매우', '대해', '고속도로', '길이', '정체', '확장', '시', '마스코트', '걸', '야간', '병원', '불안', '고령자', '지원', '시설', '초등학교', '운동장', '잔디밭', '아주', '홈페이지', '설문지', '투고', '수', '해', '달라', '공원', '놀이기구', '공원', '더', '역앞', '주차장']\n"
     ]
    }
   ],
   "source": [
    "all_words = []\n",
    "parts =['Noun']\n",
    "for i in range(len(survey)):\n",
    "    text = survey['comment'].iloc[i]\n",
    "    words = twt.pos(text)\n",
    "    words_arr = []\n",
    "    for n in words:\n",
    "        if n =='EOS' or n ==\"\":continue\n",
    "        word_tmp=n[0]\n",
    "        part = n[1]\n",
    "        if not (part in parts):continue\n",
    "        words_arr.append(word_tmp)\n",
    "    all_words.extend(words_arr)\n",
    "print(all_words)"
   ]
  },
  {
   "cell_type": "markdown",
   "metadata": {
    "id": "0um7dZAU1Udh"
   },
   "source": [
    "### 필수과제 \n",
    "- 트위터에 대통령 선거 관련된 문자열 데이터 \n",
    "- 대통령 이름도 있고, 여러가지 후보자 이름도 있을 것\n",
    "- 정규식으로 전처리하시고, 실제 의미있는 키워드를 빈도를 추출하고\n",
    "- 후보자와 관련이 가장 깊은 키워든느 무엇인지? \n",
    "- 그걸 간단하게 시각화하여 실제로 어떤 후보자가 어떤 키워드를 가지고 있다는 것을 보여주세요!"
   ]
  },
  {
   "cell_type": "code",
   "execution_count": null,
   "metadata": {
    "id": "PFbo2d-E1Udh",
    "outputId": "85988652-56d9-465a-f858-1961ba7e1496"
   },
   "outputs": [
    {
     "data": {
      "text/plain": [
       "['역앞',\n",
       " '젊은이',\n",
       " '운동',\n",
       " '수',\n",
       " '장소',\n",
       " '것',\n",
       " '육아',\n",
       " '지원이',\n",
       " '어린이집',\n",
       " '바로',\n",
       " '입원',\n",
       " '수',\n",
       " '역앞',\n",
       " '상가',\n",
       " '생활',\n",
       " '놀',\n",
       " '장소',\n",
       " '놀',\n",
       " '장소',\n",
       " '상업시설',\n",
       " '좀',\n",
       " '더',\n",
       " '병원',\n",
       " '사이클링',\n",
       " '코스',\n",
       " '축제',\n",
       " '좀',\n",
       " '더',\n",
       " '성대',\n",
       " '초등학교',\n",
       " '공원',\n",
       " '더',\n",
       " '근처',\n",
       " '공원',\n",
       " '살기',\n",
       " '슈퍼',\n",
       " '육아',\n",
       " '데이트',\n",
       " '명소',\n",
       " '상가',\n",
       " '좀',\n",
       " '더',\n",
       " '밤길',\n",
       " '쓰레기',\n",
       " '처리',\n",
       " '영화관',\n",
       " '가로수',\n",
       " '더',\n",
       " '공원',\n",
       " '추가',\n",
       " '관광',\n",
       " '명소',\n",
       " '육아',\n",
       " '최고',\n",
       " '길이',\n",
       " '시내',\n",
       " '접근성',\n",
       " '집세',\n",
       " '합리',\n",
       " '의',\n",
       " '교통',\n",
       " '체증',\n",
       " '게',\n",
       " '해',\n",
       " '상가',\n",
       " '지붕',\n",
       " '비',\n",
       " '큰일',\n",
       " '상가',\n",
       " '더',\n",
       " '카페',\n",
       " '스포츠',\n",
       " '센터',\n",
       " '자주',\n",
       " '이용',\n",
       " '스포츠',\n",
       " '센터',\n",
       " '이용',\n",
       " '요금',\n",
       " '워킹맘',\n",
       " '지원',\n",
       " '더',\n",
       " '버스',\n",
       " '별로',\n",
       " '안',\n",
       " '자전거',\n",
       " '달리기',\n",
       " '달리기',\n",
       " '운동',\n",
       " '수',\n",
       " '장소',\n",
       " '기업',\n",
       " '역앞',\n",
       " '주차장',\n",
       " '아저씨',\n",
       " '말',\n",
       " '적',\n",
       " '경찰',\n",
       " '순찰',\n",
       " '더',\n",
       " '소방',\n",
       " '활동',\n",
       " '수',\n",
       " '재난',\n",
       " '시',\n",
       " '피난',\n",
       " '장소',\n",
       " '것',\n",
       " '요즘',\n",
       " '강',\n",
       " '범람',\n",
       " '피해',\n",
       " '크게',\n",
       " '이',\n",
       " '도시',\n",
       " '범람',\n",
       " '방지',\n",
       " '취하',\n",
       " '설명',\n",
       " '신호등',\n",
       " '사거리',\n",
       " '때문',\n",
       " '사고',\n",
       " '신호',\n",
       " '상가',\n",
       " '활성화',\n",
       " '활동',\n",
       " '좀더',\n",
       " '행정',\n",
       " '뒷받침',\n",
       " '아이',\n",
       " '놀',\n",
       " '장소',\n",
       " '역앞',\n",
       " '자전거',\n",
       " '주차장',\n",
       " '가로수',\n",
       " '낙엽',\n",
       " '청소',\n",
       " '가로수',\n",
       " '재해',\n",
       " '시',\n",
       " '비축',\n",
       " '상황',\n",
       " '보도',\n",
       " '길이',\n",
       " '수',\n",
       " '지역',\n",
       " '자치',\n",
       " '단체',\n",
       " '더',\n",
       " '지원',\n",
       " '자치',\n",
       " '단체',\n",
       " '활동',\n",
       " '안심',\n",
       " '살',\n",
       " '수',\n",
       " '관광지',\n",
       " '최근',\n",
       " '지방',\n",
       " '넘버',\n",
       " '치안',\n",
       " '제대로',\n",
       " '주차장',\n",
       " '수가',\n",
       " '요금',\n",
       " '역',\n",
       " '앞',\n",
       " '공공',\n",
       " '주차장',\n",
       " '보행자',\n",
       " '용',\n",
       " '신호',\n",
       " '노인',\n",
       " '어린이',\n",
       " '생각',\n",
       " '설정',\n",
       " '급행',\n",
       " '시내',\n",
       " '버스',\n",
       " '노선',\n",
       " '봄',\n",
       " '벚꽃',\n",
       " '길이',\n",
       " '최고',\n",
       " '벚꽃',\n",
       " '길',\n",
       " '더',\n",
       " '옆',\n",
       " '동네',\n",
       " '쓰레기',\n",
       " '처리',\n",
       " '시설',\n",
       " '걱정',\n",
       " '공해',\n",
       " '시장',\n",
       " '활기',\n",
       " '앙케이트',\n",
       " '제대로',\n",
       " '확인',\n",
       " '거리',\n",
       " '조성',\n",
       " '반영',\n",
       " '자세',\n",
       " '지난달',\n",
       " '직원',\n",
       " '비리',\n",
       " '의혹',\n",
       " '대해',\n",
       " '좀',\n",
       " '더',\n",
       " '설명',\n",
       " '달라',\n",
       " '시청',\n",
       " '담당자',\n",
       " '마음',\n",
       " '관공서',\n",
       " '출장소',\n",
       " '역전',\n",
       " '관공서',\n",
       " '토요일',\n",
       " '일요일',\n",
       " '재',\n",
       " '피난',\n",
       " '경로',\n",
       " '좀',\n",
       " '더',\n",
       " '표시',\n",
       " '시',\n",
       " '홈페이지',\n",
       " '관공서',\n",
       " '연결',\n",
       " '대응',\n",
       " '더',\n",
       " '시오',\n",
       " '골목',\n",
       " '동물원',\n",
       " '겨울철',\n",
       " '노면',\n",
       " '동결',\n",
       " '사고',\n",
       " '처리',\n",
       " '자연',\n",
       " '경관',\n",
       " '도둑고양이',\n",
       " '피해',\n",
       " '도둑고양이',\n",
       " '대책',\n",
       " '관공서',\n",
       " '상담',\n",
       " '때',\n",
       " '매우',\n",
       " '대해',\n",
       " '고속도로',\n",
       " '길이',\n",
       " '정체',\n",
       " '확장',\n",
       " '시',\n",
       " '마스코트',\n",
       " '걸',\n",
       " '야간',\n",
       " '병원',\n",
       " '불안',\n",
       " '고령자',\n",
       " '지원',\n",
       " '시설',\n",
       " '초등학교',\n",
       " '운동장',\n",
       " '잔디밭',\n",
       " '아주',\n",
       " '홈페이지',\n",
       " '설문지',\n",
       " '투고',\n",
       " '수',\n",
       " '해',\n",
       " '달라',\n",
       " '공원',\n",
       " '놀이기구',\n",
       " '공원',\n",
       " '더',\n",
       " '역앞',\n",
       " '주차장']"
      ]
     },
     "execution_count": 190,
     "metadata": {},
     "output_type": "execute_result"
    }
   ],
   "source": [
    "all_words"
   ]
  },
  {
   "cell_type": "code",
   "execution_count": null,
   "metadata": {
    "id": "D359Ci3J1Udh"
   },
   "outputs": [],
   "source": [
    "#카운팅 \n",
    "all_words_df = pd.DataFrame({'words':all_words, 'count':len(all_words)*[1]})"
   ]
  },
  {
   "cell_type": "code",
   "execution_count": null,
   "metadata": {
    "id": "dQRteAg21Udh",
    "outputId": "6c10ee3a-c3eb-4666-e1a3-01054520edcc"
   },
   "outputs": [
    {
     "data": {
      "text/html": [
       "<div>\n",
       "<style scoped>\n",
       "    .dataframe tbody tr th:only-of-type {\n",
       "        vertical-align: middle;\n",
       "    }\n",
       "\n",
       "    .dataframe tbody tr th {\n",
       "        vertical-align: top;\n",
       "    }\n",
       "\n",
       "    .dataframe thead th {\n",
       "        text-align: right;\n",
       "    }\n",
       "</style>\n",
       "<table border=\"1\" class=\"dataframe\">\n",
       "  <thead>\n",
       "    <tr style=\"text-align: right;\">\n",
       "      <th></th>\n",
       "      <th>count</th>\n",
       "    </tr>\n",
       "    <tr>\n",
       "      <th>words</th>\n",
       "      <th></th>\n",
       "    </tr>\n",
       "  </thead>\n",
       "  <tbody>\n",
       "    <tr>\n",
       "      <th>가로수</th>\n",
       "      <td>3</td>\n",
       "    </tr>\n",
       "    <tr>\n",
       "      <th>강</th>\n",
       "      <td>1</td>\n",
       "    </tr>\n",
       "    <tr>\n",
       "      <th>거리</th>\n",
       "      <td>1</td>\n",
       "    </tr>\n",
       "    <tr>\n",
       "      <th>걱정</th>\n",
       "      <td>1</td>\n",
       "    </tr>\n",
       "    <tr>\n",
       "      <th>걸</th>\n",
       "      <td>1</td>\n",
       "    </tr>\n",
       "    <tr>\n",
       "      <th>...</th>\n",
       "      <td>...</td>\n",
       "    </tr>\n",
       "    <tr>\n",
       "      <th>확인</th>\n",
       "      <td>1</td>\n",
       "    </tr>\n",
       "    <tr>\n",
       "      <th>확장</th>\n",
       "      <td>1</td>\n",
       "    </tr>\n",
       "    <tr>\n",
       "      <th>활기</th>\n",
       "      <td>1</td>\n",
       "    </tr>\n",
       "    <tr>\n",
       "      <th>활동</th>\n",
       "      <td>3</td>\n",
       "    </tr>\n",
       "    <tr>\n",
       "      <th>활성화</th>\n",
       "      <td>1</td>\n",
       "    </tr>\n",
       "  </tbody>\n",
       "</table>\n",
       "<p>187 rows × 1 columns</p>\n",
       "</div>"
      ],
      "text/plain": [
       "       count\n",
       "words       \n",
       "가로수        3\n",
       "강          1\n",
       "거리         1\n",
       "걱정         1\n",
       "걸          1\n",
       "...      ...\n",
       "확인         1\n",
       "확장         1\n",
       "활기         1\n",
       "활동         3\n",
       "활성화        1\n",
       "\n",
       "[187 rows x 1 columns]"
      ]
     },
     "execution_count": 192,
     "metadata": {},
     "output_type": "execute_result"
    }
   ],
   "source": [
    "all_words_df.groupby('words').sum()"
   ]
  },
  {
   "cell_type": "markdown",
   "metadata": {
    "id": "BTP2epp-1Udh"
   },
   "source": [
    "### 불용어 처리해보자!\n",
    "- 불용어라는 건 의미 없는 단어 형태로 나누다 보면 수 잘못 나눠진 것들\n",
    "- 이런 것들을 제거하고 다시 분석을 하려는 것\n",
    "- 불용어는 불용어 사전이 있어서 그걸 사용하시면 된다.\n",
    "- 내가 원하는 불용어를 직접 제거하는 법을 보자!"
   ]
  },
  {
   "cell_type": "code",
   "execution_count": null,
   "metadata": {
    "id": "FBkvnR-51Udh"
   },
   "outputs": [],
   "source": [
    "words_df_1= all_words_df.groupby('words').sum()"
   ]
  },
  {
   "cell_type": "code",
   "execution_count": null,
   "metadata": {
    "id": "t2Y2buKR1Udh",
    "outputId": "978ba5ea-4c90-4925-c6bb-7bfa3c576920"
   },
   "outputs": [
    {
     "data": {
      "text/html": [
       "<div>\n",
       "<style scoped>\n",
       "    .dataframe tbody tr th:only-of-type {\n",
       "        vertical-align: middle;\n",
       "    }\n",
       "\n",
       "    .dataframe tbody tr th {\n",
       "        vertical-align: top;\n",
       "    }\n",
       "\n",
       "    .dataframe thead th {\n",
       "        text-align: right;\n",
       "    }\n",
       "</style>\n",
       "<table border=\"1\" class=\"dataframe\">\n",
       "  <thead>\n",
       "    <tr style=\"text-align: right;\">\n",
       "      <th></th>\n",
       "      <th>count</th>\n",
       "    </tr>\n",
       "    <tr>\n",
       "      <th>words</th>\n",
       "      <th></th>\n",
       "    </tr>\n",
       "  </thead>\n",
       "  <tbody>\n",
       "    <tr>\n",
       "      <th>더</th>\n",
       "      <td>14</td>\n",
       "    </tr>\n",
       "    <tr>\n",
       "      <th>수</th>\n",
       "      <td>7</td>\n",
       "    </tr>\n",
       "    <tr>\n",
       "      <th>장소</th>\n",
       "      <td>6</td>\n",
       "    </tr>\n",
       "    <tr>\n",
       "      <th>주차장</th>\n",
       "      <td>5</td>\n",
       "    </tr>\n",
       "    <tr>\n",
       "      <th>좀</th>\n",
       "      <td>5</td>\n",
       "    </tr>\n",
       "    <tr>\n",
       "      <th>역앞</th>\n",
       "      <td>5</td>\n",
       "    </tr>\n",
       "    <tr>\n",
       "      <th>상가</th>\n",
       "      <td>5</td>\n",
       "    </tr>\n",
       "    <tr>\n",
       "      <th>공원</th>\n",
       "      <td>5</td>\n",
       "    </tr>\n",
       "    <tr>\n",
       "      <th>시</th>\n",
       "      <td>4</td>\n",
       "    </tr>\n",
       "    <tr>\n",
       "      <th>관공서</th>\n",
       "      <td>4</td>\n",
       "    </tr>\n",
       "    <tr>\n",
       "      <th>길이</th>\n",
       "      <td>4</td>\n",
       "    </tr>\n",
       "    <tr>\n",
       "      <th>활동</th>\n",
       "      <td>3</td>\n",
       "    </tr>\n",
       "    <tr>\n",
       "      <th>처리</th>\n",
       "      <td>3</td>\n",
       "    </tr>\n",
       "    <tr>\n",
       "      <th>지원</th>\n",
       "      <td>3</td>\n",
       "    </tr>\n",
       "    <tr>\n",
       "      <th>육아</th>\n",
       "      <td>3</td>\n",
       "    </tr>\n",
       "    <tr>\n",
       "      <th>놀</th>\n",
       "      <td>3</td>\n",
       "    </tr>\n",
       "    <tr>\n",
       "      <th>가로수</th>\n",
       "      <td>3</td>\n",
       "    </tr>\n",
       "    <tr>\n",
       "      <th>스포츠</th>\n",
       "      <td>2</td>\n",
       "    </tr>\n",
       "    <tr>\n",
       "      <th>자전거</th>\n",
       "      <td>2</td>\n",
       "    </tr>\n",
       "    <tr>\n",
       "      <th>도둑고양이</th>\n",
       "      <td>2</td>\n",
       "    </tr>\n",
       "  </tbody>\n",
       "</table>\n",
       "</div>"
      ],
      "text/plain": [
       "       count\n",
       "words       \n",
       "더         14\n",
       "수          7\n",
       "장소         6\n",
       "주차장        5\n",
       "좀          5\n",
       "역앞         5\n",
       "상가         5\n",
       "공원         5\n",
       "시          4\n",
       "관공서        4\n",
       "길이         4\n",
       "활동         3\n",
       "처리         3\n",
       "지원         3\n",
       "육아         3\n",
       "놀          3\n",
       "가로수        3\n",
       "스포츠        2\n",
       "자전거        2\n",
       "도둑고양이      2"
      ]
     },
     "execution_count": 194,
     "metadata": {},
     "output_type": "execute_result"
    }
   ],
   "source": [
    "words_df_1.sort_values('count',ascending=False).head(20)"
   ]
  },
  {
   "cell_type": "markdown",
   "metadata": {
    "id": "ylDVikuc1Udh"
   },
   "source": [
    "- 수업의 예를 위해서 더, 수, 좀 "
   ]
  },
  {
   "cell_type": "code",
   "execution_count": null,
   "metadata": {
    "id": "2gQu0kWB1Udh",
    "outputId": "b79ff461-1a38-478e-b1e7-094db6888c50"
   },
   "outputs": [
    {
     "data": {
      "text/html": [
       "<div>\n",
       "<style scoped>\n",
       "    .dataframe tbody tr th:only-of-type {\n",
       "        vertical-align: middle;\n",
       "    }\n",
       "\n",
       "    .dataframe tbody tr th {\n",
       "        vertical-align: top;\n",
       "    }\n",
       "\n",
       "    .dataframe thead th {\n",
       "        text-align: right;\n",
       "    }\n",
       "</style>\n",
       "<table border=\"1\" class=\"dataframe\">\n",
       "  <thead>\n",
       "    <tr style=\"text-align: right;\">\n",
       "      <th></th>\n",
       "      <th>datetime</th>\n",
       "      <th>comment</th>\n",
       "      <th>satisfaction</th>\n",
       "      <th>length</th>\n",
       "    </tr>\n",
       "  </thead>\n",
       "  <tbody>\n",
       "    <tr>\n",
       "      <th>0</th>\n",
       "      <td>2019-03-11</td>\n",
       "      <td>역앞에 젊은이들이 모여있다</td>\n",
       "      <td>1</td>\n",
       "      <td>14</td>\n",
       "    </tr>\n",
       "    <tr>\n",
       "      <th>1</th>\n",
       "      <td>2019-02-25</td>\n",
       "      <td>운동할 수 있는 장소가 있는 것이 좋다</td>\n",
       "      <td>5</td>\n",
       "      <td>21</td>\n",
       "    </tr>\n",
       "    <tr>\n",
       "      <th>2</th>\n",
       "      <td>2019-02-18</td>\n",
       "      <td>육아 지원이 좋다</td>\n",
       "      <td>5</td>\n",
       "      <td>9</td>\n",
       "    </tr>\n",
       "    <tr>\n",
       "      <th>3</th>\n",
       "      <td>2019-04-09</td>\n",
       "      <td>어린이집에 바로 입원할 수 있다</td>\n",
       "      <td>4</td>\n",
       "      <td>17</td>\n",
       "    </tr>\n",
       "    <tr>\n",
       "      <th>4</th>\n",
       "      <td>2019-01-06</td>\n",
       "      <td>역앞 상가가 쓸쓸하다</td>\n",
       "      <td>2</td>\n",
       "      <td>11</td>\n",
       "    </tr>\n",
       "    <tr>\n",
       "      <th>...</th>\n",
       "      <td>...</td>\n",
       "      <td>...</td>\n",
       "      <td>...</td>\n",
       "      <td>...</td>\n",
       "    </tr>\n",
       "    <tr>\n",
       "      <th>81</th>\n",
       "      <td>2019-01-21</td>\n",
       "      <td>초등학교 운동장이 잔디밭이라서 아주 좋다</td>\n",
       "      <td>5</td>\n",
       "      <td>22</td>\n",
       "    </tr>\n",
       "    <tr>\n",
       "      <th>82</th>\n",
       "      <td>2019-04-30</td>\n",
       "      <td>홈페이지에서도 설문지를 투고할 수 있게 해 달라</td>\n",
       "      <td>2</td>\n",
       "      <td>26</td>\n",
       "    </tr>\n",
       "    <tr>\n",
       "      <th>83</th>\n",
       "      <td>2019-01-09</td>\n",
       "      <td>공원에 놀이기구가 너무 적다</td>\n",
       "      <td>1</td>\n",
       "      <td>15</td>\n",
       "    </tr>\n",
       "    <tr>\n",
       "      <th>84</th>\n",
       "      <td>2019-03-09</td>\n",
       "      <td>공원을 더 늘렸으면 좋겠다</td>\n",
       "      <td>2</td>\n",
       "      <td>14</td>\n",
       "    </tr>\n",
       "    <tr>\n",
       "      <th>85</th>\n",
       "      <td>2019-04-02</td>\n",
       "      <td>역앞에 주차장이 적다, 불편하다</td>\n",
       "      <td>1</td>\n",
       "      <td>17</td>\n",
       "    </tr>\n",
       "  </tbody>\n",
       "</table>\n",
       "<p>84 rows × 4 columns</p>\n",
       "</div>"
      ],
      "text/plain": [
       "      datetime                     comment  satisfaction  length\n",
       "0   2019-03-11              역앞에 젊은이들이 모여있다             1      14\n",
       "1   2019-02-25       운동할 수 있는 장소가 있는 것이 좋다             5      21\n",
       "2   2019-02-18                   육아 지원이 좋다             5       9\n",
       "3   2019-04-09           어린이집에 바로 입원할 수 있다             4      17\n",
       "4   2019-01-06                 역앞 상가가 쓸쓸하다             2      11\n",
       "..         ...                         ...           ...     ...\n",
       "81  2019-01-21      초등학교 운동장이 잔디밭이라서 아주 좋다             5      22\n",
       "82  2019-04-30  홈페이지에서도 설문지를 투고할 수 있게 해 달라             2      26\n",
       "83  2019-01-09             공원에 놀이기구가 너무 적다             1      15\n",
       "84  2019-03-09              공원을 더 늘렸으면 좋겠다             2      14\n",
       "85  2019-04-02           역앞에 주차장이 적다, 불편하다             1      17\n",
       "\n",
       "[84 rows x 4 columns]"
      ]
     },
     "execution_count": 195,
     "metadata": {},
     "output_type": "execute_result"
    }
   ],
   "source": [
    "survey"
   ]
  },
  {
   "cell_type": "code",
   "execution_count": null,
   "metadata": {
    "id": "nc1g8wCa1Udi",
    "outputId": "9dab0fc7-4894-448a-9e0a-5bb1faa84740"
   },
   "outputs": [
    {
     "name": "stdout",
     "output_type": "stream",
     "text": [
      "['역앞', '젊은이', '운동', '장소', '것', '육아', '지원이', '어린이집', '바로', '입원', '역앞', '상가', '생활', '장소', '장소', '상업시설', '병원', '사이클링', '코스', '축제', '성대', '초등학교', '공원', '근처', '공원', '살기', '슈퍼', '육아', '데이트', '명소', '상가', '밤길', '쓰레기', '처리', '영화관', '가로수', '공원', '추가', '관광', '명소', '육아', '최고', '길이', '시내', '접근성', '집세', '합리', '의', '교통', '체증', '게', '해', '상가', '지붕', '비', '큰일', '상가', '카페', '스포츠', '센터', '자주', '이용', '스포츠', '센터', '이용', '요금', '워킹맘', '지원', '버스', '별로', '안', '자전거', '달리기', '달리기', '운동', '장소', '기업', '역앞', '주차장', '아저씨', '말', '적', '경찰', '순찰', '소방', '활동', '재난', '피난', '장소', '것', '요즘', '강', '범람', '피해', '크게', '이', '도시', '범람', '방지', '취하', '설명', '신호등', '사거리', '때문', '사고', '신호', '상가', '활성화', '활동', '좀더', '행정', '뒷받침', '아이', '장소', '역앞', '자전거', '주차장', '가로수', '낙엽', '청소', '가로수', '재해', '비축', '상황', '보도', '길이', '지역', '자치', '단체', '지원', '자치', '단체', '활동', '안심', '살', '관광지', '최근', '지방', '넘버', '치안', '제대로', '주차장', '수가', '요금', '역', '앞', '공공', '주차장', '보행자', '용', '신호', '노인', '어린이', '생각', '설정', '급행', '시내', '버스', '노선', '봄', '벚꽃', '길이', '최고', '벚꽃', '길', '옆', '동네', '쓰레기', '처리', '시설', '걱정', '공해', '시장', '활기', '앙케이트', '제대로', '확인', '거리', '조성', '반영', '자세', '지난달', '직원', '비리', '의혹', '대해', '설명', '달라', '시청', '담당자', '마음', '관공서', '출장소', '역전', '관공서', '토요일', '일요일', '재', '피난', '경로', '표시', '홈페이지', '관공서', '연결', '대응', '시오', '골목', '동물원', '겨울철', '노면', '동결', '사고', '처리', '자연', '경관', '도둑고양이', '피해', '도둑고양이', '대책', '관공서', '상담', '때', '매우', '대해', '고속도로', '길이', '정체', '확장', '마스코트', '걸', '야간', '병원', '불안', '고령자', '지원', '시설', '초등학교', '운동장', '잔디밭', '아주', '홈페이지', '설문지', '투고', '해', '달라', '공원', '놀이기구', '공원', '역앞', '주차장']\n"
     ]
    }
   ],
   "source": [
    "stop_words = ['더','수','좀','시','놀']\n",
    "all_words = []\n",
    "parts =['Noun']\n",
    "satisfaction = []\n",
    "\n",
    "for i in range(len(survey)):\n",
    "    text = survey['comment'].iloc[i]\n",
    "    words = twt.pos(text)\n",
    "    words_arr = []\n",
    "    for n in words:\n",
    "        if n =='EOS' or n ==\"\":continue\n",
    "        word_tmp=n[0]\n",
    "        part = n[1]\n",
    "        if not (part in parts):continue\n",
    "        if word_tmp in stop_words:continue\n",
    "        words_arr.append(word_tmp)\n",
    "        satisfaction.append(survey['satisfaction'].iloc[i])\n",
    "    all_words.extend(words_arr)\n",
    "print(all_words)\n",
    "\n",
    "all_words_df_t = pd.DataFrame({'words':all_words, 'satisfaction':satisfaction,\n",
    "                              'count':len(all_words)*[1]})"
   ]
  },
  {
   "cell_type": "code",
   "execution_count": null,
   "metadata": {
    "id": "Z4EFSHKh1Udi",
    "outputId": "2ecec3ee-0970-4441-a5e2-2228cc8c3952"
   },
   "outputs": [
    {
     "data": {
      "text/plain": [
       "words\n",
       "가로수     5\n",
       "강       3\n",
       "거리      5\n",
       "걱정      2\n",
       "걸       2\n",
       "       ..\n",
       "확인      5\n",
       "확장      1\n",
       "활기      4\n",
       "활동     10\n",
       "활성화     1\n",
       "Name: satisfaction, Length: 182, dtype: int64"
      ]
     },
     "execution_count": 197,
     "metadata": {},
     "output_type": "execute_result"
    }
   ],
   "source": [
    "#만족도 점수가 높은 경우? 어떤 Words있나?\n",
    "all_words_df_t.groupby('words').sum()['satisfaction']"
   ]
  },
  {
   "cell_type": "markdown",
   "metadata": {
    "id": "PooaT0Jq1Udi"
   },
   "source": [
    "- 만족도 점수를 기반으로 해서 코사인 유사도, 다양한 기술적인 지표가 있는데\n",
    "- 코사인 유사도로 리뷰에 대한 분석을 진행하려고 한다."
   ]
  },
  {
   "cell_type": "code",
   "execution_count": null,
   "metadata": {
    "id": "PoeiPcUB1Udi"
   },
   "outputs": [],
   "source": [
    "words_sf = all_words_df_t.groupby('words').mean()['satisfaction']\n",
    "words_count = all_words_df_t.groupby('words').sum()['count']\n",
    "words_df= pd.concat([words_sf, words_count], axis=1)"
   ]
  },
  {
   "cell_type": "code",
   "execution_count": null,
   "metadata": {
    "id": "-wQwBFLs1Udi",
    "outputId": "c12d6cc1-c472-4140-c033-d36e1a6afe04"
   },
   "outputs": [
    {
     "data": {
      "text/html": [
       "<div>\n",
       "<style scoped>\n",
       "    .dataframe tbody tr th:only-of-type {\n",
       "        vertical-align: middle;\n",
       "    }\n",
       "\n",
       "    .dataframe tbody tr th {\n",
       "        vertical-align: top;\n",
       "    }\n",
       "\n",
       "    .dataframe thead th {\n",
       "        text-align: right;\n",
       "    }\n",
       "</style>\n",
       "<table border=\"1\" class=\"dataframe\">\n",
       "  <thead>\n",
       "    <tr style=\"text-align: right;\">\n",
       "      <th></th>\n",
       "      <th>satisfaction</th>\n",
       "      <th>count</th>\n",
       "    </tr>\n",
       "    <tr>\n",
       "      <th>words</th>\n",
       "      <th></th>\n",
       "      <th></th>\n",
       "    </tr>\n",
       "  </thead>\n",
       "  <tbody>\n",
       "    <tr>\n",
       "      <th>가로수</th>\n",
       "      <td>1.666667</td>\n",
       "      <td>3</td>\n",
       "    </tr>\n",
       "    <tr>\n",
       "      <th>강</th>\n",
       "      <td>3.000000</td>\n",
       "      <td>1</td>\n",
       "    </tr>\n",
       "    <tr>\n",
       "      <th>거리</th>\n",
       "      <td>5.000000</td>\n",
       "      <td>1</td>\n",
       "    </tr>\n",
       "    <tr>\n",
       "      <th>걱정</th>\n",
       "      <td>2.000000</td>\n",
       "      <td>1</td>\n",
       "    </tr>\n",
       "    <tr>\n",
       "      <th>걸</th>\n",
       "      <td>2.000000</td>\n",
       "      <td>1</td>\n",
       "    </tr>\n",
       "    <tr>\n",
       "      <th>...</th>\n",
       "      <td>...</td>\n",
       "      <td>...</td>\n",
       "    </tr>\n",
       "    <tr>\n",
       "      <th>확인</th>\n",
       "      <td>5.000000</td>\n",
       "      <td>1</td>\n",
       "    </tr>\n",
       "    <tr>\n",
       "      <th>확장</th>\n",
       "      <td>1.000000</td>\n",
       "      <td>1</td>\n",
       "    </tr>\n",
       "    <tr>\n",
       "      <th>활기</th>\n",
       "      <td>4.000000</td>\n",
       "      <td>1</td>\n",
       "    </tr>\n",
       "    <tr>\n",
       "      <th>활동</th>\n",
       "      <td>3.333333</td>\n",
       "      <td>3</td>\n",
       "    </tr>\n",
       "    <tr>\n",
       "      <th>활성화</th>\n",
       "      <td>1.000000</td>\n",
       "      <td>1</td>\n",
       "    </tr>\n",
       "  </tbody>\n",
       "</table>\n",
       "<p>182 rows × 2 columns</p>\n",
       "</div>"
      ],
      "text/plain": [
       "       satisfaction  count\n",
       "words                     \n",
       "가로수        1.666667      3\n",
       "강          3.000000      1\n",
       "거리         5.000000      1\n",
       "걱정         2.000000      1\n",
       "걸          2.000000      1\n",
       "...             ...    ...\n",
       "확인         5.000000      1\n",
       "확장         1.000000      1\n",
       "활기         4.000000      1\n",
       "활동         3.333333      3\n",
       "활성화        1.000000      1\n",
       "\n",
       "[182 rows x 2 columns]"
      ]
     },
     "execution_count": 199,
     "metadata": {},
     "output_type": "execute_result"
    }
   ],
   "source": [
    "words_df"
   ]
  },
  {
   "cell_type": "code",
   "execution_count": null,
   "metadata": {
    "id": "f_D22BD_1Udi",
    "outputId": "073918b5-24a8-477a-cf6e-34699be428e9"
   },
   "outputs": [
    {
     "data": {
      "text/html": [
       "<div>\n",
       "<style scoped>\n",
       "    .dataframe tbody tr th:only-of-type {\n",
       "        vertical-align: middle;\n",
       "    }\n",
       "\n",
       "    .dataframe tbody tr th {\n",
       "        vertical-align: top;\n",
       "    }\n",
       "\n",
       "    .dataframe thead th {\n",
       "        text-align: right;\n",
       "    }\n",
       "</style>\n",
       "<table border=\"1\" class=\"dataframe\">\n",
       "  <thead>\n",
       "    <tr style=\"text-align: right;\">\n",
       "      <th></th>\n",
       "      <th>satisfaction</th>\n",
       "      <th>count</th>\n",
       "    </tr>\n",
       "    <tr>\n",
       "      <th>words</th>\n",
       "      <th></th>\n",
       "      <th></th>\n",
       "    </tr>\n",
       "  </thead>\n",
       "  <tbody>\n",
       "    <tr>\n",
       "      <th>가로수</th>\n",
       "      <td>1.666667</td>\n",
       "      <td>3</td>\n",
       "    </tr>\n",
       "    <tr>\n",
       "      <th>강</th>\n",
       "      <td>3.000000</td>\n",
       "      <td>1</td>\n",
       "    </tr>\n",
       "    <tr>\n",
       "      <th>거리</th>\n",
       "      <td>5.000000</td>\n",
       "      <td>1</td>\n",
       "    </tr>\n",
       "    <tr>\n",
       "      <th>걱정</th>\n",
       "      <td>2.000000</td>\n",
       "      <td>1</td>\n",
       "    </tr>\n",
       "    <tr>\n",
       "      <th>걸</th>\n",
       "      <td>2.000000</td>\n",
       "      <td>1</td>\n",
       "    </tr>\n",
       "    <tr>\n",
       "      <th>...</th>\n",
       "      <td>...</td>\n",
       "      <td>...</td>\n",
       "    </tr>\n",
       "    <tr>\n",
       "      <th>확인</th>\n",
       "      <td>5.000000</td>\n",
       "      <td>1</td>\n",
       "    </tr>\n",
       "    <tr>\n",
       "      <th>확장</th>\n",
       "      <td>1.000000</td>\n",
       "      <td>1</td>\n",
       "    </tr>\n",
       "    <tr>\n",
       "      <th>활기</th>\n",
       "      <td>4.000000</td>\n",
       "      <td>1</td>\n",
       "    </tr>\n",
       "    <tr>\n",
       "      <th>활동</th>\n",
       "      <td>3.333333</td>\n",
       "      <td>3</td>\n",
       "    </tr>\n",
       "    <tr>\n",
       "      <th>활성화</th>\n",
       "      <td>1.000000</td>\n",
       "      <td>1</td>\n",
       "    </tr>\n",
       "  </tbody>\n",
       "</table>\n",
       "<p>182 rows × 2 columns</p>\n",
       "</div>"
      ],
      "text/plain": [
       "       satisfaction  count\n",
       "words                     \n",
       "가로수        1.666667      3\n",
       "강          3.000000      1\n",
       "거리         5.000000      1\n",
       "걱정         2.000000      1\n",
       "걸          2.000000      1\n",
       "...             ...    ...\n",
       "확인         5.000000      1\n",
       "확장         1.000000      1\n",
       "활기         4.000000      1\n",
       "활동         3.333333      3\n",
       "활성화        1.000000      1\n",
       "\n",
       "[182 rows x 2 columns]"
      ]
     },
     "execution_count": 200,
     "metadata": {},
     "output_type": "execute_result"
    }
   ],
   "source": [
    "words_df"
   ]
  },
  {
   "cell_type": "code",
   "execution_count": null,
   "metadata": {
    "id": "523-e8AC1Udi"
   },
   "outputs": [],
   "source": [
    "# 카운트가 많이 나오는 걸 기준으로 데이터를 추려보면\n",
    "words_df = words_df[words_df['count'] >=3]"
   ]
  },
  {
   "cell_type": "code",
   "execution_count": null,
   "metadata": {
    "id": "G0S5xV9q1Udi",
    "outputId": "36b355af-9122-4d45-e652-f101dca3bd56"
   },
   "outputs": [
    {
     "data": {
      "text/html": [
       "<div>\n",
       "<style scoped>\n",
       "    .dataframe tbody tr th:only-of-type {\n",
       "        vertical-align: middle;\n",
       "    }\n",
       "\n",
       "    .dataframe tbody tr th {\n",
       "        vertical-align: top;\n",
       "    }\n",
       "\n",
       "    .dataframe thead th {\n",
       "        text-align: right;\n",
       "    }\n",
       "</style>\n",
       "<table border=\"1\" class=\"dataframe\">\n",
       "  <thead>\n",
       "    <tr style=\"text-align: right;\">\n",
       "      <th></th>\n",
       "      <th>satisfaction</th>\n",
       "      <th>count</th>\n",
       "    </tr>\n",
       "    <tr>\n",
       "      <th>words</th>\n",
       "      <th></th>\n",
       "      <th></th>\n",
       "    </tr>\n",
       "  </thead>\n",
       "  <tbody>\n",
       "    <tr>\n",
       "      <th>가로수</th>\n",
       "      <td>1.666667</td>\n",
       "      <td>3</td>\n",
       "    </tr>\n",
       "    <tr>\n",
       "      <th>공원</th>\n",
       "      <td>2.200000</td>\n",
       "      <td>5</td>\n",
       "    </tr>\n",
       "    <tr>\n",
       "      <th>관공서</th>\n",
       "      <td>3.500000</td>\n",
       "      <td>4</td>\n",
       "    </tr>\n",
       "    <tr>\n",
       "      <th>길이</th>\n",
       "      <td>3.500000</td>\n",
       "      <td>4</td>\n",
       "    </tr>\n",
       "    <tr>\n",
       "      <th>상가</th>\n",
       "      <td>2.200000</td>\n",
       "      <td>5</td>\n",
       "    </tr>\n",
       "    <tr>\n",
       "      <th>역앞</th>\n",
       "      <td>1.200000</td>\n",
       "      <td>5</td>\n",
       "    </tr>\n",
       "    <tr>\n",
       "      <th>육아</th>\n",
       "      <td>4.333333</td>\n",
       "      <td>3</td>\n",
       "    </tr>\n",
       "    <tr>\n",
       "      <th>장소</th>\n",
       "      <td>3.000000</td>\n",
       "      <td>6</td>\n",
       "    </tr>\n",
       "    <tr>\n",
       "      <th>주차장</th>\n",
       "      <td>1.000000</td>\n",
       "      <td>5</td>\n",
       "    </tr>\n",
       "    <tr>\n",
       "      <th>지원</th>\n",
       "      <td>2.000000</td>\n",
       "      <td>3</td>\n",
       "    </tr>\n",
       "    <tr>\n",
       "      <th>처리</th>\n",
       "      <td>2.333333</td>\n",
       "      <td>3</td>\n",
       "    </tr>\n",
       "    <tr>\n",
       "      <th>활동</th>\n",
       "      <td>3.333333</td>\n",
       "      <td>3</td>\n",
       "    </tr>\n",
       "  </tbody>\n",
       "</table>\n",
       "</div>"
      ],
      "text/plain": [
       "       satisfaction  count\n",
       "words                     \n",
       "가로수        1.666667      3\n",
       "공원         2.200000      5\n",
       "관공서        3.500000      4\n",
       "길이         3.500000      4\n",
       "상가         2.200000      5\n",
       "역앞         1.200000      5\n",
       "육아         4.333333      3\n",
       "장소         3.000000      6\n",
       "주차장        1.000000      5\n",
       "지원         2.000000      3\n",
       "처리         2.333333      3\n",
       "활동         3.333333      3"
      ]
     },
     "execution_count": 202,
     "metadata": {},
     "output_type": "execute_result"
    }
   ],
   "source": [
    "words_df"
   ]
  },
  {
   "cell_type": "markdown",
   "metadata": {
    "id": "l6MGtfJA1Udi"
   },
   "source": [
    "- 코사인 유사도를 통해 리뷰 연관되는 것을 찾아보자!"
   ]
  },
  {
   "cell_type": "code",
   "execution_count": null,
   "metadata": {
    "id": "slWbVx9D1Udi",
    "outputId": "88c4dbe7-0f83-42bb-a120-3adab556821d"
   },
   "outputs": [
    {
     "data": {
      "text/html": [
       "<div>\n",
       "<style scoped>\n",
       "    .dataframe tbody tr th:only-of-type {\n",
       "        vertical-align: middle;\n",
       "    }\n",
       "\n",
       "    .dataframe tbody tr th {\n",
       "        vertical-align: top;\n",
       "    }\n",
       "\n",
       "    .dataframe thead th {\n",
       "        text-align: right;\n",
       "    }\n",
       "</style>\n",
       "<table border=\"1\" class=\"dataframe\">\n",
       "  <thead>\n",
       "    <tr style=\"text-align: right;\">\n",
       "      <th></th>\n",
       "      <th>words</th>\n",
       "      <th>count</th>\n",
       "    </tr>\n",
       "  </thead>\n",
       "  <tbody>\n",
       "    <tr>\n",
       "      <th>0</th>\n",
       "      <td>역앞</td>\n",
       "      <td>1</td>\n",
       "    </tr>\n",
       "    <tr>\n",
       "      <th>1</th>\n",
       "      <td>젊은이</td>\n",
       "      <td>1</td>\n",
       "    </tr>\n",
       "    <tr>\n",
       "      <th>2</th>\n",
       "      <td>운동</td>\n",
       "      <td>1</td>\n",
       "    </tr>\n",
       "    <tr>\n",
       "      <th>3</th>\n",
       "      <td>수</td>\n",
       "      <td>1</td>\n",
       "    </tr>\n",
       "    <tr>\n",
       "      <th>4</th>\n",
       "      <td>장소</td>\n",
       "      <td>1</td>\n",
       "    </tr>\n",
       "    <tr>\n",
       "      <th>...</th>\n",
       "      <td>...</td>\n",
       "      <td>...</td>\n",
       "    </tr>\n",
       "    <tr>\n",
       "      <th>278</th>\n",
       "      <td>놀이기구</td>\n",
       "      <td>1</td>\n",
       "    </tr>\n",
       "    <tr>\n",
       "      <th>279</th>\n",
       "      <td>공원</td>\n",
       "      <td>1</td>\n",
       "    </tr>\n",
       "    <tr>\n",
       "      <th>280</th>\n",
       "      <td>더</td>\n",
       "      <td>1</td>\n",
       "    </tr>\n",
       "    <tr>\n",
       "      <th>281</th>\n",
       "      <td>역앞</td>\n",
       "      <td>1</td>\n",
       "    </tr>\n",
       "    <tr>\n",
       "      <th>282</th>\n",
       "      <td>주차장</td>\n",
       "      <td>1</td>\n",
       "    </tr>\n",
       "  </tbody>\n",
       "</table>\n",
       "<p>283 rows × 2 columns</p>\n",
       "</div>"
      ],
      "text/plain": [
       "    words  count\n",
       "0      역앞      1\n",
       "1     젊은이      1\n",
       "2      운동      1\n",
       "3       수      1\n",
       "4      장소      1\n",
       "..    ...    ...\n",
       "278  놀이기구      1\n",
       "279    공원      1\n",
       "280     더      1\n",
       "281    역앞      1\n",
       "282   주차장      1\n",
       "\n",
       "[283 rows x 2 columns]"
      ]
     },
     "execution_count": 203,
     "metadata": {},
     "output_type": "execute_result"
    }
   ],
   "source": [
    "all_words_df"
   ]
  },
  {
   "cell_type": "code",
   "execution_count": null,
   "metadata": {
    "id": "IKmfcre81Udj"
   },
   "outputs": [],
   "source": [
    "#survey #na, 1로 형태로를 나눈 것을 하나의 데이터프레임으로 만들어서 값을 계산할 수 있게 만든다."
   ]
  },
  {
   "cell_type": "code",
   "execution_count": null,
   "metadata": {
    "id": "fkILzCH71Udj",
    "outputId": "1b149dda-e0f1-4449-b9ee-f02cca028a0c"
   },
   "outputs": [
    {
     "data": {
      "text/html": [
       "<div>\n",
       "<style scoped>\n",
       "    .dataframe tbody tr th:only-of-type {\n",
       "        vertical-align: middle;\n",
       "    }\n",
       "\n",
       "    .dataframe tbody tr th {\n",
       "        vertical-align: top;\n",
       "    }\n",
       "\n",
       "    .dataframe thead th {\n",
       "        text-align: right;\n",
       "    }\n",
       "</style>\n",
       "<table border=\"1\" class=\"dataframe\">\n",
       "  <thead>\n",
       "    <tr style=\"text-align: right;\">\n",
       "      <th></th>\n",
       "      <th>words</th>\n",
       "      <th>count</th>\n",
       "    </tr>\n",
       "  </thead>\n",
       "  <tbody>\n",
       "    <tr>\n",
       "      <th>0</th>\n",
       "      <td>역앞</td>\n",
       "      <td>1</td>\n",
       "    </tr>\n",
       "    <tr>\n",
       "      <th>1</th>\n",
       "      <td>젊은이</td>\n",
       "      <td>1</td>\n",
       "    </tr>\n",
       "    <tr>\n",
       "      <th>2</th>\n",
       "      <td>운동</td>\n",
       "      <td>1</td>\n",
       "    </tr>\n",
       "    <tr>\n",
       "      <th>3</th>\n",
       "      <td>수</td>\n",
       "      <td>1</td>\n",
       "    </tr>\n",
       "    <tr>\n",
       "      <th>4</th>\n",
       "      <td>장소</td>\n",
       "      <td>1</td>\n",
       "    </tr>\n",
       "    <tr>\n",
       "      <th>...</th>\n",
       "      <td>...</td>\n",
       "      <td>...</td>\n",
       "    </tr>\n",
       "    <tr>\n",
       "      <th>278</th>\n",
       "      <td>놀이기구</td>\n",
       "      <td>1</td>\n",
       "    </tr>\n",
       "    <tr>\n",
       "      <th>279</th>\n",
       "      <td>공원</td>\n",
       "      <td>1</td>\n",
       "    </tr>\n",
       "    <tr>\n",
       "      <th>280</th>\n",
       "      <td>더</td>\n",
       "      <td>1</td>\n",
       "    </tr>\n",
       "    <tr>\n",
       "      <th>281</th>\n",
       "      <td>역앞</td>\n",
       "      <td>1</td>\n",
       "    </tr>\n",
       "    <tr>\n",
       "      <th>282</th>\n",
       "      <td>주차장</td>\n",
       "      <td>1</td>\n",
       "    </tr>\n",
       "  </tbody>\n",
       "</table>\n",
       "<p>283 rows × 2 columns</p>\n",
       "</div>"
      ],
      "text/plain": [
       "    words  count\n",
       "0      역앞      1\n",
       "1     젊은이      1\n",
       "2      운동      1\n",
       "3       수      1\n",
       "4      장소      1\n",
       "..    ...    ...\n",
       "278  놀이기구      1\n",
       "279    공원      1\n",
       "280     더      1\n",
       "281    역앞      1\n",
       "282   주차장      1\n",
       "\n",
       "[283 rows x 2 columns]"
      ]
     },
     "execution_count": 205,
     "metadata": {},
     "output_type": "execute_result"
    }
   ],
   "source": [
    "all_words_df"
   ]
  },
  {
   "cell_type": "code",
   "execution_count": null,
   "metadata": {
    "id": "RUPEUg3j1Udj"
   },
   "outputs": [],
   "source": [
    "parts =['Noun']\n",
    "all_words_df = pd.DataFrame()\n",
    "satisfaction = []\n",
    "for n in range(len(survey)):\n",
    "    text = survey['comment'].iloc[n]\n",
    "    words = twt.pos(text)\n",
    "    words_df = pd.DataFrame()\n",
    "    for i in words:\n",
    "        if i =='EOS' or i =='':continue\n",
    "        word_tmp = i[0]\n",
    "        part = i[1]\n",
    "        if not (part in parts):continue\n",
    "        words_df[word_tmp]=[1] #형태소로 나눈 것들은 다 1로 넣어 달라는 것\n",
    "    all_words_df = pd.concat([all_words_df, words_df],ignore_index =True)"
   ]
  },
  {
   "cell_type": "code",
   "execution_count": null,
   "metadata": {
    "id": "CHtbNJfz1Udj",
    "outputId": "745d0a7a-1a29-4387-a7a0-043864362e96"
   },
   "outputs": [
    {
     "data": {
      "text/html": [
       "<div>\n",
       "<style scoped>\n",
       "    .dataframe tbody tr th:only-of-type {\n",
       "        vertical-align: middle;\n",
       "    }\n",
       "\n",
       "    .dataframe tbody tr th {\n",
       "        vertical-align: top;\n",
       "    }\n",
       "\n",
       "    .dataframe thead th {\n",
       "        text-align: right;\n",
       "    }\n",
       "</style>\n",
       "<table border=\"1\" class=\"dataframe\">\n",
       "  <thead>\n",
       "    <tr style=\"text-align: right;\">\n",
       "      <th></th>\n",
       "      <th>datetime</th>\n",
       "      <th>comment</th>\n",
       "      <th>satisfaction</th>\n",
       "      <th>length</th>\n",
       "    </tr>\n",
       "  </thead>\n",
       "  <tbody>\n",
       "    <tr>\n",
       "      <th>0</th>\n",
       "      <td>2019-03-11</td>\n",
       "      <td>역앞에 젊은이들이 모여있다</td>\n",
       "      <td>1</td>\n",
       "      <td>14</td>\n",
       "    </tr>\n",
       "    <tr>\n",
       "      <th>1</th>\n",
       "      <td>2019-02-25</td>\n",
       "      <td>운동할 수 있는 장소가 있는 것이 좋다</td>\n",
       "      <td>5</td>\n",
       "      <td>21</td>\n",
       "    </tr>\n",
       "    <tr>\n",
       "      <th>2</th>\n",
       "      <td>2019-02-18</td>\n",
       "      <td>육아 지원이 좋다</td>\n",
       "      <td>5</td>\n",
       "      <td>9</td>\n",
       "    </tr>\n",
       "    <tr>\n",
       "      <th>3</th>\n",
       "      <td>2019-04-09</td>\n",
       "      <td>어린이집에 바로 입원할 수 있다</td>\n",
       "      <td>4</td>\n",
       "      <td>17</td>\n",
       "    </tr>\n",
       "    <tr>\n",
       "      <th>4</th>\n",
       "      <td>2019-01-06</td>\n",
       "      <td>역앞 상가가 쓸쓸하다</td>\n",
       "      <td>2</td>\n",
       "      <td>11</td>\n",
       "    </tr>\n",
       "    <tr>\n",
       "      <th>...</th>\n",
       "      <td>...</td>\n",
       "      <td>...</td>\n",
       "      <td>...</td>\n",
       "      <td>...</td>\n",
       "    </tr>\n",
       "    <tr>\n",
       "      <th>81</th>\n",
       "      <td>2019-01-21</td>\n",
       "      <td>초등학교 운동장이 잔디밭이라서 아주 좋다</td>\n",
       "      <td>5</td>\n",
       "      <td>22</td>\n",
       "    </tr>\n",
       "    <tr>\n",
       "      <th>82</th>\n",
       "      <td>2019-04-30</td>\n",
       "      <td>홈페이지에서도 설문지를 투고할 수 있게 해 달라</td>\n",
       "      <td>2</td>\n",
       "      <td>26</td>\n",
       "    </tr>\n",
       "    <tr>\n",
       "      <th>83</th>\n",
       "      <td>2019-01-09</td>\n",
       "      <td>공원에 놀이기구가 너무 적다</td>\n",
       "      <td>1</td>\n",
       "      <td>15</td>\n",
       "    </tr>\n",
       "    <tr>\n",
       "      <th>84</th>\n",
       "      <td>2019-03-09</td>\n",
       "      <td>공원을 더 늘렸으면 좋겠다</td>\n",
       "      <td>2</td>\n",
       "      <td>14</td>\n",
       "    </tr>\n",
       "    <tr>\n",
       "      <th>85</th>\n",
       "      <td>2019-04-02</td>\n",
       "      <td>역앞에 주차장이 적다, 불편하다</td>\n",
       "      <td>1</td>\n",
       "      <td>17</td>\n",
       "    </tr>\n",
       "  </tbody>\n",
       "</table>\n",
       "<p>84 rows × 4 columns</p>\n",
       "</div>"
      ],
      "text/plain": [
       "      datetime                     comment  satisfaction  length\n",
       "0   2019-03-11              역앞에 젊은이들이 모여있다             1      14\n",
       "1   2019-02-25       운동할 수 있는 장소가 있는 것이 좋다             5      21\n",
       "2   2019-02-18                   육아 지원이 좋다             5       9\n",
       "3   2019-04-09           어린이집에 바로 입원할 수 있다             4      17\n",
       "4   2019-01-06                 역앞 상가가 쓸쓸하다             2      11\n",
       "..         ...                         ...           ...     ...\n",
       "81  2019-01-21      초등학교 운동장이 잔디밭이라서 아주 좋다             5      22\n",
       "82  2019-04-30  홈페이지에서도 설문지를 투고할 수 있게 해 달라             2      26\n",
       "83  2019-01-09             공원에 놀이기구가 너무 적다             1      15\n",
       "84  2019-03-09              공원을 더 늘렸으면 좋겠다             2      14\n",
       "85  2019-04-02           역앞에 주차장이 적다, 불편하다             1      17\n",
       "\n",
       "[84 rows x 4 columns]"
      ]
     },
     "execution_count": 247,
     "metadata": {},
     "output_type": "execute_result"
    }
   ],
   "source": [
    "survey"
   ]
  },
  {
   "cell_type": "code",
   "execution_count": null,
   "metadata": {
    "id": "p4aNa4n01Udj",
    "outputId": "dd6e177c-6fcf-48c5-ed95-0ee3037c8094"
   },
   "outputs": [
    {
     "data": {
      "text/html": [
       "<div>\n",
       "<style scoped>\n",
       "    .dataframe tbody tr th:only-of-type {\n",
       "        vertical-align: middle;\n",
       "    }\n",
       "\n",
       "    .dataframe tbody tr th {\n",
       "        vertical-align: top;\n",
       "    }\n",
       "\n",
       "    .dataframe thead th {\n",
       "        text-align: right;\n",
       "    }\n",
       "</style>\n",
       "<table border=\"1\" class=\"dataframe\">\n",
       "  <thead>\n",
       "    <tr style=\"text-align: right;\">\n",
       "      <th></th>\n",
       "      <th>역앞</th>\n",
       "      <th>젊은이</th>\n",
       "      <th>운동</th>\n",
       "      <th>수</th>\n",
       "      <th>장소</th>\n",
       "      <th>것</th>\n",
       "      <th>육아</th>\n",
       "      <th>지원이</th>\n",
       "      <th>어린이집</th>\n",
       "      <th>바로</th>\n",
       "      <th>...</th>\n",
       "      <th>걸</th>\n",
       "      <th>야간</th>\n",
       "      <th>불안</th>\n",
       "      <th>고령자</th>\n",
       "      <th>운동장</th>\n",
       "      <th>잔디밭</th>\n",
       "      <th>아주</th>\n",
       "      <th>설문지</th>\n",
       "      <th>투고</th>\n",
       "      <th>놀이기구</th>\n",
       "    </tr>\n",
       "  </thead>\n",
       "  <tbody>\n",
       "    <tr>\n",
       "      <th>0</th>\n",
       "      <td>1.0</td>\n",
       "      <td>1.0</td>\n",
       "      <td>0.0</td>\n",
       "      <td>0.0</td>\n",
       "      <td>0.0</td>\n",
       "      <td>0.0</td>\n",
       "      <td>0.0</td>\n",
       "      <td>0.0</td>\n",
       "      <td>0.0</td>\n",
       "      <td>0.0</td>\n",
       "      <td>...</td>\n",
       "      <td>0.0</td>\n",
       "      <td>0.0</td>\n",
       "      <td>0.0</td>\n",
       "      <td>0.0</td>\n",
       "      <td>0.0</td>\n",
       "      <td>0.0</td>\n",
       "      <td>0.0</td>\n",
       "      <td>0.0</td>\n",
       "      <td>0.0</td>\n",
       "      <td>0.0</td>\n",
       "    </tr>\n",
       "    <tr>\n",
       "      <th>1</th>\n",
       "      <td>0.0</td>\n",
       "      <td>0.0</td>\n",
       "      <td>1.0</td>\n",
       "      <td>1.0</td>\n",
       "      <td>1.0</td>\n",
       "      <td>1.0</td>\n",
       "      <td>0.0</td>\n",
       "      <td>0.0</td>\n",
       "      <td>0.0</td>\n",
       "      <td>0.0</td>\n",
       "      <td>...</td>\n",
       "      <td>0.0</td>\n",
       "      <td>0.0</td>\n",
       "      <td>0.0</td>\n",
       "      <td>0.0</td>\n",
       "      <td>0.0</td>\n",
       "      <td>0.0</td>\n",
       "      <td>0.0</td>\n",
       "      <td>0.0</td>\n",
       "      <td>0.0</td>\n",
       "      <td>0.0</td>\n",
       "    </tr>\n",
       "    <tr>\n",
       "      <th>2</th>\n",
       "      <td>0.0</td>\n",
       "      <td>0.0</td>\n",
       "      <td>0.0</td>\n",
       "      <td>0.0</td>\n",
       "      <td>0.0</td>\n",
       "      <td>0.0</td>\n",
       "      <td>1.0</td>\n",
       "      <td>1.0</td>\n",
       "      <td>0.0</td>\n",
       "      <td>0.0</td>\n",
       "      <td>...</td>\n",
       "      <td>0.0</td>\n",
       "      <td>0.0</td>\n",
       "      <td>0.0</td>\n",
       "      <td>0.0</td>\n",
       "      <td>0.0</td>\n",
       "      <td>0.0</td>\n",
       "      <td>0.0</td>\n",
       "      <td>0.0</td>\n",
       "      <td>0.0</td>\n",
       "      <td>0.0</td>\n",
       "    </tr>\n",
       "    <tr>\n",
       "      <th>3</th>\n",
       "      <td>0.0</td>\n",
       "      <td>0.0</td>\n",
       "      <td>0.0</td>\n",
       "      <td>1.0</td>\n",
       "      <td>0.0</td>\n",
       "      <td>0.0</td>\n",
       "      <td>0.0</td>\n",
       "      <td>0.0</td>\n",
       "      <td>1.0</td>\n",
       "      <td>1.0</td>\n",
       "      <td>...</td>\n",
       "      <td>0.0</td>\n",
       "      <td>0.0</td>\n",
       "      <td>0.0</td>\n",
       "      <td>0.0</td>\n",
       "      <td>0.0</td>\n",
       "      <td>0.0</td>\n",
       "      <td>0.0</td>\n",
       "      <td>0.0</td>\n",
       "      <td>0.0</td>\n",
       "      <td>0.0</td>\n",
       "    </tr>\n",
       "    <tr>\n",
       "      <th>4</th>\n",
       "      <td>1.0</td>\n",
       "      <td>0.0</td>\n",
       "      <td>0.0</td>\n",
       "      <td>0.0</td>\n",
       "      <td>0.0</td>\n",
       "      <td>0.0</td>\n",
       "      <td>0.0</td>\n",
       "      <td>0.0</td>\n",
       "      <td>0.0</td>\n",
       "      <td>0.0</td>\n",
       "      <td>...</td>\n",
       "      <td>0.0</td>\n",
       "      <td>0.0</td>\n",
       "      <td>0.0</td>\n",
       "      <td>0.0</td>\n",
       "      <td>0.0</td>\n",
       "      <td>0.0</td>\n",
       "      <td>0.0</td>\n",
       "      <td>0.0</td>\n",
       "      <td>0.0</td>\n",
       "      <td>0.0</td>\n",
       "    </tr>\n",
       "    <tr>\n",
       "      <th>...</th>\n",
       "      <td>...</td>\n",
       "      <td>...</td>\n",
       "      <td>...</td>\n",
       "      <td>...</td>\n",
       "      <td>...</td>\n",
       "      <td>...</td>\n",
       "      <td>...</td>\n",
       "      <td>...</td>\n",
       "      <td>...</td>\n",
       "      <td>...</td>\n",
       "      <td>...</td>\n",
       "      <td>...</td>\n",
       "      <td>...</td>\n",
       "      <td>...</td>\n",
       "      <td>...</td>\n",
       "      <td>...</td>\n",
       "      <td>...</td>\n",
       "      <td>...</td>\n",
       "      <td>...</td>\n",
       "      <td>...</td>\n",
       "      <td>...</td>\n",
       "    </tr>\n",
       "    <tr>\n",
       "      <th>79</th>\n",
       "      <td>0.0</td>\n",
       "      <td>0.0</td>\n",
       "      <td>0.0</td>\n",
       "      <td>0.0</td>\n",
       "      <td>0.0</td>\n",
       "      <td>0.0</td>\n",
       "      <td>0.0</td>\n",
       "      <td>0.0</td>\n",
       "      <td>0.0</td>\n",
       "      <td>0.0</td>\n",
       "      <td>...</td>\n",
       "      <td>0.0</td>\n",
       "      <td>0.0</td>\n",
       "      <td>0.0</td>\n",
       "      <td>0.0</td>\n",
       "      <td>1.0</td>\n",
       "      <td>1.0</td>\n",
       "      <td>1.0</td>\n",
       "      <td>0.0</td>\n",
       "      <td>0.0</td>\n",
       "      <td>0.0</td>\n",
       "    </tr>\n",
       "    <tr>\n",
       "      <th>80</th>\n",
       "      <td>0.0</td>\n",
       "      <td>0.0</td>\n",
       "      <td>0.0</td>\n",
       "      <td>1.0</td>\n",
       "      <td>0.0</td>\n",
       "      <td>0.0</td>\n",
       "      <td>0.0</td>\n",
       "      <td>0.0</td>\n",
       "      <td>0.0</td>\n",
       "      <td>0.0</td>\n",
       "      <td>...</td>\n",
       "      <td>0.0</td>\n",
       "      <td>0.0</td>\n",
       "      <td>0.0</td>\n",
       "      <td>0.0</td>\n",
       "      <td>0.0</td>\n",
       "      <td>0.0</td>\n",
       "      <td>0.0</td>\n",
       "      <td>1.0</td>\n",
       "      <td>1.0</td>\n",
       "      <td>0.0</td>\n",
       "    </tr>\n",
       "    <tr>\n",
       "      <th>81</th>\n",
       "      <td>0.0</td>\n",
       "      <td>0.0</td>\n",
       "      <td>0.0</td>\n",
       "      <td>0.0</td>\n",
       "      <td>0.0</td>\n",
       "      <td>0.0</td>\n",
       "      <td>0.0</td>\n",
       "      <td>0.0</td>\n",
       "      <td>0.0</td>\n",
       "      <td>0.0</td>\n",
       "      <td>...</td>\n",
       "      <td>0.0</td>\n",
       "      <td>0.0</td>\n",
       "      <td>0.0</td>\n",
       "      <td>0.0</td>\n",
       "      <td>0.0</td>\n",
       "      <td>0.0</td>\n",
       "      <td>0.0</td>\n",
       "      <td>0.0</td>\n",
       "      <td>0.0</td>\n",
       "      <td>1.0</td>\n",
       "    </tr>\n",
       "    <tr>\n",
       "      <th>82</th>\n",
       "      <td>0.0</td>\n",
       "      <td>0.0</td>\n",
       "      <td>0.0</td>\n",
       "      <td>0.0</td>\n",
       "      <td>0.0</td>\n",
       "      <td>0.0</td>\n",
       "      <td>0.0</td>\n",
       "      <td>0.0</td>\n",
       "      <td>0.0</td>\n",
       "      <td>0.0</td>\n",
       "      <td>...</td>\n",
       "      <td>0.0</td>\n",
       "      <td>0.0</td>\n",
       "      <td>0.0</td>\n",
       "      <td>0.0</td>\n",
       "      <td>0.0</td>\n",
       "      <td>0.0</td>\n",
       "      <td>0.0</td>\n",
       "      <td>0.0</td>\n",
       "      <td>0.0</td>\n",
       "      <td>0.0</td>\n",
       "    </tr>\n",
       "    <tr>\n",
       "      <th>83</th>\n",
       "      <td>1.0</td>\n",
       "      <td>0.0</td>\n",
       "      <td>0.0</td>\n",
       "      <td>0.0</td>\n",
       "      <td>0.0</td>\n",
       "      <td>0.0</td>\n",
       "      <td>0.0</td>\n",
       "      <td>0.0</td>\n",
       "      <td>0.0</td>\n",
       "      <td>0.0</td>\n",
       "      <td>...</td>\n",
       "      <td>0.0</td>\n",
       "      <td>0.0</td>\n",
       "      <td>0.0</td>\n",
       "      <td>0.0</td>\n",
       "      <td>0.0</td>\n",
       "      <td>0.0</td>\n",
       "      <td>0.0</td>\n",
       "      <td>0.0</td>\n",
       "      <td>0.0</td>\n",
       "      <td>0.0</td>\n",
       "    </tr>\n",
       "  </tbody>\n",
       "</table>\n",
       "<p>84 rows × 187 columns</p>\n",
       "</div>"
      ],
      "text/plain": [
       "     역앞  젊은이   운동    수   장소    것   육아  지원이  어린이집   바로  ...    걸   야간   불안  \\\n",
       "0   1.0  1.0  0.0  0.0  0.0  0.0  0.0  0.0   0.0  0.0  ...  0.0  0.0  0.0   \n",
       "1   0.0  0.0  1.0  1.0  1.0  1.0  0.0  0.0   0.0  0.0  ...  0.0  0.0  0.0   \n",
       "2   0.0  0.0  0.0  0.0  0.0  0.0  1.0  1.0   0.0  0.0  ...  0.0  0.0  0.0   \n",
       "3   0.0  0.0  0.0  1.0  0.0  0.0  0.0  0.0   1.0  1.0  ...  0.0  0.0  0.0   \n",
       "4   1.0  0.0  0.0  0.0  0.0  0.0  0.0  0.0   0.0  0.0  ...  0.0  0.0  0.0   \n",
       "..  ...  ...  ...  ...  ...  ...  ...  ...   ...  ...  ...  ...  ...  ...   \n",
       "79  0.0  0.0  0.0  0.0  0.0  0.0  0.0  0.0   0.0  0.0  ...  0.0  0.0  0.0   \n",
       "80  0.0  0.0  0.0  1.0  0.0  0.0  0.0  0.0   0.0  0.0  ...  0.0  0.0  0.0   \n",
       "81  0.0  0.0  0.0  0.0  0.0  0.0  0.0  0.0   0.0  0.0  ...  0.0  0.0  0.0   \n",
       "82  0.0  0.0  0.0  0.0  0.0  0.0  0.0  0.0   0.0  0.0  ...  0.0  0.0  0.0   \n",
       "83  1.0  0.0  0.0  0.0  0.0  0.0  0.0  0.0   0.0  0.0  ...  0.0  0.0  0.0   \n",
       "\n",
       "    고령자  운동장  잔디밭   아주  설문지   투고  놀이기구  \n",
       "0   0.0  0.0  0.0  0.0  0.0  0.0   0.0  \n",
       "1   0.0  0.0  0.0  0.0  0.0  0.0   0.0  \n",
       "2   0.0  0.0  0.0  0.0  0.0  0.0   0.0  \n",
       "3   0.0  0.0  0.0  0.0  0.0  0.0   0.0  \n",
       "4   0.0  0.0  0.0  0.0  0.0  0.0   0.0  \n",
       "..  ...  ...  ...  ...  ...  ...   ...  \n",
       "79  0.0  1.0  1.0  1.0  0.0  0.0   0.0  \n",
       "80  0.0  0.0  0.0  0.0  1.0  1.0   0.0  \n",
       "81  0.0  0.0  0.0  0.0  0.0  0.0   1.0  \n",
       "82  0.0  0.0  0.0  0.0  0.0  0.0   0.0  \n",
       "83  0.0  0.0  0.0  0.0  0.0  0.0   0.0  \n",
       "\n",
       "[84 rows x 187 columns]"
      ]
     },
     "execution_count": 248,
     "metadata": {},
     "output_type": "execute_result"
    }
   ],
   "source": [
    "all_words_df = all_words_df.fillna(0)\n",
    "all_words_df"
   ]
  },
  {
   "cell_type": "markdown",
   "metadata": {
    "id": "cmExEuA_1Udj"
   },
   "source": [
    "### 코사인 유사도를 통해서 유사한 리뷰를 찾아보자"
   ]
  },
  {
   "cell_type": "markdown",
   "metadata": {
    "id": "END0W-DS1Udj"
   },
   "source": [
    "- 코사인 유사도를 만들기 위해 데이터 정리를 해야 한다.\n",
    "\n",
    "- 우리가 코사인 유사도를 통해 어떤 리뷰가 거리 기반으로 가까운지 체크하기 위해 \n",
    "- target을 정해야 한다."
   ]
  },
  {
   "cell_type": "code",
   "execution_count": null,
   "metadata": {
    "id": "WuTIQ9ph1Udj",
    "outputId": "48e4f852-d324-4b4e-bad2-39c997e2fe9c"
   },
   "outputs": [
    {
     "data": {
      "text/html": [
       "<div>\n",
       "<style scoped>\n",
       "    .dataframe tbody tr th:only-of-type {\n",
       "        vertical-align: middle;\n",
       "    }\n",
       "\n",
       "    .dataframe tbody tr th {\n",
       "        vertical-align: top;\n",
       "    }\n",
       "\n",
       "    .dataframe thead th {\n",
       "        text-align: right;\n",
       "    }\n",
       "</style>\n",
       "<table border=\"1\" class=\"dataframe\">\n",
       "  <thead>\n",
       "    <tr style=\"text-align: right;\">\n",
       "      <th></th>\n",
       "      <th>역앞</th>\n",
       "      <th>젊은이</th>\n",
       "      <th>운동</th>\n",
       "      <th>수</th>\n",
       "      <th>장소</th>\n",
       "      <th>것</th>\n",
       "      <th>육아</th>\n",
       "      <th>지원이</th>\n",
       "      <th>어린이집</th>\n",
       "      <th>바로</th>\n",
       "      <th>...</th>\n",
       "      <th>걸</th>\n",
       "      <th>야간</th>\n",
       "      <th>불안</th>\n",
       "      <th>고령자</th>\n",
       "      <th>운동장</th>\n",
       "      <th>잔디밭</th>\n",
       "      <th>아주</th>\n",
       "      <th>설문지</th>\n",
       "      <th>투고</th>\n",
       "      <th>놀이기구</th>\n",
       "    </tr>\n",
       "  </thead>\n",
       "  <tbody>\n",
       "    <tr>\n",
       "      <th>0</th>\n",
       "      <td>1.0</td>\n",
       "      <td>1.0</td>\n",
       "      <td>0.0</td>\n",
       "      <td>0.0</td>\n",
       "      <td>0.0</td>\n",
       "      <td>0.0</td>\n",
       "      <td>0.0</td>\n",
       "      <td>0.0</td>\n",
       "      <td>0.0</td>\n",
       "      <td>0.0</td>\n",
       "      <td>...</td>\n",
       "      <td>0.0</td>\n",
       "      <td>0.0</td>\n",
       "      <td>0.0</td>\n",
       "      <td>0.0</td>\n",
       "      <td>0.0</td>\n",
       "      <td>0.0</td>\n",
       "      <td>0.0</td>\n",
       "      <td>0.0</td>\n",
       "      <td>0.0</td>\n",
       "      <td>0.0</td>\n",
       "    </tr>\n",
       "    <tr>\n",
       "      <th>1</th>\n",
       "      <td>0.0</td>\n",
       "      <td>0.0</td>\n",
       "      <td>1.0</td>\n",
       "      <td>1.0</td>\n",
       "      <td>1.0</td>\n",
       "      <td>1.0</td>\n",
       "      <td>0.0</td>\n",
       "      <td>0.0</td>\n",
       "      <td>0.0</td>\n",
       "      <td>0.0</td>\n",
       "      <td>...</td>\n",
       "      <td>0.0</td>\n",
       "      <td>0.0</td>\n",
       "      <td>0.0</td>\n",
       "      <td>0.0</td>\n",
       "      <td>0.0</td>\n",
       "      <td>0.0</td>\n",
       "      <td>0.0</td>\n",
       "      <td>0.0</td>\n",
       "      <td>0.0</td>\n",
       "      <td>0.0</td>\n",
       "    </tr>\n",
       "    <tr>\n",
       "      <th>2</th>\n",
       "      <td>0.0</td>\n",
       "      <td>0.0</td>\n",
       "      <td>0.0</td>\n",
       "      <td>0.0</td>\n",
       "      <td>0.0</td>\n",
       "      <td>0.0</td>\n",
       "      <td>1.0</td>\n",
       "      <td>1.0</td>\n",
       "      <td>0.0</td>\n",
       "      <td>0.0</td>\n",
       "      <td>...</td>\n",
       "      <td>0.0</td>\n",
       "      <td>0.0</td>\n",
       "      <td>0.0</td>\n",
       "      <td>0.0</td>\n",
       "      <td>0.0</td>\n",
       "      <td>0.0</td>\n",
       "      <td>0.0</td>\n",
       "      <td>0.0</td>\n",
       "      <td>0.0</td>\n",
       "      <td>0.0</td>\n",
       "    </tr>\n",
       "    <tr>\n",
       "      <th>3</th>\n",
       "      <td>0.0</td>\n",
       "      <td>0.0</td>\n",
       "      <td>0.0</td>\n",
       "      <td>1.0</td>\n",
       "      <td>0.0</td>\n",
       "      <td>0.0</td>\n",
       "      <td>0.0</td>\n",
       "      <td>0.0</td>\n",
       "      <td>1.0</td>\n",
       "      <td>1.0</td>\n",
       "      <td>...</td>\n",
       "      <td>0.0</td>\n",
       "      <td>0.0</td>\n",
       "      <td>0.0</td>\n",
       "      <td>0.0</td>\n",
       "      <td>0.0</td>\n",
       "      <td>0.0</td>\n",
       "      <td>0.0</td>\n",
       "      <td>0.0</td>\n",
       "      <td>0.0</td>\n",
       "      <td>0.0</td>\n",
       "    </tr>\n",
       "    <tr>\n",
       "      <th>4</th>\n",
       "      <td>1.0</td>\n",
       "      <td>0.0</td>\n",
       "      <td>0.0</td>\n",
       "      <td>0.0</td>\n",
       "      <td>0.0</td>\n",
       "      <td>0.0</td>\n",
       "      <td>0.0</td>\n",
       "      <td>0.0</td>\n",
       "      <td>0.0</td>\n",
       "      <td>0.0</td>\n",
       "      <td>...</td>\n",
       "      <td>0.0</td>\n",
       "      <td>0.0</td>\n",
       "      <td>0.0</td>\n",
       "      <td>0.0</td>\n",
       "      <td>0.0</td>\n",
       "      <td>0.0</td>\n",
       "      <td>0.0</td>\n",
       "      <td>0.0</td>\n",
       "      <td>0.0</td>\n",
       "      <td>0.0</td>\n",
       "    </tr>\n",
       "    <tr>\n",
       "      <th>...</th>\n",
       "      <td>...</td>\n",
       "      <td>...</td>\n",
       "      <td>...</td>\n",
       "      <td>...</td>\n",
       "      <td>...</td>\n",
       "      <td>...</td>\n",
       "      <td>...</td>\n",
       "      <td>...</td>\n",
       "      <td>...</td>\n",
       "      <td>...</td>\n",
       "      <td>...</td>\n",
       "      <td>...</td>\n",
       "      <td>...</td>\n",
       "      <td>...</td>\n",
       "      <td>...</td>\n",
       "      <td>...</td>\n",
       "      <td>...</td>\n",
       "      <td>...</td>\n",
       "      <td>...</td>\n",
       "      <td>...</td>\n",
       "      <td>...</td>\n",
       "    </tr>\n",
       "    <tr>\n",
       "      <th>79</th>\n",
       "      <td>0.0</td>\n",
       "      <td>0.0</td>\n",
       "      <td>0.0</td>\n",
       "      <td>0.0</td>\n",
       "      <td>0.0</td>\n",
       "      <td>0.0</td>\n",
       "      <td>0.0</td>\n",
       "      <td>0.0</td>\n",
       "      <td>0.0</td>\n",
       "      <td>0.0</td>\n",
       "      <td>...</td>\n",
       "      <td>0.0</td>\n",
       "      <td>0.0</td>\n",
       "      <td>0.0</td>\n",
       "      <td>0.0</td>\n",
       "      <td>1.0</td>\n",
       "      <td>1.0</td>\n",
       "      <td>1.0</td>\n",
       "      <td>0.0</td>\n",
       "      <td>0.0</td>\n",
       "      <td>0.0</td>\n",
       "    </tr>\n",
       "    <tr>\n",
       "      <th>80</th>\n",
       "      <td>0.0</td>\n",
       "      <td>0.0</td>\n",
       "      <td>0.0</td>\n",
       "      <td>1.0</td>\n",
       "      <td>0.0</td>\n",
       "      <td>0.0</td>\n",
       "      <td>0.0</td>\n",
       "      <td>0.0</td>\n",
       "      <td>0.0</td>\n",
       "      <td>0.0</td>\n",
       "      <td>...</td>\n",
       "      <td>0.0</td>\n",
       "      <td>0.0</td>\n",
       "      <td>0.0</td>\n",
       "      <td>0.0</td>\n",
       "      <td>0.0</td>\n",
       "      <td>0.0</td>\n",
       "      <td>0.0</td>\n",
       "      <td>1.0</td>\n",
       "      <td>1.0</td>\n",
       "      <td>0.0</td>\n",
       "    </tr>\n",
       "    <tr>\n",
       "      <th>81</th>\n",
       "      <td>0.0</td>\n",
       "      <td>0.0</td>\n",
       "      <td>0.0</td>\n",
       "      <td>0.0</td>\n",
       "      <td>0.0</td>\n",
       "      <td>0.0</td>\n",
       "      <td>0.0</td>\n",
       "      <td>0.0</td>\n",
       "      <td>0.0</td>\n",
       "      <td>0.0</td>\n",
       "      <td>...</td>\n",
       "      <td>0.0</td>\n",
       "      <td>0.0</td>\n",
       "      <td>0.0</td>\n",
       "      <td>0.0</td>\n",
       "      <td>0.0</td>\n",
       "      <td>0.0</td>\n",
       "      <td>0.0</td>\n",
       "      <td>0.0</td>\n",
       "      <td>0.0</td>\n",
       "      <td>1.0</td>\n",
       "    </tr>\n",
       "    <tr>\n",
       "      <th>82</th>\n",
       "      <td>0.0</td>\n",
       "      <td>0.0</td>\n",
       "      <td>0.0</td>\n",
       "      <td>0.0</td>\n",
       "      <td>0.0</td>\n",
       "      <td>0.0</td>\n",
       "      <td>0.0</td>\n",
       "      <td>0.0</td>\n",
       "      <td>0.0</td>\n",
       "      <td>0.0</td>\n",
       "      <td>...</td>\n",
       "      <td>0.0</td>\n",
       "      <td>0.0</td>\n",
       "      <td>0.0</td>\n",
       "      <td>0.0</td>\n",
       "      <td>0.0</td>\n",
       "      <td>0.0</td>\n",
       "      <td>0.0</td>\n",
       "      <td>0.0</td>\n",
       "      <td>0.0</td>\n",
       "      <td>0.0</td>\n",
       "    </tr>\n",
       "    <tr>\n",
       "      <th>83</th>\n",
       "      <td>1.0</td>\n",
       "      <td>0.0</td>\n",
       "      <td>0.0</td>\n",
       "      <td>0.0</td>\n",
       "      <td>0.0</td>\n",
       "      <td>0.0</td>\n",
       "      <td>0.0</td>\n",
       "      <td>0.0</td>\n",
       "      <td>0.0</td>\n",
       "      <td>0.0</td>\n",
       "      <td>...</td>\n",
       "      <td>0.0</td>\n",
       "      <td>0.0</td>\n",
       "      <td>0.0</td>\n",
       "      <td>0.0</td>\n",
       "      <td>0.0</td>\n",
       "      <td>0.0</td>\n",
       "      <td>0.0</td>\n",
       "      <td>0.0</td>\n",
       "      <td>0.0</td>\n",
       "      <td>0.0</td>\n",
       "    </tr>\n",
       "  </tbody>\n",
       "</table>\n",
       "<p>84 rows × 187 columns</p>\n",
       "</div>"
      ],
      "text/plain": [
       "     역앞  젊은이   운동    수   장소    것   육아  지원이  어린이집   바로  ...    걸   야간   불안  \\\n",
       "0   1.0  1.0  0.0  0.0  0.0  0.0  0.0  0.0   0.0  0.0  ...  0.0  0.0  0.0   \n",
       "1   0.0  0.0  1.0  1.0  1.0  1.0  0.0  0.0   0.0  0.0  ...  0.0  0.0  0.0   \n",
       "2   0.0  0.0  0.0  0.0  0.0  0.0  1.0  1.0   0.0  0.0  ...  0.0  0.0  0.0   \n",
       "3   0.0  0.0  0.0  1.0  0.0  0.0  0.0  0.0   1.0  1.0  ...  0.0  0.0  0.0   \n",
       "4   1.0  0.0  0.0  0.0  0.0  0.0  0.0  0.0   0.0  0.0  ...  0.0  0.0  0.0   \n",
       "..  ...  ...  ...  ...  ...  ...  ...  ...   ...  ...  ...  ...  ...  ...   \n",
       "79  0.0  0.0  0.0  0.0  0.0  0.0  0.0  0.0   0.0  0.0  ...  0.0  0.0  0.0   \n",
       "80  0.0  0.0  0.0  1.0  0.0  0.0  0.0  0.0   0.0  0.0  ...  0.0  0.0  0.0   \n",
       "81  0.0  0.0  0.0  0.0  0.0  0.0  0.0  0.0   0.0  0.0  ...  0.0  0.0  0.0   \n",
       "82  0.0  0.0  0.0  0.0  0.0  0.0  0.0  0.0   0.0  0.0  ...  0.0  0.0  0.0   \n",
       "83  1.0  0.0  0.0  0.0  0.0  0.0  0.0  0.0   0.0  0.0  ...  0.0  0.0  0.0   \n",
       "\n",
       "    고령자  운동장  잔디밭   아주  설문지   투고  놀이기구  \n",
       "0   0.0  0.0  0.0  0.0  0.0  0.0   0.0  \n",
       "1   0.0  0.0  0.0  0.0  0.0  0.0   0.0  \n",
       "2   0.0  0.0  0.0  0.0  0.0  0.0   0.0  \n",
       "3   0.0  0.0  0.0  0.0  0.0  0.0   0.0  \n",
       "4   0.0  0.0  0.0  0.0  0.0  0.0   0.0  \n",
       "..  ...  ...  ...  ...  ...  ...   ...  \n",
       "79  0.0  1.0  1.0  1.0  0.0  0.0   0.0  \n",
       "80  0.0  0.0  0.0  0.0  1.0  1.0   0.0  \n",
       "81  0.0  0.0  0.0  0.0  0.0  0.0   1.0  \n",
       "82  0.0  0.0  0.0  0.0  0.0  0.0   0.0  \n",
       "83  0.0  0.0  0.0  0.0  0.0  0.0   0.0  \n",
       "\n",
       "[84 rows x 187 columns]"
      ]
     },
     "execution_count": 249,
     "metadata": {},
     "output_type": "execute_result"
    }
   ],
   "source": [
    "all_words_df"
   ]
  },
  {
   "cell_type": "code",
   "execution_count": null,
   "metadata": {
    "id": "-p9U9Xkl1Udj"
   },
   "outputs": [],
   "source": [
    "#target 선정 원하는 타겟 값을 기준으로 변경할 수 있습니다.\n",
    "survey['comment'].iloc[1]\n",
    "target_text = all_words_df.iloc[1]\n"
   ]
  },
  {
   "cell_type": "code",
   "execution_count": null,
   "metadata": {
    "id": "WWOQxiNs1Udj",
    "outputId": "c540b04a-aeb3-4f26-b61f-276bcd5ee37c"
   },
   "outputs": [
    {
     "data": {
      "text/plain": [
       "'운동할 수 있는 장소가 있는 것이 좋다'"
      ]
     },
     "execution_count": 251,
     "metadata": {},
     "output_type": "execute_result"
    }
   ],
   "source": [
    "survey['comment'].iloc[1]"
   ]
  },
  {
   "cell_type": "code",
   "execution_count": null,
   "metadata": {
    "id": "ohI70UzB1Udj",
    "outputId": "f08e9c0e-5bf4-4d61-aaf6-dee15fac3a60",
    "scrolled": true
   },
   "outputs": [
    {
     "name": "stdout",
     "output_type": "stream",
     "text": [
      "역앞      0.0\n",
      "젊은이     0.0\n",
      "운동      1.0\n",
      "수       1.0\n",
      "장소      1.0\n",
      "       ... \n",
      "잔디밭     0.0\n",
      "아주      0.0\n",
      "설문지     0.0\n",
      "투고      0.0\n",
      "놀이기구    0.0\n",
      "Name: 1, Length: 187, dtype: float64\n"
     ]
    }
   ],
   "source": [
    "print(target_text)"
   ]
  },
  {
   "cell_type": "code",
   "execution_count": null,
   "metadata": {
    "id": "edKVX-_01Udj"
   },
   "outputs": [],
   "source": [
    "import numpy as np"
   ]
  },
  {
   "cell_type": "code",
   "execution_count": null,
   "metadata": {
    "id": "_CgATwxb1Udj",
    "outputId": "c7327bcb-eb05-4ecb-cfb8-701a30fafcbc"
   },
   "outputs": [
    {
     "data": {
      "text/plain": [
       "역앞      0.0\n",
       "젊은이     0.0\n",
       "운동      1.0\n",
       "수       1.0\n",
       "장소      1.0\n",
       "       ... \n",
       "잔디밭     0.0\n",
       "아주      0.0\n",
       "설문지     0.0\n",
       "투고      0.0\n",
       "놀이기구    0.0\n",
       "Name: 1, Length: 187, dtype: float64"
      ]
     },
     "execution_count": 254,
     "metadata": {},
     "output_type": "execute_result"
    }
   ],
   "source": [
    "target_text"
   ]
  },
  {
   "cell_type": "code",
   "execution_count": null,
   "metadata": {
    "id": "rf4uS1mn1Udk",
    "outputId": "6e522447-28da-4c3a-8f85-9a72d55d4920"
   },
   "outputs": [
    {
     "data": {
      "text/html": [
       "<div>\n",
       "<style scoped>\n",
       "    .dataframe tbody tr th:only-of-type {\n",
       "        vertical-align: middle;\n",
       "    }\n",
       "\n",
       "    .dataframe tbody tr th {\n",
       "        vertical-align: top;\n",
       "    }\n",
       "\n",
       "    .dataframe thead th {\n",
       "        text-align: right;\n",
       "    }\n",
       "</style>\n",
       "<table border=\"1\" class=\"dataframe\">\n",
       "  <thead>\n",
       "    <tr style=\"text-align: right;\">\n",
       "      <th></th>\n",
       "      <th>역앞</th>\n",
       "      <th>젊은이</th>\n",
       "      <th>운동</th>\n",
       "      <th>수</th>\n",
       "      <th>장소</th>\n",
       "      <th>것</th>\n",
       "      <th>육아</th>\n",
       "      <th>지원이</th>\n",
       "      <th>어린이집</th>\n",
       "      <th>바로</th>\n",
       "      <th>...</th>\n",
       "      <th>걸</th>\n",
       "      <th>야간</th>\n",
       "      <th>불안</th>\n",
       "      <th>고령자</th>\n",
       "      <th>운동장</th>\n",
       "      <th>잔디밭</th>\n",
       "      <th>아주</th>\n",
       "      <th>설문지</th>\n",
       "      <th>투고</th>\n",
       "      <th>놀이기구</th>\n",
       "    </tr>\n",
       "  </thead>\n",
       "  <tbody>\n",
       "    <tr>\n",
       "      <th>0</th>\n",
       "      <td>1.0</td>\n",
       "      <td>1.0</td>\n",
       "      <td>0.0</td>\n",
       "      <td>0.0</td>\n",
       "      <td>0.0</td>\n",
       "      <td>0.0</td>\n",
       "      <td>0.0</td>\n",
       "      <td>0.0</td>\n",
       "      <td>0.0</td>\n",
       "      <td>0.0</td>\n",
       "      <td>...</td>\n",
       "      <td>0.0</td>\n",
       "      <td>0.0</td>\n",
       "      <td>0.0</td>\n",
       "      <td>0.0</td>\n",
       "      <td>0.0</td>\n",
       "      <td>0.0</td>\n",
       "      <td>0.0</td>\n",
       "      <td>0.0</td>\n",
       "      <td>0.0</td>\n",
       "      <td>0.0</td>\n",
       "    </tr>\n",
       "    <tr>\n",
       "      <th>1</th>\n",
       "      <td>0.0</td>\n",
       "      <td>0.0</td>\n",
       "      <td>1.0</td>\n",
       "      <td>1.0</td>\n",
       "      <td>1.0</td>\n",
       "      <td>1.0</td>\n",
       "      <td>0.0</td>\n",
       "      <td>0.0</td>\n",
       "      <td>0.0</td>\n",
       "      <td>0.0</td>\n",
       "      <td>...</td>\n",
       "      <td>0.0</td>\n",
       "      <td>0.0</td>\n",
       "      <td>0.0</td>\n",
       "      <td>0.0</td>\n",
       "      <td>0.0</td>\n",
       "      <td>0.0</td>\n",
       "      <td>0.0</td>\n",
       "      <td>0.0</td>\n",
       "      <td>0.0</td>\n",
       "      <td>0.0</td>\n",
       "    </tr>\n",
       "    <tr>\n",
       "      <th>2</th>\n",
       "      <td>0.0</td>\n",
       "      <td>0.0</td>\n",
       "      <td>0.0</td>\n",
       "      <td>0.0</td>\n",
       "      <td>0.0</td>\n",
       "      <td>0.0</td>\n",
       "      <td>1.0</td>\n",
       "      <td>1.0</td>\n",
       "      <td>0.0</td>\n",
       "      <td>0.0</td>\n",
       "      <td>...</td>\n",
       "      <td>0.0</td>\n",
       "      <td>0.0</td>\n",
       "      <td>0.0</td>\n",
       "      <td>0.0</td>\n",
       "      <td>0.0</td>\n",
       "      <td>0.0</td>\n",
       "      <td>0.0</td>\n",
       "      <td>0.0</td>\n",
       "      <td>0.0</td>\n",
       "      <td>0.0</td>\n",
       "    </tr>\n",
       "    <tr>\n",
       "      <th>3</th>\n",
       "      <td>0.0</td>\n",
       "      <td>0.0</td>\n",
       "      <td>0.0</td>\n",
       "      <td>1.0</td>\n",
       "      <td>0.0</td>\n",
       "      <td>0.0</td>\n",
       "      <td>0.0</td>\n",
       "      <td>0.0</td>\n",
       "      <td>1.0</td>\n",
       "      <td>1.0</td>\n",
       "      <td>...</td>\n",
       "      <td>0.0</td>\n",
       "      <td>0.0</td>\n",
       "      <td>0.0</td>\n",
       "      <td>0.0</td>\n",
       "      <td>0.0</td>\n",
       "      <td>0.0</td>\n",
       "      <td>0.0</td>\n",
       "      <td>0.0</td>\n",
       "      <td>0.0</td>\n",
       "      <td>0.0</td>\n",
       "    </tr>\n",
       "    <tr>\n",
       "      <th>4</th>\n",
       "      <td>1.0</td>\n",
       "      <td>0.0</td>\n",
       "      <td>0.0</td>\n",
       "      <td>0.0</td>\n",
       "      <td>0.0</td>\n",
       "      <td>0.0</td>\n",
       "      <td>0.0</td>\n",
       "      <td>0.0</td>\n",
       "      <td>0.0</td>\n",
       "      <td>0.0</td>\n",
       "      <td>...</td>\n",
       "      <td>0.0</td>\n",
       "      <td>0.0</td>\n",
       "      <td>0.0</td>\n",
       "      <td>0.0</td>\n",
       "      <td>0.0</td>\n",
       "      <td>0.0</td>\n",
       "      <td>0.0</td>\n",
       "      <td>0.0</td>\n",
       "      <td>0.0</td>\n",
       "      <td>0.0</td>\n",
       "    </tr>\n",
       "    <tr>\n",
       "      <th>...</th>\n",
       "      <td>...</td>\n",
       "      <td>...</td>\n",
       "      <td>...</td>\n",
       "      <td>...</td>\n",
       "      <td>...</td>\n",
       "      <td>...</td>\n",
       "      <td>...</td>\n",
       "      <td>...</td>\n",
       "      <td>...</td>\n",
       "      <td>...</td>\n",
       "      <td>...</td>\n",
       "      <td>...</td>\n",
       "      <td>...</td>\n",
       "      <td>...</td>\n",
       "      <td>...</td>\n",
       "      <td>...</td>\n",
       "      <td>...</td>\n",
       "      <td>...</td>\n",
       "      <td>...</td>\n",
       "      <td>...</td>\n",
       "      <td>...</td>\n",
       "    </tr>\n",
       "    <tr>\n",
       "      <th>79</th>\n",
       "      <td>0.0</td>\n",
       "      <td>0.0</td>\n",
       "      <td>0.0</td>\n",
       "      <td>0.0</td>\n",
       "      <td>0.0</td>\n",
       "      <td>0.0</td>\n",
       "      <td>0.0</td>\n",
       "      <td>0.0</td>\n",
       "      <td>0.0</td>\n",
       "      <td>0.0</td>\n",
       "      <td>...</td>\n",
       "      <td>0.0</td>\n",
       "      <td>0.0</td>\n",
       "      <td>0.0</td>\n",
       "      <td>0.0</td>\n",
       "      <td>1.0</td>\n",
       "      <td>1.0</td>\n",
       "      <td>1.0</td>\n",
       "      <td>0.0</td>\n",
       "      <td>0.0</td>\n",
       "      <td>0.0</td>\n",
       "    </tr>\n",
       "    <tr>\n",
       "      <th>80</th>\n",
       "      <td>0.0</td>\n",
       "      <td>0.0</td>\n",
       "      <td>0.0</td>\n",
       "      <td>1.0</td>\n",
       "      <td>0.0</td>\n",
       "      <td>0.0</td>\n",
       "      <td>0.0</td>\n",
       "      <td>0.0</td>\n",
       "      <td>0.0</td>\n",
       "      <td>0.0</td>\n",
       "      <td>...</td>\n",
       "      <td>0.0</td>\n",
       "      <td>0.0</td>\n",
       "      <td>0.0</td>\n",
       "      <td>0.0</td>\n",
       "      <td>0.0</td>\n",
       "      <td>0.0</td>\n",
       "      <td>0.0</td>\n",
       "      <td>1.0</td>\n",
       "      <td>1.0</td>\n",
       "      <td>0.0</td>\n",
       "    </tr>\n",
       "    <tr>\n",
       "      <th>81</th>\n",
       "      <td>0.0</td>\n",
       "      <td>0.0</td>\n",
       "      <td>0.0</td>\n",
       "      <td>0.0</td>\n",
       "      <td>0.0</td>\n",
       "      <td>0.0</td>\n",
       "      <td>0.0</td>\n",
       "      <td>0.0</td>\n",
       "      <td>0.0</td>\n",
       "      <td>0.0</td>\n",
       "      <td>...</td>\n",
       "      <td>0.0</td>\n",
       "      <td>0.0</td>\n",
       "      <td>0.0</td>\n",
       "      <td>0.0</td>\n",
       "      <td>0.0</td>\n",
       "      <td>0.0</td>\n",
       "      <td>0.0</td>\n",
       "      <td>0.0</td>\n",
       "      <td>0.0</td>\n",
       "      <td>1.0</td>\n",
       "    </tr>\n",
       "    <tr>\n",
       "      <th>82</th>\n",
       "      <td>0.0</td>\n",
       "      <td>0.0</td>\n",
       "      <td>0.0</td>\n",
       "      <td>0.0</td>\n",
       "      <td>0.0</td>\n",
       "      <td>0.0</td>\n",
       "      <td>0.0</td>\n",
       "      <td>0.0</td>\n",
       "      <td>0.0</td>\n",
       "      <td>0.0</td>\n",
       "      <td>...</td>\n",
       "      <td>0.0</td>\n",
       "      <td>0.0</td>\n",
       "      <td>0.0</td>\n",
       "      <td>0.0</td>\n",
       "      <td>0.0</td>\n",
       "      <td>0.0</td>\n",
       "      <td>0.0</td>\n",
       "      <td>0.0</td>\n",
       "      <td>0.0</td>\n",
       "      <td>0.0</td>\n",
       "    </tr>\n",
       "    <tr>\n",
       "      <th>83</th>\n",
       "      <td>1.0</td>\n",
       "      <td>0.0</td>\n",
       "      <td>0.0</td>\n",
       "      <td>0.0</td>\n",
       "      <td>0.0</td>\n",
       "      <td>0.0</td>\n",
       "      <td>0.0</td>\n",
       "      <td>0.0</td>\n",
       "      <td>0.0</td>\n",
       "      <td>0.0</td>\n",
       "      <td>...</td>\n",
       "      <td>0.0</td>\n",
       "      <td>0.0</td>\n",
       "      <td>0.0</td>\n",
       "      <td>0.0</td>\n",
       "      <td>0.0</td>\n",
       "      <td>0.0</td>\n",
       "      <td>0.0</td>\n",
       "      <td>0.0</td>\n",
       "      <td>0.0</td>\n",
       "      <td>0.0</td>\n",
       "    </tr>\n",
       "  </tbody>\n",
       "</table>\n",
       "<p>84 rows × 187 columns</p>\n",
       "</div>"
      ],
      "text/plain": [
       "     역앞  젊은이   운동    수   장소    것   육아  지원이  어린이집   바로  ...    걸   야간   불안  \\\n",
       "0   1.0  1.0  0.0  0.0  0.0  0.0  0.0  0.0   0.0  0.0  ...  0.0  0.0  0.0   \n",
       "1   0.0  0.0  1.0  1.0  1.0  1.0  0.0  0.0   0.0  0.0  ...  0.0  0.0  0.0   \n",
       "2   0.0  0.0  0.0  0.0  0.0  0.0  1.0  1.0   0.0  0.0  ...  0.0  0.0  0.0   \n",
       "3   0.0  0.0  0.0  1.0  0.0  0.0  0.0  0.0   1.0  1.0  ...  0.0  0.0  0.0   \n",
       "4   1.0  0.0  0.0  0.0  0.0  0.0  0.0  0.0   0.0  0.0  ...  0.0  0.0  0.0   \n",
       "..  ...  ...  ...  ...  ...  ...  ...  ...   ...  ...  ...  ...  ...  ...   \n",
       "79  0.0  0.0  0.0  0.0  0.0  0.0  0.0  0.0   0.0  0.0  ...  0.0  0.0  0.0   \n",
       "80  0.0  0.0  0.0  1.0  0.0  0.0  0.0  0.0   0.0  0.0  ...  0.0  0.0  0.0   \n",
       "81  0.0  0.0  0.0  0.0  0.0  0.0  0.0  0.0   0.0  0.0  ...  0.0  0.0  0.0   \n",
       "82  0.0  0.0  0.0  0.0  0.0  0.0  0.0  0.0   0.0  0.0  ...  0.0  0.0  0.0   \n",
       "83  1.0  0.0  0.0  0.0  0.0  0.0  0.0  0.0   0.0  0.0  ...  0.0  0.0  0.0   \n",
       "\n",
       "    고령자  운동장  잔디밭   아주  설문지   투고  놀이기구  \n",
       "0   0.0  0.0  0.0  0.0  0.0  0.0   0.0  \n",
       "1   0.0  0.0  0.0  0.0  0.0  0.0   0.0  \n",
       "2   0.0  0.0  0.0  0.0  0.0  0.0   0.0  \n",
       "3   0.0  0.0  0.0  0.0  0.0  0.0   0.0  \n",
       "4   0.0  0.0  0.0  0.0  0.0  0.0   0.0  \n",
       "..  ...  ...  ...  ...  ...  ...   ...  \n",
       "79  0.0  1.0  1.0  1.0  0.0  0.0   0.0  \n",
       "80  0.0  0.0  0.0  0.0  1.0  1.0   0.0  \n",
       "81  0.0  0.0  0.0  0.0  0.0  0.0   1.0  \n",
       "82  0.0  0.0  0.0  0.0  0.0  0.0   0.0  \n",
       "83  0.0  0.0  0.0  0.0  0.0  0.0   0.0  \n",
       "\n",
       "[84 rows x 187 columns]"
      ]
     },
     "execution_count": 255,
     "metadata": {},
     "output_type": "execute_result"
    }
   ],
   "source": [
    "all_words_df"
   ]
  },
  {
   "cell_type": "code",
   "execution_count": null,
   "metadata": {
    "id": "0kAzF5jN1Udk",
    "outputId": "21f79f43-6c58-4b14-dd62-8a666112d899"
   },
   "outputs": [
    {
     "data": {
      "text/plain": [
       "역앞      0.0\n",
       "젊은이     0.0\n",
       "운동      1.0\n",
       "수       1.0\n",
       "장소      1.0\n",
       "       ... \n",
       "잔디밭     0.0\n",
       "아주      0.0\n",
       "설문지     0.0\n",
       "투고      0.0\n",
       "놀이기구    0.0\n",
       "Name: 1, Length: 187, dtype: float64"
      ]
     },
     "execution_count": 256,
     "metadata": {},
     "output_type": "execute_result"
    }
   ],
   "source": [
    "target_text"
   ]
  },
  {
   "cell_type": "code",
   "execution_count": null,
   "metadata": {
    "id": "yKwuXBsL1Udk"
   },
   "outputs": [],
   "source": [
    "#all_words_df= all_words_df.drop('cos_sim',axis = 'columns')"
   ]
  },
  {
   "cell_type": "code",
   "execution_count": null,
   "metadata": {
    "id": "HVFVmv8z1Udk",
    "outputId": "95e87a35-7517-4729-cf4e-2fffa9d6ff2c"
   },
   "outputs": [
    {
     "data": {
      "text/plain": [
       "역앞      1.0\n",
       "젊은이     0.0\n",
       "운동      0.0\n",
       "수       0.0\n",
       "장소      0.0\n",
       "       ... \n",
       "잔디밭     0.0\n",
       "아주      0.0\n",
       "설문지     0.0\n",
       "투고      0.0\n",
       "놀이기구    0.0\n",
       "Name: 83, Length: 187, dtype: float64"
      ]
     },
     "execution_count": 258,
     "metadata": {},
     "output_type": "execute_result"
    }
   ],
   "source": [
    "for i in range(len(all_words_df)):\n",
    "    cos_text = all_words_df.iloc[i]\n",
    "cos_text"
   ]
  },
  {
   "cell_type": "code",
   "execution_count": null,
   "metadata": {
    "id": "et6X29rt1Udk",
    "outputId": "8f552433-3ab0-42b0-b389-ab12f9bb329c",
    "scrolled": true
   },
   "outputs": [
    {
     "data": {
      "text/html": [
       "<div>\n",
       "<style scoped>\n",
       "    .dataframe tbody tr th:only-of-type {\n",
       "        vertical-align: middle;\n",
       "    }\n",
       "\n",
       "    .dataframe tbody tr th {\n",
       "        vertical-align: top;\n",
       "    }\n",
       "\n",
       "    .dataframe thead th {\n",
       "        text-align: right;\n",
       "    }\n",
       "</style>\n",
       "<table border=\"1\" class=\"dataframe\">\n",
       "  <thead>\n",
       "    <tr style=\"text-align: right;\">\n",
       "      <th></th>\n",
       "      <th>역앞</th>\n",
       "      <th>젊은이</th>\n",
       "      <th>운동</th>\n",
       "      <th>수</th>\n",
       "      <th>장소</th>\n",
       "      <th>것</th>\n",
       "      <th>육아</th>\n",
       "      <th>지원이</th>\n",
       "      <th>어린이집</th>\n",
       "      <th>바로</th>\n",
       "      <th>...</th>\n",
       "      <th>야간</th>\n",
       "      <th>불안</th>\n",
       "      <th>고령자</th>\n",
       "      <th>운동장</th>\n",
       "      <th>잔디밭</th>\n",
       "      <th>아주</th>\n",
       "      <th>설문지</th>\n",
       "      <th>투고</th>\n",
       "      <th>놀이기구</th>\n",
       "      <th>cos_sim</th>\n",
       "    </tr>\n",
       "  </thead>\n",
       "  <tbody>\n",
       "    <tr>\n",
       "      <th>1</th>\n",
       "      <td>0.0</td>\n",
       "      <td>0.0</td>\n",
       "      <td>1.0</td>\n",
       "      <td>1.0</td>\n",
       "      <td>1.0</td>\n",
       "      <td>1.0</td>\n",
       "      <td>0.0</td>\n",
       "      <td>0.0</td>\n",
       "      <td>0.0</td>\n",
       "      <td>0.0</td>\n",
       "      <td>...</td>\n",
       "      <td>0.0</td>\n",
       "      <td>0.0</td>\n",
       "      <td>0.0</td>\n",
       "      <td>0.0</td>\n",
       "      <td>0.0</td>\n",
       "      <td>0.0</td>\n",
       "      <td>0.0</td>\n",
       "      <td>0.0</td>\n",
       "      <td>0.0</td>\n",
       "      <td>1.000000</td>\n",
       "    </tr>\n",
       "    <tr>\n",
       "      <th>36</th>\n",
       "      <td>0.0</td>\n",
       "      <td>0.0</td>\n",
       "      <td>1.0</td>\n",
       "      <td>1.0</td>\n",
       "      <td>1.0</td>\n",
       "      <td>0.0</td>\n",
       "      <td>0.0</td>\n",
       "      <td>0.0</td>\n",
       "      <td>0.0</td>\n",
       "      <td>0.0</td>\n",
       "      <td>...</td>\n",
       "      <td>0.0</td>\n",
       "      <td>0.0</td>\n",
       "      <td>0.0</td>\n",
       "      <td>0.0</td>\n",
       "      <td>0.0</td>\n",
       "      <td>0.0</td>\n",
       "      <td>0.0</td>\n",
       "      <td>0.0</td>\n",
       "      <td>0.0</td>\n",
       "      <td>0.750000</td>\n",
       "    </tr>\n",
       "    <tr>\n",
       "      <th>41</th>\n",
       "      <td>0.0</td>\n",
       "      <td>0.0</td>\n",
       "      <td>0.0</td>\n",
       "      <td>0.0</td>\n",
       "      <td>1.0</td>\n",
       "      <td>1.0</td>\n",
       "      <td>0.0</td>\n",
       "      <td>0.0</td>\n",
       "      <td>0.0</td>\n",
       "      <td>0.0</td>\n",
       "      <td>...</td>\n",
       "      <td>0.0</td>\n",
       "      <td>0.0</td>\n",
       "      <td>0.0</td>\n",
       "      <td>0.0</td>\n",
       "      <td>0.0</td>\n",
       "      <td>0.0</td>\n",
       "      <td>0.0</td>\n",
       "      <td>0.0</td>\n",
       "      <td>0.0</td>\n",
       "      <td>0.447214</td>\n",
       "    </tr>\n",
       "    <tr>\n",
       "      <th>6</th>\n",
       "      <td>0.0</td>\n",
       "      <td>0.0</td>\n",
       "      <td>0.0</td>\n",
       "      <td>0.0</td>\n",
       "      <td>1.0</td>\n",
       "      <td>0.0</td>\n",
       "      <td>0.0</td>\n",
       "      <td>0.0</td>\n",
       "      <td>0.0</td>\n",
       "      <td>0.0</td>\n",
       "      <td>...</td>\n",
       "      <td>0.0</td>\n",
       "      <td>0.0</td>\n",
       "      <td>0.0</td>\n",
       "      <td>0.0</td>\n",
       "      <td>0.0</td>\n",
       "      <td>0.0</td>\n",
       "      <td>0.0</td>\n",
       "      <td>0.0</td>\n",
       "      <td>0.0</td>\n",
       "      <td>0.353553</td>\n",
       "    </tr>\n",
       "    <tr>\n",
       "      <th>49</th>\n",
       "      <td>0.0</td>\n",
       "      <td>0.0</td>\n",
       "      <td>0.0</td>\n",
       "      <td>1.0</td>\n",
       "      <td>0.0</td>\n",
       "      <td>0.0</td>\n",
       "      <td>0.0</td>\n",
       "      <td>0.0</td>\n",
       "      <td>0.0</td>\n",
       "      <td>0.0</td>\n",
       "      <td>...</td>\n",
       "      <td>0.0</td>\n",
       "      <td>0.0</td>\n",
       "      <td>0.0</td>\n",
       "      <td>0.0</td>\n",
       "      <td>0.0</td>\n",
       "      <td>0.0</td>\n",
       "      <td>0.0</td>\n",
       "      <td>0.0</td>\n",
       "      <td>0.0</td>\n",
       "      <td>0.288675</td>\n",
       "    </tr>\n",
       "  </tbody>\n",
       "</table>\n",
       "<p>5 rows × 188 columns</p>\n",
       "</div>"
      ],
      "text/plain": [
       "     역앞  젊은이   운동    수   장소    것   육아  지원이  어린이집   바로  ...   야간   불안  고령자  \\\n",
       "1   0.0  0.0  1.0  1.0  1.0  1.0  0.0  0.0   0.0  0.0  ...  0.0  0.0  0.0   \n",
       "36  0.0  0.0  1.0  1.0  1.0  0.0  0.0  0.0   0.0  0.0  ...  0.0  0.0  0.0   \n",
       "41  0.0  0.0  0.0  0.0  1.0  1.0  0.0  0.0   0.0  0.0  ...  0.0  0.0  0.0   \n",
       "6   0.0  0.0  0.0  0.0  1.0  0.0  0.0  0.0   0.0  0.0  ...  0.0  0.0  0.0   \n",
       "49  0.0  0.0  0.0  1.0  0.0  0.0  0.0  0.0   0.0  0.0  ...  0.0  0.0  0.0   \n",
       "\n",
       "    운동장  잔디밭   아주  설문지   투고  놀이기구   cos_sim  \n",
       "1   0.0  0.0  0.0  0.0  0.0   0.0  1.000000  \n",
       "36  0.0  0.0  0.0  0.0  0.0   0.0  0.750000  \n",
       "41  0.0  0.0  0.0  0.0  0.0   0.0  0.447214  \n",
       "6   0.0  0.0  0.0  0.0  0.0   0.0  0.353553  \n",
       "49  0.0  0.0  0.0  0.0  0.0   0.0  0.288675  \n",
       "\n",
       "[5 rows x 188 columns]"
      ]
     },
     "execution_count": 259,
     "metadata": {},
     "output_type": "execute_result"
    }
   ],
   "source": [
    "cos_sim = []\n",
    "for i in range(len(all_words_df)):\n",
    "    cos_text = all_words_df.iloc[i]\n",
    "    cos = np.dot(target_text, cos_text) / (np.linalg.norm(target_text)*np.linalg.norm(cos_text))#코사인 유사도 식 구글링 통해서 검색 가능\n",
    "    cos_sim.append(cos)\n",
    "    \n",
    "all_words_df['cos_sim'] = cos_sim\n",
    "all_words_df.sort_values('cos_sim',ascending=False).head()"
   ]
  },
  {
   "cell_type": "code",
   "execution_count": null,
   "metadata": {
    "id": "MijF3et71Udk",
    "outputId": "2038f86c-6d9b-41ef-8755-0a64baddf350"
   },
   "outputs": [
    {
     "name": "stdout",
     "output_type": "stream",
     "text": [
      "운동할 수 있는 장소가 있는 것이 좋다\n",
      "달리기같은 운동할 수 있는 장소가 많다.\n"
     ]
    }
   ],
   "source": [
    "#위의 결과값을 인덱스 기준으로 리뷰 유사도 비슷한 내용 확인 가능\n",
    "print(survey['comment'].iloc[1])\n",
    "print(survey['comment'].iloc[36])"
   ]
  },
  {
   "cell_type": "markdown",
   "metadata": {
    "id": "gIg2YrPp1Udk"
   },
   "source": [
    "### 형태소 분석 후 , 워드카운팅이나, 워드클라우드 정도 진행하는 것"
   ]
  },
  {
   "cell_type": "markdown",
   "metadata": {
    "id": "r-ehN_0m1Udk"
   },
   "source": [
    "### 필수과제 \n",
    "- 대통령선거 데이터를 가지고 실제로 코사인 유사도를 계산했을 때 리뷰랑 비슷한 내용은 어떤 게 있는지 코드로 정리해서 알려주세요!\n",
    "- 기존 과제 기반으로해서 동일하게 한 번 진행해 주시면 감사합니다."
   ]
  },
  {
   "cell_type": "code",
   "execution_count": null,
   "metadata": {
    "id": "Iq3WVBCW1Udk"
   },
   "outputs": [],
   "source": []
  }
 ],
 "metadata": {
  "colab": {
   "provenance": []
  },
  "kernelspec": {
   "display_name": "Python 3 (ipykernel)",
   "language": "python",
   "name": "python3"
  },
  "language_info": {
   "codemirror_mode": {
    "name": "ipython",
    "version": 3
   },
   "file_extension": ".py",
   "mimetype": "text/x-python",
   "name": "python",
   "nbconvert_exporter": "python",
   "pygments_lexer": "ipython3",
   "version": "3.9.13"
  }
 },
 "nbformat": 4,
 "nbformat_minor": 1
}
