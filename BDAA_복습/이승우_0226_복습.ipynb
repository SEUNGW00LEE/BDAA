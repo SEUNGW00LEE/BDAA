{
 "cells": [
  {
   "cell_type": "markdown",
   "metadata": {
    "id": "BfwXLvhETmF-"
   },
   "source": [
    "## 정규표현식\n",
    "\n",
    "- relagr expression\n",
    "- 기존 문자열분석 함수을 이용해서 문자열을 분석하는 겨우 대부분 \n",
    "- 정규표현식은 나만의 패턴, 규칙을 만들어서 문자열을 분석한다.\n",
    "- (나만의 패턴, 나만의 규칙)-> 특정상황에서 필요한 전처리\n",
    "\n",
    "### 대표적인 2가지 정규 표현식 찾는 함수\n",
    "- match - 첫 인덱스에 내가 원하는 문자열이 없으면 뒤도 안 돌아 본다! 냉정하다\n",
    "- search - 서치는 전체에서 내가 원하는 문자열을 찾아준다! 배려심\n"
   ]
  },
  {
   "cell_type": "code",
   "execution_count": 1,
   "metadata": {},
   "outputs": [
    {
     "name": "stdout",
     "output_type": "stream",
     "text": [
      "Requirement already satisfied: jupyterthemes in /Users/seungwoo/opt/anaconda3/lib/python3.9/site-packages (0.20.0)\n",
      "Requirement already satisfied: notebook>=5.6.0 in /Users/seungwoo/opt/anaconda3/lib/python3.9/site-packages (from jupyterthemes) (6.4.12)\n",
      "Requirement already satisfied: ipython>=5.4.1 in /Users/seungwoo/opt/anaconda3/lib/python3.9/site-packages (from jupyterthemes) (7.31.1)\n",
      "Requirement already satisfied: matplotlib>=1.4.3 in /Users/seungwoo/opt/anaconda3/lib/python3.9/site-packages (from jupyterthemes) (3.5.2)\n",
      "Requirement already satisfied: lesscpy>=0.11.2 in /Users/seungwoo/opt/anaconda3/lib/python3.9/site-packages (from jupyterthemes) (0.15.1)\n",
      "Requirement already satisfied: jupyter-core in /Users/seungwoo/opt/anaconda3/lib/python3.9/site-packages (from jupyterthemes) (4.11.1)\n",
      "Requirement already satisfied: traitlets>=4.2 in /Users/seungwoo/opt/anaconda3/lib/python3.9/site-packages (from ipython>=5.4.1->jupyterthemes) (5.1.1)\n",
      "Requirement already satisfied: pickleshare in /Users/seungwoo/opt/anaconda3/lib/python3.9/site-packages (from ipython>=5.4.1->jupyterthemes) (0.7.5)\n",
      "Requirement already satisfied: setuptools>=18.5 in /Users/seungwoo/opt/anaconda3/lib/python3.9/site-packages (from ipython>=5.4.1->jupyterthemes) (63.4.1)\n",
      "Requirement already satisfied: pygments in /Users/seungwoo/opt/anaconda3/lib/python3.9/site-packages (from ipython>=5.4.1->jupyterthemes) (2.11.2)\n",
      "Requirement already satisfied: pexpect>4.3 in /Users/seungwoo/opt/anaconda3/lib/python3.9/site-packages (from ipython>=5.4.1->jupyterthemes) (4.8.0)\n",
      "Requirement already satisfied: decorator in /Users/seungwoo/opt/anaconda3/lib/python3.9/site-packages (from ipython>=5.4.1->jupyterthemes) (5.1.1)\n",
      "Requirement already satisfied: backcall in /Users/seungwoo/opt/anaconda3/lib/python3.9/site-packages (from ipython>=5.4.1->jupyterthemes) (0.2.0)\n",
      "Requirement already satisfied: jedi>=0.16 in /Users/seungwoo/opt/anaconda3/lib/python3.9/site-packages (from ipython>=5.4.1->jupyterthemes) (0.18.1)\n",
      "Requirement already satisfied: prompt-toolkit!=3.0.0,!=3.0.1,<3.1.0,>=2.0.0 in /Users/seungwoo/opt/anaconda3/lib/python3.9/site-packages (from ipython>=5.4.1->jupyterthemes) (3.0.20)\n",
      "Requirement already satisfied: appnope in /Users/seungwoo/opt/anaconda3/lib/python3.9/site-packages (from ipython>=5.4.1->jupyterthemes) (0.1.2)\n",
      "Requirement already satisfied: matplotlib-inline in /Users/seungwoo/opt/anaconda3/lib/python3.9/site-packages (from ipython>=5.4.1->jupyterthemes) (0.1.6)\n",
      "Requirement already satisfied: ply in /Users/seungwoo/opt/anaconda3/lib/python3.9/site-packages (from lesscpy>=0.11.2->jupyterthemes) (3.11)\n",
      "Requirement already satisfied: numpy>=1.17 in /Users/seungwoo/opt/anaconda3/lib/python3.9/site-packages (from matplotlib>=1.4.3->jupyterthemes) (1.21.5)\n",
      "Requirement already satisfied: cycler>=0.10 in /Users/seungwoo/opt/anaconda3/lib/python3.9/site-packages (from matplotlib>=1.4.3->jupyterthemes) (0.11.0)\n",
      "Requirement already satisfied: python-dateutil>=2.7 in /Users/seungwoo/opt/anaconda3/lib/python3.9/site-packages (from matplotlib>=1.4.3->jupyterthemes) (2.8.2)\n",
      "Requirement already satisfied: fonttools>=4.22.0 in /Users/seungwoo/opt/anaconda3/lib/python3.9/site-packages (from matplotlib>=1.4.3->jupyterthemes) (4.25.0)\n",
      "Requirement already satisfied: pyparsing>=2.2.1 in /Users/seungwoo/opt/anaconda3/lib/python3.9/site-packages (from matplotlib>=1.4.3->jupyterthemes) (3.0.9)\n",
      "Requirement already satisfied: pillow>=6.2.0 in /Users/seungwoo/opt/anaconda3/lib/python3.9/site-packages (from matplotlib>=1.4.3->jupyterthemes) (9.2.0)\n",
      "Requirement already satisfied: packaging>=20.0 in /Users/seungwoo/opt/anaconda3/lib/python3.9/site-packages (from matplotlib>=1.4.3->jupyterthemes) (21.3)\n",
      "Requirement already satisfied: kiwisolver>=1.0.1 in /Users/seungwoo/opt/anaconda3/lib/python3.9/site-packages (from matplotlib>=1.4.3->jupyterthemes) (1.4.2)\n",
      "Requirement already satisfied: nbconvert>=5 in /Users/seungwoo/opt/anaconda3/lib/python3.9/site-packages (from notebook>=5.6.0->jupyterthemes) (6.4.4)\n",
      "Requirement already satisfied: pyzmq>=17 in /Users/seungwoo/opt/anaconda3/lib/python3.9/site-packages (from notebook>=5.6.0->jupyterthemes) (23.2.0)\n",
      "Requirement already satisfied: jinja2 in /Users/seungwoo/opt/anaconda3/lib/python3.9/site-packages (from notebook>=5.6.0->jupyterthemes) (2.11.3)\n",
      "Requirement already satisfied: ipython-genutils in /Users/seungwoo/opt/anaconda3/lib/python3.9/site-packages (from notebook>=5.6.0->jupyterthemes) (0.2.0)\n",
      "Requirement already satisfied: prometheus-client in /Users/seungwoo/opt/anaconda3/lib/python3.9/site-packages (from notebook>=5.6.0->jupyterthemes) (0.14.1)\n",
      "Requirement already satisfied: terminado>=0.8.3 in /Users/seungwoo/opt/anaconda3/lib/python3.9/site-packages (from notebook>=5.6.0->jupyterthemes) (0.13.1)\n",
      "Requirement already satisfied: nbformat in /Users/seungwoo/opt/anaconda3/lib/python3.9/site-packages (from notebook>=5.6.0->jupyterthemes) (5.5.0)\n",
      "Requirement already satisfied: nest-asyncio>=1.5 in /Users/seungwoo/opt/anaconda3/lib/python3.9/site-packages (from notebook>=5.6.0->jupyterthemes) (1.5.5)\n",
      "Requirement already satisfied: ipykernel in /Users/seungwoo/opt/anaconda3/lib/python3.9/site-packages (from notebook>=5.6.0->jupyterthemes) (6.15.2)\n",
      "Requirement already satisfied: jupyter-client>=5.3.4 in /Users/seungwoo/opt/anaconda3/lib/python3.9/site-packages (from notebook>=5.6.0->jupyterthemes) (7.3.4)\n",
      "Requirement already satisfied: Send2Trash>=1.8.0 in /Users/seungwoo/opt/anaconda3/lib/python3.9/site-packages (from notebook>=5.6.0->jupyterthemes) (1.8.0)\n",
      "Requirement already satisfied: tornado>=6.1 in /Users/seungwoo/opt/anaconda3/lib/python3.9/site-packages (from notebook>=5.6.0->jupyterthemes) (6.1)\n",
      "Requirement already satisfied: argon2-cffi in /Users/seungwoo/opt/anaconda3/lib/python3.9/site-packages (from notebook>=5.6.0->jupyterthemes) (21.3.0)\n",
      "Requirement already satisfied: parso<0.9.0,>=0.8.0 in /Users/seungwoo/opt/anaconda3/lib/python3.9/site-packages (from jedi>=0.16->ipython>=5.4.1->jupyterthemes) (0.8.3)\n",
      "Requirement already satisfied: entrypoints in /Users/seungwoo/opt/anaconda3/lib/python3.9/site-packages (from jupyter-client>=5.3.4->notebook>=5.6.0->jupyterthemes) (0.4)\n",
      "Requirement already satisfied: beautifulsoup4 in /Users/seungwoo/opt/anaconda3/lib/python3.9/site-packages (from nbconvert>=5->notebook>=5.6.0->jupyterthemes) (4.11.1)\n",
      "Requirement already satisfied: testpath in /Users/seungwoo/opt/anaconda3/lib/python3.9/site-packages (from nbconvert>=5->notebook>=5.6.0->jupyterthemes) (0.6.0)\n",
      "Requirement already satisfied: nbclient<0.6.0,>=0.5.0 in /Users/seungwoo/opt/anaconda3/lib/python3.9/site-packages (from nbconvert>=5->notebook>=5.6.0->jupyterthemes) (0.5.13)\n",
      "Requirement already satisfied: jupyterlab-pygments in /Users/seungwoo/opt/anaconda3/lib/python3.9/site-packages (from nbconvert>=5->notebook>=5.6.0->jupyterthemes) (0.1.2)\n",
      "Requirement already satisfied: mistune<2,>=0.8.1 in /Users/seungwoo/opt/anaconda3/lib/python3.9/site-packages (from nbconvert>=5->notebook>=5.6.0->jupyterthemes) (0.8.4)\n",
      "Requirement already satisfied: pandocfilters>=1.4.1 in /Users/seungwoo/opt/anaconda3/lib/python3.9/site-packages (from nbconvert>=5->notebook>=5.6.0->jupyterthemes) (1.5.0)\n",
      "Requirement already satisfied: defusedxml in /Users/seungwoo/opt/anaconda3/lib/python3.9/site-packages (from nbconvert>=5->notebook>=5.6.0->jupyterthemes) (0.7.1)\n",
      "Requirement already satisfied: bleach in /Users/seungwoo/opt/anaconda3/lib/python3.9/site-packages (from nbconvert>=5->notebook>=5.6.0->jupyterthemes) (4.1.0)\n",
      "Requirement already satisfied: MarkupSafe>=0.23 in /Users/seungwoo/opt/anaconda3/lib/python3.9/site-packages (from jinja2->notebook>=5.6.0->jupyterthemes) (2.0.1)\n",
      "Requirement already satisfied: fastjsonschema in /Users/seungwoo/opt/anaconda3/lib/python3.9/site-packages (from nbformat->notebook>=5.6.0->jupyterthemes) (2.16.2)\n",
      "Requirement already satisfied: jsonschema>=2.6 in /Users/seungwoo/opt/anaconda3/lib/python3.9/site-packages (from nbformat->notebook>=5.6.0->jupyterthemes) (4.16.0)\n",
      "Requirement already satisfied: ptyprocess>=0.5 in /Users/seungwoo/opt/anaconda3/lib/python3.9/site-packages (from pexpect>4.3->ipython>=5.4.1->jupyterthemes) (0.7.0)\n",
      "Requirement already satisfied: wcwidth in /Users/seungwoo/opt/anaconda3/lib/python3.9/site-packages (from prompt-toolkit!=3.0.0,!=3.0.1,<3.1.0,>=2.0.0->ipython>=5.4.1->jupyterthemes) (0.2.5)\n"
     ]
    },
    {
     "name": "stdout",
     "output_type": "stream",
     "text": [
      "Requirement already satisfied: six>=1.5 in /Users/seungwoo/opt/anaconda3/lib/python3.9/site-packages (from python-dateutil>=2.7->matplotlib>=1.4.3->jupyterthemes) (1.16.0)\n",
      "Requirement already satisfied: argon2-cffi-bindings in /Users/seungwoo/opt/anaconda3/lib/python3.9/site-packages (from argon2-cffi->notebook>=5.6.0->jupyterthemes) (21.2.0)\n",
      "Requirement already satisfied: psutil in /Users/seungwoo/opt/anaconda3/lib/python3.9/site-packages (from ipykernel->notebook>=5.6.0->jupyterthemes) (5.9.0)\n",
      "Requirement already satisfied: debugpy>=1.0 in /Users/seungwoo/opt/anaconda3/lib/python3.9/site-packages (from ipykernel->notebook>=5.6.0->jupyterthemes) (1.5.1)\n",
      "Requirement already satisfied: pyrsistent!=0.17.0,!=0.17.1,!=0.17.2,>=0.14.0 in /Users/seungwoo/opt/anaconda3/lib/python3.9/site-packages (from jsonschema>=2.6->nbformat->notebook>=5.6.0->jupyterthemes) (0.18.0)\n",
      "Requirement already satisfied: attrs>=17.4.0 in /Users/seungwoo/opt/anaconda3/lib/python3.9/site-packages (from jsonschema>=2.6->nbformat->notebook>=5.6.0->jupyterthemes) (21.4.0)\n",
      "Requirement already satisfied: cffi>=1.0.1 in /Users/seungwoo/opt/anaconda3/lib/python3.9/site-packages (from argon2-cffi-bindings->argon2-cffi->notebook>=5.6.0->jupyterthemes) (1.15.1)\n",
      "Requirement already satisfied: soupsieve>1.2 in /Users/seungwoo/opt/anaconda3/lib/python3.9/site-packages (from beautifulsoup4->nbconvert>=5->notebook>=5.6.0->jupyterthemes) (2.3.1)\n",
      "Requirement already satisfied: webencodings in /Users/seungwoo/opt/anaconda3/lib/python3.9/site-packages (from bleach->nbconvert>=5->notebook>=5.6.0->jupyterthemes) (0.5.1)\n",
      "Requirement already satisfied: pycparser in /Users/seungwoo/opt/anaconda3/lib/python3.9/site-packages (from cffi>=1.0.1->argon2-cffi-bindings->argon2-cffi->notebook>=5.6.0->jupyterthemes) (2.21)\n"
     ]
    }
   ],
   "source": [
    "!pip install jupyterthemes"
   ]
  },
  {
   "cell_type": "code",
   "execution_count": 2,
   "metadata": {},
   "outputs": [
    {
     "name": "stdout",
     "output_type": "stream",
     "text": [
      "Available Themes: \r\n",
      "   chesterish\r\n",
      "   grade3\r\n",
      "   gruvboxd\r\n",
      "   gruvboxl\r\n",
      "   monokai\r\n",
      "   oceans16\r\n",
      "   onedork\r\n",
      "   solarizedd\r\n",
      "   solarizedl\r\n"
     ]
    }
   ],
   "source": [
    "!jt -l"
   ]
  },
  {
   "cell_type": "code",
   "execution_count": 3,
   "metadata": {},
   "outputs": [],
   "source": [
    "!jt -t monokai"
   ]
  },
  {
   "cell_type": "code",
   "execution_count": 4,
   "metadata": {
    "id": "jNLU0shOTmGC"
   },
   "outputs": [],
   "source": [
    "import re #정규표현식 불러오기"
   ]
  },
  {
   "cell_type": "markdown",
   "metadata": {
    "id": "Xll3eYKETmGD"
   },
   "source": [
    "- re.match('패턴', '문자열)\n",
    "- 맨 처음 인덱스에 본인이 원하는 문자열이 나오지 않으면 없다고 체크함!!! "
   ]
  },
  {
   "cell_type": "code",
   "execution_count": 5,
   "metadata": {
    "id": "SGl9aIUPTmGE",
    "outputId": "ac09dc60-abc5-46c5-9d76-84a5f8a5e3b4"
   },
   "outputs": [
    {
     "data": {
      "text/plain": [
       "<re.Match object; span=(0, 5), match='Hello'>"
      ]
     },
     "execution_count": 5,
     "metadata": {},
     "output_type": "execute_result"
    }
   ],
   "source": [
    "re.match('Hello','Hello, Python, Hi, R')"
   ]
  },
  {
   "cell_type": "code",
   "execution_count": 6,
   "metadata": {
    "id": "xt1cWhf1TmGF",
    "outputId": "06e5e4fe-6549-4c81-b9b0-5f79cebacb58"
   },
   "outputs": [
    {
     "data": {
      "text/plain": [
       "<re.Match object; span=(0, 6), match='Python'>"
      ]
     },
     "execution_count": 6,
     "metadata": {},
     "output_type": "execute_result"
    }
   ],
   "source": [
    "re.match('Python','Python Hello, HI, R') #파이썬을 찾는 정규식"
   ]
  },
  {
   "cell_type": "code",
   "execution_count": 7,
   "metadata": {
    "id": "69HoijQnTmGF",
    "outputId": "5e21faf3-0d9d-4413-cc59-d0b4943c1d67"
   },
   "outputs": [
    {
     "data": {
      "text/plain": [
       "<re.Match object; span=(0, 5), match='Hello'>"
      ]
     },
     "execution_count": 7,
     "metadata": {},
     "output_type": "execute_result"
    }
   ],
   "source": [
    "re.match('Hello','Hello, Python') #찾나? # 대소문자 같아야하고"
   ]
  },
  {
   "cell_type": "code",
   "execution_count": 8,
   "metadata": {
    "id": "Tcn7Z8sZTmGF"
   },
   "outputs": [],
   "source": [
    "re.match('hello','Python, hello') #찾나? # #뒤에 있으면 찾지 못함"
   ]
  },
  {
   "cell_type": "code",
   "execution_count": 9,
   "metadata": {
    "id": "9xZKJtN5TmGG",
    "outputId": "1abbb58a-5ca3-49be-cb26-3c8815750bba"
   },
   "outputs": [
    {
     "data": {
      "text/plain": [
       "<re.Match object; span=(8, 13), match='hello'>"
      ]
     },
     "execution_count": 9,
     "metadata": {},
     "output_type": "execute_result"
    }
   ],
   "source": [
    "re.search('hello','Python, hello') #찾나? # #뒤에 있으면 찾지 못함"
   ]
  },
  {
   "cell_type": "markdown",
   "metadata": {
    "id": "l8SLLpylTmGG"
   },
   "source": [
    "### 정규식을 표현하는 방법\n",
    "- 쉽게 사용할 수 있는 정규표현식이 있다 ( 외계어처럼 느껴질 수 있다.)\n",
    "- [0-9] 모든 숫자!\n",
    "- [0-9]*\n",
    "- [0-9]+\n",
    "\n",
    "*, + 차이 \n",
    "\n",
    "*는 문자, 숫자가 0개 이상 있는지 체크!\n",
    "+는 문자, 숫자가 1개 이상 있는지 체크!"
   ]
  },
  {
   "cell_type": "code",
   "execution_count": 10,
   "metadata": {
    "id": "MpWuB-8zTmGH"
   },
   "outputs": [],
   "source": [
    "re.match('[0-9]','aaaaa12312486751313')"
   ]
  },
  {
   "cell_type": "code",
   "execution_count": 11,
   "metadata": {
    "id": "EEFkg5WZTmGH",
    "outputId": "3a5d4b20-1e4b-4eb7-f91e-4ae9404ed6b7"
   },
   "outputs": [
    {
     "data": {
      "text/plain": [
       "<re.Match object; span=(5, 6), match='1'>"
      ]
     },
     "execution_count": 11,
     "metadata": {},
     "output_type": "execute_result"
    }
   ],
   "source": [
    "re.search('[0-9]','aaaaa12312486751313')"
   ]
  },
  {
   "cell_type": "markdown",
   "metadata": {
    "id": "unTJdZptTmGH"
   },
   "source": [
    "### 나는 모든 숫자를 찾고 싶어  1 하나가 아니라\n",
    "- 예를 들어 전화번호를 추출해야 하는 데 숫자를 다 가지고 와야 한다!~"
   ]
  },
  {
   "cell_type": "code",
   "execution_count": 12,
   "metadata": {
    "id": "Tqbtf1-2TmGH",
    "outputId": "7839e47b-2686-402a-958a-4c94f0638dba"
   },
   "outputs": [
    {
     "data": {
      "text/plain": [
       "<re.Match object; span=(0, 1), match='0'>"
      ]
     },
     "execution_count": 12,
     "metadata": {},
     "output_type": "execute_result"
    }
   ],
   "source": [
    "re.match('[0-9]','01000000000')"
   ]
  },
  {
   "cell_type": "code",
   "execution_count": 13,
   "metadata": {
    "id": "eb7HwK1bTmGI",
    "outputId": "9e6aa1a2-adda-4ff4-ad41-2add1fd971d4"
   },
   "outputs": [
    {
     "data": {
      "text/plain": [
       "<re.Match object; span=(0, 11), match='01000000000'>"
      ]
     },
     "execution_count": 13,
     "metadata": {},
     "output_type": "execute_result"
    }
   ],
   "source": [
    "re.match('[0-9]*','01000000000')"
   ]
  },
  {
   "cell_type": "code",
   "execution_count": 14,
   "metadata": {
    "id": "EoaJm0cgTmGI",
    "outputId": "8aea94b7-dbb5-4d7c-9c98-a9c4f917f4aa"
   },
   "outputs": [
    {
     "data": {
      "text/plain": [
       "<re.Match object; span=(0, 11), match='01000000000'>"
      ]
     },
     "execution_count": 14,
     "metadata": {},
     "output_type": "execute_result"
    }
   ],
   "source": [
    "re.match('[0-9]+','01000000000')"
   ]
  },
  {
   "cell_type": "code",
   "execution_count": 15,
   "metadata": {
    "id": "9Pr1QKzUTmGI",
    "outputId": "81281912-06ee-46d7-e72c-a9bc89c8ca43"
   },
   "outputs": [
    {
     "data": {
      "text/plain": [
       "<re.Match object; span=(13, 24), match='01012345678'>"
      ]
     },
     "execution_count": 15,
     "metadata": {},
     "output_type": "execute_result"
    }
   ],
   "source": [
    "re.search('[0-9]+','홍길동 휴대전화번호 : 01012345678')"
   ]
  },
  {
   "cell_type": "markdown",
   "metadata": {
    "id": "NLbDKsWhTmGI"
   },
   "source": [
    "### 문자 개수 판단하기\n",
    "- 문자가 정확히 몇 개 있나?\n",
    "- 문자{개수}\n",
    "- (문자열){개수}"
   ]
  },
  {
   "cell_type": "code",
   "execution_count": 16,
   "metadata": {
    "id": "5GYItH2yTmGJ",
    "outputId": "b4bc6d56-7210-45fc-a7a7-7d78f6fc1eae"
   },
   "outputs": [
    {
     "data": {
      "text/plain": [
       "<re.Match object; span=(0, 5), match='hhhhh'>"
      ]
     },
     "execution_count": 16,
     "metadata": {},
     "output_type": "execute_result"
    }
   ],
   "source": [
    "re.match('h{5}','hhhhhhhello') #h 5개 찾아줘!"
   ]
  },
  {
   "cell_type": "code",
   "execution_count": 17,
   "metadata": {
    "id": "sYCzvBZBTmGJ"
   },
   "outputs": [],
   "source": [
    "re.match('h{5}','ahhhhhhhello') #h 5개 찾아줘!"
   ]
  },
  {
   "cell_type": "code",
   "execution_count": 18,
   "metadata": {
    "id": "ZZmBKwWbTmGJ",
    "outputId": "3670c780-c116-45c3-9f55-36e57214f8d4"
   },
   "outputs": [
    {
     "data": {
      "text/plain": [
       "<re.Match object; span=(0, 6), match='hihihi'>"
      ]
     },
     "execution_count": 18,
     "metadata": {},
     "output_type": "execute_result"
    }
   ],
   "source": [
    "re.match('(hi){3}','hihihihello')"
   ]
  },
  {
   "cell_type": "markdown",
   "metadata": {
    "id": "nLVVrPa3TmGJ"
   },
   "source": [
    "- 휴대전화번호 패턴 정규식 만들기\n",
    "- 000-0000-0000\n",
    "\n",
    "- 위 전화번호 패턴을 찾는 정규식을 지금 만들고 채팅 보내주세요!"
   ]
  },
  {
   "cell_type": "code",
   "execution_count": 19,
   "metadata": {
    "id": "jgY2bF6nTmGJ",
    "outputId": "dae6d856-b010-41e5-f897-4a56f64dbebc"
   },
   "outputs": [
    {
     "data": {
      "text/plain": [
       "<re.Match object; span=(0, 13), match='010-1234-5678'>"
      ]
     },
     "execution_count": 19,
     "metadata": {},
     "output_type": "execute_result"
    }
   ],
   "source": [
    "#번호 3개 - 번호 4개 - 번호 4개 \n",
    "re.match('[0-9]{3}-[0-9]{4}-[0-9]{4}','010-1234-5678')"
   ]
  },
  {
   "cell_type": "code",
   "execution_count": 20,
   "metadata": {
    "id": "eYdgrD3qTmGJ",
    "outputId": "94e4f0e3-851c-4cab-ead0-bb1b7d796a19"
   },
   "outputs": [
    {
     "data": {
      "text/plain": [
       "<re.Match object; span=(0, 13), match='010-1234-5678'>"
      ]
     },
     "execution_count": 20,
     "metadata": {},
     "output_type": "execute_result"
    }
   ],
   "source": [
    "\n",
    "re.match('[0-9]{3}-[0-9]{4}-[0-9]{4}','010-1234-5678')"
   ]
  },
  {
   "cell_type": "code",
   "execution_count": 21,
   "metadata": {
    "id": "054SxbENTmGK",
    "outputId": "820e49f3-6a90-482c-ac84-2793f9443798"
   },
   "outputs": [
    {
     "data": {
      "text/plain": [
       "<re.Match object; span=(0, 18), match='010-1234-561234278'>"
      ]
     },
     "execution_count": 21,
     "metadata": {},
     "output_type": "execute_result"
    }
   ],
   "source": [
    "\n",
    "re.match('[0-9]*-[0-9]*-[0-9]*','010-1234-561234278')"
   ]
  },
  {
   "cell_type": "markdown",
   "metadata": {
    "id": "7Vq7_g4TTmGK"
   },
   "source": [
    "- 영문, 한글 \n",
    "\n",
    "- 영문[a-z],[A-Z]\n",
    "- 한글은 [가-힣], [ㄱ-ㅎ], [ㅏ-ㅣ]"
   ]
  },
  {
   "cell_type": "code",
   "execution_count": 22,
   "metadata": {
    "id": "2sNtEz3iTmGK",
    "outputId": "2a8cec47-79d1-48dc-c53e-9df1f4ea04a9"
   },
   "outputs": [
    {
     "data": {
      "text/plain": [
       "<re.Match object; span=(0, 5), match='asdfa'>"
      ]
     },
     "execution_count": 22,
     "metadata": {},
     "output_type": "execute_result"
    }
   ],
   "source": [
    "re.match('[a-z]*','asdfa@dasfef')"
   ]
  },
  {
   "cell_type": "code",
   "execution_count": 23,
   "metadata": {
    "id": "l15Z652aTmGK",
    "outputId": "e82aec8c-f9a1-43f4-af07-b965a33030f3"
   },
   "outputs": [
    {
     "data": {
      "text/plain": [
       "<re.Match object; span=(0, 10), match='1234ADSDFA'>"
      ]
     },
     "execution_count": 23,
     "metadata": {},
     "output_type": "execute_result"
    }
   ],
   "source": [
    "re.match('[a-zA-Z0-9]+','1234ADSDFA@dasfef')"
   ]
  },
  {
   "cell_type": "code",
   "execution_count": 24,
   "metadata": {
    "id": "nlR1L5knTmGK",
    "outputId": "7a9c4de8-c132-4964-8148-247a8a9dd3d4"
   },
   "outputs": [
    {
     "data": {
      "text/plain": [
       "<re.Match object; span=(11, 16), match='서울특별시'>"
      ]
     },
     "execution_count": 24,
     "metadata": {},
     "output_type": "execute_result"
    }
   ],
   "source": [
    "re.search('[가-힣]+','sadfasefsa 서울특별시 1231')"
   ]
  },
  {
   "cell_type": "code",
   "execution_count": 25,
   "metadata": {
    "id": "fsZ6QSnbTmGK",
    "outputId": "bd5a831c-79f6-4061-c47b-be7ad4ac40cd"
   },
   "outputs": [
    {
     "data": {
      "text/plain": [
       "<re.Match object; span=(0, 5), match='서울특별시'>"
      ]
     },
     "execution_count": 25,
     "metadata": {},
     "output_type": "execute_result"
    }
   ],
   "source": [
    "re.search('[가-힣]*','서울특별시 1231')"
   ]
  },
  {
   "cell_type": "markdown",
   "metadata": {
    "id": "3HUOm3N0TmGK"
   },
   "source": [
    "### 1.필수과제는 위의 정규식을 이용해서 본인만의 패턴을 만들어 주세요!\n",
    "- ex) 서울특별시 강남구 oo동 해당 동만 패턴으로 찾을 수 있는 정규식 만들기 등 \n",
    "- 최소 10개 이상 만들기\n",
    "\n",
    "### 2.필수과제 현재 알려드린 것 외에 추가 정규표현식 5개 이상 찾고 개념정리 및 코드 정리 결과 설명"
   ]
  },
  {
   "cell_type": "code",
   "execution_count": null,
   "metadata": {
    "id": "ty9kfKqmTmGL"
   },
   "outputs": [],
   "source": []
  }
 ],
 "metadata": {
  "colab": {
   "provenance": []
  },
  "kernelspec": {
   "display_name": "Python 3 (ipykernel)",
   "language": "python",
   "name": "python3"
  },
  "language_info": {
   "codemirror_mode": {
    "name": "ipython",
    "version": 3
   },
   "file_extension": ".py",
   "mimetype": "text/x-python",
   "name": "python",
   "nbconvert_exporter": "python",
   "pygments_lexer": "ipython3",
   "version": "3.9.13"
  }
 },
 "nbformat": 4,
 "nbformat_minor": 1
}
