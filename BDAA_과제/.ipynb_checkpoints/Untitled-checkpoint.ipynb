{
 "cells": [
  {
   "cell_type": "markdown",
   "id": "c733bfe2",
   "metadata": {},
   "source": [
    "#### 1.필수과제는 위의 정규식을 이용해서 본인만의 패턴을 만들어 주세요!\n",
    "- ex) 서울특별시 강남구 oo동 해당 동만 패턴으로 찾을 수 있는 정규식 만들기 등 \n",
    "- 최소 10개 이상 만들기"
   ]
  },
  {
   "cell_type": "code",
   "execution_count": 3,
   "id": "6290f7b4",
   "metadata": {},
   "outputs": [],
   "source": [
    "import pandas as pd\n",
    "import re"
   ]
  },
  {
   "attachments": {
    "image.png": {
     "image/png": "[encoded data removed]"
    }
   },
   "cell_type": "markdown",
   "id": "17769a03",
   "metadata": {},
   "source": [
    "##### 1. 통계청의 '소, 품종별, 암수별 도축실적' 데이터에서 품종코드만 추출\n",
    "![image.png](attachment:image.png)"
   ]
  },
  {
   "cell_type": "code",
   "execution_count": 6,
   "id": "6df83be1",
   "metadata": {},
   "outputs": [
    {
     "data": {
      "text/plain": [
       "<re.Match object; span=(10, 20), match='LBI1000017'>"
      ]
     },
     "execution_count": 6,
     "metadata": {},
     "output_type": "execute_result"
    }
   ],
   "source": [
    "re.search('[A-Z]{3}[0-9]*','201712\t사슴\tLBI1000017\t사슴\tLBI1000017\t암\t3\t50')"
   ]
  },
  {
   "attachments": {
    "image-2.png": {
     "image/png": "[encoded data removed]"
    }
   },
   "cell_type": "markdown",
   "id": "e67ae721",
   "metadata": {},
   "source": [
    "##### 2. 구글폼을 통해 제출받은 응답의 학번 추출\n",
    "![image-2.png](attachment:image-2.png)"
   ]
  },
  {
   "cell_type": "code",
   "execution_count": 10,
   "id": "edea060e",
   "metadata": {},
   "outputs": [
    {
     "data": {
      "text/plain": [
       "<re.Match object; span=(25, 34), match='202312345'>"
      ]
     },
     "execution_count": 10,
     "metadata": {},
     "output_type": "execute_result"
    }
   ],
   "source": [
    "re.search('[0-9]{9}','3.4.2023 17:53:21\t동의\t홍길동\t202312345\t01011112222\t\t999999')"
   ]
  },
  {
   "attachments": {
    "image.png": {
     "image/png": "[encoded data removed]"
    }
   },
   "cell_type": "markdown",
   "id": "67573458",
   "metadata": {},
   "source": [
    "##### 3. 구글폼을 통해 제출받은 이름 추출\n",
    "\n",
    "![image.png](attachment:image.png)"
   ]
  },
  {
   "cell_type": "code",
   "execution_count": 13,
   "id": "8de71925",
   "metadata": {},
   "outputs": [
    {
     "data": {
      "text/plain": [
       "<re.Match object; span=(21, 24), match='홍길동'>"
      ]
     },
     "execution_count": 13,
     "metadata": {},
     "output_type": "execute_result"
    }
   ],
   "source": [
    "re.search('(?<=동의\t)[가-힣]*','3.4.2023 17:53:21\t동의\t홍길동\t202312345\t01011112222\t\t999999')\n",
    "#후방탐색을 통해 추출"
   ]
  },
  {
   "attachments": {
    "image.png": {
     "image/png": "[encoded data removed]"
    }
   },
   "cell_type": "markdown",
   "id": "292a8241",
   "metadata": {},
   "source": [
    "##### 4. 구글폼을 통해 제출받은 이니셜 추출\n",
    "![image.png](attachment:image.png)"
   ]
  },
  {
   "cell_type": "code",
   "execution_count": 22,
   "id": "4ab8238a",
   "metadata": {},
   "outputs": [
    {
     "data": {
      "text/plain": [
       "<re.Match object; span=(20, 23), match='HGD'>"
      ]
     },
     "execution_count": 22,
     "metadata": {},
     "output_type": "execute_result"
    }
   ],
   "source": [
    "re.search('(?<=[a-zA-Z]{1}\t).*','홍길동\t010-1234-5678\tL\tHGD')\n",
    "#후방탐색을 통해 추출"
   ]
  },
  {
   "cell_type": "markdown",
   "id": "c75d802e",
   "metadata": {},
   "source": [
    "##### 5. 주소에서 http만 추출"
   ]
  },
  {
   "cell_type": "code",
   "execution_count": 16,
   "id": "ae60da6e",
   "metadata": {},
   "outputs": [
    {
     "name": "stdout",
     "output_type": "stream",
     "text": [
      "<re.Match object; span=(0, 4), match='http'>\n",
      "<re.Match object; span=(0, 4), match='http'>\n",
      "<re.Match object; span=(0, 4), match='http'>\n"
     ]
    }
   ],
   "source": [
    "print(re.search('.+(?=:)','http://www.abc.com'))\n",
    "print(re.search('.+(?=:)','http://www.naver.com'))\n",
    "print(re.search('.+(?=:)','http://www.google.com'))"
   ]
  },
  {
   "cell_type": "markdown",
   "id": "56f2df93",
   "metadata": {},
   "source": [
    "##### 6. 이메일에서 아이디만 추출\n",
    "###### honggildong@gmail.com"
   ]
  },
  {
   "cell_type": "code",
   "execution_count": 32,
   "id": "2c524740",
   "metadata": {},
   "outputs": [
    {
     "data": {
      "text/plain": [
       "<re.Match object; span=(0, 13), match='honggildong23'>"
      ]
     },
     "execution_count": 32,
     "metadata": {},
     "output_type": "execute_result"
    }
   ],
   "source": [
    "re.search('.*(?=@)','honggildong23@gmail.com')"
   ]
  },
  {
   "cell_type": "markdown",
   "id": "6c04e3cc",
   "metadata": {},
   "source": [
    "##### 7. 이메일에서 해당 이메일 회사만 추출\n",
    "###### honggildong23@gmail.com"
   ]
  },
  {
   "cell_type": "code",
   "execution_count": 34,
   "id": "f2e7cc36",
   "metadata": {},
   "outputs": [
    {
     "data": {
      "text/plain": [
       "<re.Match object; span=(14, 19), match='gmail'>"
      ]
     },
     "execution_count": 34,
     "metadata": {},
     "output_type": "execute_result"
    }
   ],
   "source": [
    "re.search('(?<=@).*(?=\\.)','honggildong23@gmail.com')"
   ]
  },
  {
   "cell_type": "markdown",
   "id": "2c106a43",
   "metadata": {},
   "source": [
    "##### 8. 앞의 who 를 검출 \n",
    "\n",
    "##### who is who"
   ]
  },
  {
   "cell_type": "code",
   "execution_count": 45,
   "id": "7c8ddfb0",
   "metadata": {},
   "outputs": [
    {
     "data": {
      "text/plain": [
       "<re.Match object; span=(0, 3), match='who'>"
      ]
     },
     "execution_count": 45,
     "metadata": {},
     "output_type": "execute_result"
    }
   ],
   "source": [
    "re.search('^who', 'who is who')"
   ]
  },
  {
   "cell_type": "markdown",
   "id": "dbc8a860",
   "metadata": {},
   "source": [
    "##### 9. 뒤의 who 를 검출 \n",
    "\n",
    "##### who is who"
   ]
  },
  {
   "cell_type": "code",
   "execution_count": 46,
   "id": "98a070fb",
   "metadata": {},
   "outputs": [
    {
     "data": {
      "text/plain": [
       "<re.Match object; span=(7, 10), match='who'>"
      ]
     },
     "execution_count": 46,
     "metadata": {},
     "output_type": "execute_result"
    }
   ],
   "source": [
    "re.search('who$', 'who is who')"
   ]
  },
  {
   "cell_type": "markdown",
   "id": "1bdc4424",
   "metadata": {},
   "source": [
    "### 2.필수과제 현재 알려드린 것 외에 추가 정규표현식 5개 이상 찾고 개념정리 및 코드 정리 결과 설명"
   ]
  },
  {
   "attachments": {},
   "cell_type": "markdown",
   "id": "f10fcac7",
   "metadata": {},
   "source": [
    "#### 1. 전방탐색(lookahead)\n",
    "\n",
    "- 전방 탐색(lookahead)이란 작성한 패턴에 일치하는 영역이 존재하여도 그 값이 제외되어서 나오는 패턴입니다. 전방 탐색 기호는 ?= 이며, = 다음에 오는 문자가 일치하는 영역에서 제외됩니다. 또한, 전방 탐색은 하위 표현식과 같이 소괄호로 감싸주어야만 합니다.\n"
   ]
  },
  {
   "cell_type": "code",
   "execution_count": 17,
   "id": "05c2885a",
   "metadata": {},
   "outputs": [
    {
     "name": "stdout",
     "output_type": "stream",
     "text": [
      "<re.Match object; span=(0, 4), match='http'>\n",
      "<re.Match object; span=(0, 4), match='http'>\n",
      "<re.Match object; span=(0, 4), match='http'>\n"
     ]
    }
   ],
   "source": [
    "#전방탐색 예시\n",
    "print(re.search('.+(?=:)','http://www.abc.com'))\n",
    "print(re.search('.+(?=:)','http://www.naver.com'))\n",
    "print(re.search('.+(?=:)','http://www.google.com'))"
   ]
  },
  {
   "cell_type": "markdown",
   "id": "edddf33e",
   "metadata": {},
   "source": [
    "#### 2. 후방탐색(lookbehind)\n",
    "- 전방 탐색이 앞에 있는 문자열을 탐색하는 것이라면, 후방 탐색은 뒤에 있는 문자열을 탐색합니다. 후방 탐색의 기호는 ?<= 입니다. 전방 탐색 기호의 ?와 = 사이에 < 기호가 추가된 것입니다. 후방 탐색도, 전방 탐색의 사용법과 똑같습니다. (마찬가지로, 소괄호로 감싸주어야만 합니다.)"
   ]
  },
  {
   "cell_type": "code",
   "execution_count": 24,
   "id": "59bd4598",
   "metadata": {},
   "outputs": [
    {
     "name": "stdout",
     "output_type": "stream",
     "text": [
      "<re.Match object; span=(21, 24), match='홍길동'>\n",
      "<re.Match object; span=(20, 23), match='HGD'>\n"
     ]
    }
   ],
   "source": [
    "# 후방탐색 예시\n",
    "print(re.search('(?<=동의\t)[가-힣]*','3.4.2023 17:53:21\t동의\t홍길동\t202312345\t01011112222\t\t999999'))\n",
    "#후방탐색을 통해 추출\n",
    "\n",
    "print(re.search('(?<=[a-zA-Z]{1}\t).*','홍길동\t010-1234-5678\tL\tHGD'))\n",
    "#후방탐색을 통해 추출"
   ]
  },
  {
   "cell_type": "markdown",
   "id": "0e4e97e6",
   "metadata": {},
   "source": [
    "##### 3. ^\n",
    "\n",
    "- 특정한 기호는 특정한 의미를 갖습니다. 소스가 who is who일때, who로 시작하는 소스를 검출할때 ^who를 사용합니다.\n",
    "who$는 who로 끝나는 텍스트를 검출합니다."
   ]
  },
  {
   "cell_type": "code",
   "execution_count": 50,
   "id": "14cb7b52",
   "metadata": {},
   "outputs": [
    {
     "data": {
      "text/plain": [
       "<re.Match object; span=(0, 3), match='who'>"
      ]
     },
     "execution_count": 50,
     "metadata": {},
     "output_type": "execute_result"
    }
   ],
   "source": [
    "# ^ 예시코드\n",
    "re.search('^who', 'who is who')"
   ]
  },
  {
   "cell_type": "markdown",
   "id": "7e0cd413",
   "metadata": {},
   "source": [
    "##### 4. $"
   ]
  },
  {
   "cell_type": "code",
   "execution_count": 49,
   "id": "89c4c68d",
   "metadata": {},
   "outputs": [
    {
     "data": {
      "text/plain": [
       "<re.Match object; span=(7, 10), match='who'>"
      ]
     },
     "execution_count": 49,
     "metadata": {},
     "output_type": "execute_result"
    }
   ],
   "source": [
    "# $ 예시코드\n",
    "re.search('who$', 'who is who')"
   ]
  },
  {
   "cell_type": "code",
   "execution_count": 61,
   "id": "89f3fc05",
   "metadata": {},
   "outputs": [
    {
     "data": {
      "text/plain": [
       "<re.Match object; span=(0, 3), match='010'>"
      ]
     },
     "execution_count": 61,
     "metadata": {},
     "output_type": "execute_result"
    }
   ],
   "source": []
  },
  {
   "cell_type": "code",
   "execution_count": null,
   "id": "8d20c8b1",
   "metadata": {},
   "outputs": [],
   "source": []
  }
 ],
 "metadata": {
  "kernelspec": {
   "display_name": "Python 3 (ipykernel)",
   "language": "python",
   "name": "python3"
  },
  "language_info": {
   "codemirror_mode": {
    "name": "ipython",
    "version": 3
   },
   "file_extension": ".py",
   "mimetype": "text/x-python",
   "name": "python",
   "nbconvert_exporter": "python",
   "pygments_lexer": "ipython3",
   "version": "3.9.13"
  }
 },
 "nbformat": 4,
 "nbformat_minor": 5
}
