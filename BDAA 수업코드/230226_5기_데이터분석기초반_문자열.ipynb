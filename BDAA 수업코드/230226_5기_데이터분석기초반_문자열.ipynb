{
  "cells": [
    {
      "cell_type": "markdown",
      "metadata": {
        "id": "BfwXLvhETmF-"
      },
      "source": [
        "## 정규표현식\n",
        "\n",
        "- relagr expression\n",
        "- 기존 문자열분석 함수을 이용해서 문자열을 분석하는 겨우 대부분 \n",
        "- 정규표현식은 나만의 패턴, 규칙을 만들어서 문자열을 분석한다.\n",
        "- (나만의 패턴, 나만의 규칙)-> 특정상황에서 필요한 전처리\n",
        "\n",
        "### 대표적인 2가지 정규 표현식 찾는 함수\n",
        "- match - 첫 인덱스에 내가 원하는 문자열이 없으면 뒤도 안 돌아 본다! 냉정하다\n",
        "- search - 서치는 전체에서 내가 원하는 문자열을 찾아준다! 배려심\n"
      ]
    },
    {
      "cell_type": "code",
      "execution_count": 1,
      "metadata": {
        "id": "jNLU0shOTmGC"
      },
      "outputs": [],
      "source": [
        "import re #정규표현식 불러오기"
      ]
    },
    {
      "cell_type": "markdown",
      "metadata": {
        "id": "Xll3eYKETmGD"
      },
      "source": [
        "- re.match('패턴', '문자열)\n",
        "- 맨 처음 인덱스에 본인이 원하는 문자열이 나오지 않으면 없다고 체크함!!! "
      ]
    },
    {
      "cell_type": "code",
      "execution_count": null,
      "metadata": {
        "id": "SGl9aIUPTmGE",
        "outputId": "ac09dc60-abc5-46c5-9d76-84a5f8a5e3b4"
      },
      "outputs": [
        {
          "data": {
            "text/plain": [
              "<re.Match object; span=(0, 5), match='Hello'>"
            ]
          },
          "execution_count": 3,
          "metadata": {},
          "output_type": "execute_result"
        }
      ],
      "source": [
        "re.match('Hello','Hello, Python, Hi, R')"
      ]
    },
    {
      "cell_type": "code",
      "execution_count": null,
      "metadata": {
        "id": "xt1cWhf1TmGF",
        "outputId": "06e5e4fe-6549-4c81-b9b0-5f79cebacb58"
      },
      "outputs": [
        {
          "data": {
            "text/plain": [
              "<re.Match object; span=(0, 6), match='Python'>"
            ]
          },
          "execution_count": 4,
          "metadata": {},
          "output_type": "execute_result"
        }
      ],
      "source": [
        "re.match('Python','Python Hello, HI, R') #파이썬을 찾는 정규식"
      ]
    },
    {
      "cell_type": "code",
      "execution_count": null,
      "metadata": {
        "id": "69HoijQnTmGF",
        "outputId": "5e21faf3-0d9d-4413-cc59-d0b4943c1d67"
      },
      "outputs": [
        {
          "data": {
            "text/plain": [
              "<re.Match object; span=(0, 5), match='Hello'>"
            ]
          },
          "execution_count": 8,
          "metadata": {},
          "output_type": "execute_result"
        }
      ],
      "source": [
        "re.match('Hello','Hello, Python') #찾나? # 대소문자 같아야하고"
      ]
    },
    {
      "cell_type": "code",
      "execution_count": null,
      "metadata": {
        "id": "Tcn7Z8sZTmGF"
      },
      "outputs": [],
      "source": [
        "re.match('hello','Python, hello') #찾나? # #뒤에 있으면 찾지 못함"
      ]
    },
    {
      "cell_type": "code",
      "execution_count": null,
      "metadata": {
        "id": "9xZKJtN5TmGG",
        "outputId": "1abbb58a-5ca3-49be-cb26-3c8815750bba"
      },
      "outputs": [
        {
          "data": {
            "text/plain": [
              "<re.Match object; span=(8, 13), match='hello'>"
            ]
          },
          "execution_count": 9,
          "metadata": {},
          "output_type": "execute_result"
        }
      ],
      "source": [
        "re.search('hello','Python, hello') #찾나? # #뒤에 있으면 찾지 못함"
      ]
    },
    {
      "cell_type": "markdown",
      "metadata": {
        "id": "l8SLLpylTmGG"
      },
      "source": [
        "### 정규식을 표현하는 방법\n",
        "- 쉽게 사용할 수 있는 정규표현식이 있다 ( 외계어처럼 느껴질 수 있다.)\n",
        "- [0-9] 모든 숫자!\n",
        "- [0-9]*\n",
        "- [0-9]+\n",
        "\n",
        "*, + 차이 \n",
        "\n",
        "*는 문자, 숫자가 0개 이상 있는지 체크!\n",
        "+는 문자, 숫자가 1개 이상 있는지 체크!"
      ]
    },
    {
      "cell_type": "code",
      "execution_count": null,
      "metadata": {
        "id": "MpWuB-8zTmGH"
      },
      "outputs": [],
      "source": [
        "re.match('[0-9]','aaaaa12312486751313')"
      ]
    },
    {
      "cell_type": "code",
      "execution_count": null,
      "metadata": {
        "id": "EEFkg5WZTmGH",
        "outputId": "3a5d4b20-1e4b-4eb7-f91e-4ae9404ed6b7"
      },
      "outputs": [
        {
          "data": {
            "text/plain": [
              "<re.Match object; span=(5, 6), match='1'>"
            ]
          },
          "execution_count": 13,
          "metadata": {},
          "output_type": "execute_result"
        }
      ],
      "source": [
        "re.search('[0-9]','aaaaa12312486751313')"
      ]
    },
    {
      "cell_type": "markdown",
      "metadata": {
        "id": "unTJdZptTmGH"
      },
      "source": [
        "### 나는 모든 숫자를 찾고 싶어  1 하나가 아니라\n",
        "- 예를 들어 전화번호를 추출해야 하는 데 숫자를 다 가지고 와야 한다!~"
      ]
    },
    {
      "cell_type": "code",
      "execution_count": null,
      "metadata": {
        "id": "Tqbtf1-2TmGH",
        "outputId": "7839e47b-2686-402a-958a-4c94f0638dba"
      },
      "outputs": [
        {
          "data": {
            "text/plain": [
              "<re.Match object; span=(0, 1), match='0'>"
            ]
          },
          "execution_count": 14,
          "metadata": {},
          "output_type": "execute_result"
        }
      ],
      "source": [
        "re.match('[0-9]','01000000000')"
      ]
    },
    {
      "cell_type": "code",
      "execution_count": null,
      "metadata": {
        "id": "eb7HwK1bTmGI",
        "outputId": "9e6aa1a2-adda-4ff4-ad41-2add1fd971d4"
      },
      "outputs": [
        {
          "data": {
            "text/plain": [
              "<re.Match object; span=(0, 11), match='01000000000'>"
            ]
          },
          "execution_count": 15,
          "metadata": {},
          "output_type": "execute_result"
        }
      ],
      "source": [
        "re.match('[0-9]*','01000000000')"
      ]
    },
    {
      "cell_type": "code",
      "execution_count": null,
      "metadata": {
        "id": "EoaJm0cgTmGI",
        "outputId": "8aea94b7-dbb5-4d7c-9c98-a9c4f917f4aa"
      },
      "outputs": [
        {
          "data": {
            "text/plain": [
              "<re.Match object; span=(0, 11), match='01000000000'>"
            ]
          },
          "execution_count": 16,
          "metadata": {},
          "output_type": "execute_result"
        }
      ],
      "source": [
        "re.match('[0-9]+','01000000000')"
      ]
    },
    {
      "cell_type": "code",
      "execution_count": null,
      "metadata": {
        "id": "9Pr1QKzUTmGI",
        "outputId": "81281912-06ee-46d7-e72c-a9bc89c8ca43"
      },
      "outputs": [
        {
          "data": {
            "text/plain": [
              "<re.Match object; span=(13, 24), match='01012345678'>"
            ]
          },
          "execution_count": 17,
          "metadata": {},
          "output_type": "execute_result"
        }
      ],
      "source": [
        "re.search('[0-9]+','홍길동 휴대전화번호 : 01012345678')"
      ]
    },
    {
      "cell_type": "markdown",
      "metadata": {
        "id": "NLbDKsWhTmGI"
      },
      "source": [
        "### 문자 개수 판단하기\n",
        "- 문자가 정확히 몇 개 있나?\n",
        "- 문자{개수}\n",
        "- (문자열){개수}"
      ]
    },
    {
      "cell_type": "code",
      "execution_count": null,
      "metadata": {
        "id": "5GYItH2yTmGJ",
        "outputId": "b4bc6d56-7210-45fc-a7a7-7d78f6fc1eae"
      },
      "outputs": [
        {
          "data": {
            "text/plain": [
              "<re.Match object; span=(0, 5), match='hhhhh'>"
            ]
          },
          "execution_count": 18,
          "metadata": {},
          "output_type": "execute_result"
        }
      ],
      "source": [
        "re.match('h{5}','hhhhhhhello') #h 5개 찾아줘!"
      ]
    },
    {
      "cell_type": "code",
      "execution_count": null,
      "metadata": {
        "id": "sYCzvBZBTmGJ"
      },
      "outputs": [],
      "source": [
        "re.match('h{5}','ahhhhhhhello') #h 5개 찾아줘!"
      ]
    },
    {
      "cell_type": "code",
      "execution_count": null,
      "metadata": {
        "id": "ZZmBKwWbTmGJ",
        "outputId": "3670c780-c116-45c3-9f55-36e57214f8d4"
      },
      "outputs": [
        {
          "data": {
            "text/plain": [
              "<re.Match object; span=(0, 6), match='hihihi'>"
            ]
          },
          "execution_count": 20,
          "metadata": {},
          "output_type": "execute_result"
        }
      ],
      "source": [
        "re.match('(hi){3}','hihihihello')"
      ]
    },
    {
      "cell_type": "markdown",
      "metadata": {
        "id": "nLVVrPa3TmGJ"
      },
      "source": [
        "- 휴대전화번호 패턴 정규식 만들기\n",
        "- 000-0000-0000\n",
        "\n",
        "- 위 전화번호 패턴을 찾는 정규식을 지금 만들고 채팅 보내주세요!"
      ]
    },
    {
      "cell_type": "code",
      "execution_count": null,
      "metadata": {
        "id": "jgY2bF6nTmGJ",
        "outputId": "dae6d856-b010-41e5-f897-4a56f64dbebc"
      },
      "outputs": [
        {
          "data": {
            "text/plain": [
              "<re.Match object; span=(0, 13), match='010-1234-5678'>"
            ]
          },
          "execution_count": 22,
          "metadata": {},
          "output_type": "execute_result"
        }
      ],
      "source": [
        "#번호 3개 - 번호 4개 - 번호 4개 \n",
        "re.match('[0-9]{3}-[0-9]{4}-[0-9]{4}','010-1234-5678')"
      ]
    },
    {
      "cell_type": "code",
      "execution_count": null,
      "metadata": {
        "id": "eYdgrD3qTmGJ",
        "outputId": "94e4f0e3-851c-4cab-ead0-bb1b7d796a19"
      },
      "outputs": [
        {
          "data": {
            "text/plain": [
              "<re.Match object; span=(0, 13), match='010-1234-5678'>"
            ]
          },
          "execution_count": 27,
          "metadata": {},
          "output_type": "execute_result"
        }
      ],
      "source": [
        "\n",
        "re.match('[0-9]{3}-[0-9]{4}-[0-9]{4}','010-1234-5678')"
      ]
    },
    {
      "cell_type": "code",
      "execution_count": null,
      "metadata": {
        "id": "054SxbENTmGK",
        "outputId": "820e49f3-6a90-482c-ac84-2793f9443798"
      },
      "outputs": [
        {
          "data": {
            "text/plain": [
              "<re.Match object; span=(0, 18), match='010-1234-561234278'>"
            ]
          },
          "execution_count": 29,
          "metadata": {},
          "output_type": "execute_result"
        }
      ],
      "source": [
        "\n",
        "re.match('[0-9]*-[0-9]*-[0-9]*','010-1234-561234278')"
      ]
    },
    {
      "cell_type": "markdown",
      "metadata": {
        "id": "7Vq7_g4TTmGK"
      },
      "source": [
        "- 영문, 한글 \n",
        "\n",
        "- 영문[a-z],[A-Z]\n",
        "- 한글은 [가-힣], [ㄱ-ㅎ], [ㅏ-ㅣ]"
      ]
    },
    {
      "cell_type": "code",
      "execution_count": null,
      "metadata": {
        "id": "2sNtEz3iTmGK",
        "outputId": "2a8cec47-79d1-48dc-c53e-9df1f4ea04a9"
      },
      "outputs": [
        {
          "data": {
            "text/plain": [
              "<re.Match object; span=(0, 5), match='asdfa'>"
            ]
          },
          "execution_count": 31,
          "metadata": {},
          "output_type": "execute_result"
        }
      ],
      "source": [
        "re.match('[a-z]*','asdfa@dasfef')"
      ]
    },
    {
      "cell_type": "code",
      "execution_count": null,
      "metadata": {
        "id": "l15Z652aTmGK",
        "outputId": "e82aec8c-f9a1-43f4-af07-b965a33030f3"
      },
      "outputs": [
        {
          "data": {
            "text/plain": [
              "<re.Match object; span=(0, 10), match='1234ADSDFA'>"
            ]
          },
          "execution_count": 35,
          "metadata": {},
          "output_type": "execute_result"
        }
      ],
      "source": [
        "re.match('[a-zA-Z0-9]+','1234ADSDFA@dasfef')"
      ]
    },
    {
      "cell_type": "code",
      "execution_count": null,
      "metadata": {
        "id": "nlR1L5knTmGK",
        "outputId": "7a9c4de8-c132-4964-8148-247a8a9dd3d4"
      },
      "outputs": [
        {
          "data": {
            "text/plain": [
              "<re.Match object; span=(11, 16), match='서울특별시'>"
            ]
          },
          "execution_count": 42,
          "metadata": {},
          "output_type": "execute_result"
        }
      ],
      "source": [
        "re.search('[가-힣]+','sadfasefsa 서울특별시 1231')"
      ]
    },
    {
      "cell_type": "code",
      "execution_count": null,
      "metadata": {
        "id": "fsZ6QSnbTmGK",
        "outputId": "bd5a831c-79f6-4061-c47b-be7ad4ac40cd"
      },
      "outputs": [
        {
          "data": {
            "text/plain": [
              "<re.Match object; span=(0, 5), match='서울특별시'>"
            ]
          },
          "execution_count": 43,
          "metadata": {},
          "output_type": "execute_result"
        }
      ],
      "source": [
        "re.search('[가-힣]*','서울특별시 1231')"
      ]
    },
    {
      "cell_type": "markdown",
      "metadata": {
        "id": "3HUOm3N0TmGK"
      },
      "source": [
        "### 1.필수과제는 위의 정규식을 이용해서 본인만의 패턴을 만들어 주세요!\n",
        "- ex) 서울특별시 강남구 oo동 해당 동만 패턴으로 찾을 수 있는 정규식 만들기 등 \n",
        "- 최소 10개 이상 만들기\n",
        "\n",
        "### 2.필수과제 현재 알려드린 것 외에 추가 정규표현식 5개 이상 찾고 개념정리 및 코드 정리 결과 설명"
      ]
    },
    {
      "cell_type": "code",
      "execution_count": null,
      "metadata": {
        "id": "ty9kfKqmTmGL"
      },
      "outputs": [],
      "source": []
    }
  ],
  "metadata": {
    "colab": {
      "provenance": []
    },
    "kernelspec": {
      "display_name": "base",
      "language": "python",
      "name": "python3"
    },
    "language_info": {
      "codemirror_mode": {
        "name": "ipython",
        "version": 3
      },
      "file_extension": ".py",
      "mimetype": "text/x-python",
      "name": "python",
      "nbconvert_exporter": "python",
      "pygments_lexer": "ipython3",
      "version": "3.9.13"
    },
    "vscode": {
      "interpreter": {
        "hash": "27a26a7732a2f9257834286807b447af7b26b56fd744bdfb76448dc0c9c18ae6"
      }
    }
  },
  "nbformat": 4,
  "nbformat_minor": 0
}
