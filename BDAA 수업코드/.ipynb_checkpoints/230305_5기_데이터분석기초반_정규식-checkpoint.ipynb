{
 "cells": [
  {
   "cell_type": "markdown",
   "metadata": {
    "id": "zTiB4N9H0hZt"
   },
   "source": [
    "## 정규식-2\n",
    "- *, + 의 차이 \n",
    "\n",
    "- '*' 는 0개 이상 있는지 \n",
    "- '+'는 1개 이상 있는지"
   ]
  },
  {
   "cell_type": "code",
   "execution_count": null,
   "metadata": {
    "id": "wwPs6eHA0hZx"
   },
   "outputs": [],
   "source": [
    "import re"
   ]
  },
  {
   "cell_type": "code",
   "execution_count": null,
   "metadata": {
    "id": "crkLdE6p0hZz",
    "outputId": "c3e358e8-3aef-40ce-dc74-fa6a3124b96f"
   },
   "outputs": [
    {
     "data": {
      "text/plain": [
       "<re.Match object; span=(0, 1), match='b'>"
      ]
     },
     "execution_count": 2,
     "metadata": {},
     "output_type": "execute_result"
    }
   ],
   "source": [
    "re.match('a*b','b') #얘는 찾고\n",
    "#b에는 a가 0개 이상 있어도 찾을 수 있다."
   ]
  },
  {
   "cell_type": "code",
   "execution_count": null,
   "metadata": {
    "id": "mk1i5PKA0hZ0"
   },
   "outputs": [],
   "source": [
    "re.match('a+b','b') #얘는 b를 못 찾았다.\n",
    "# a가 1개 이상 있어야지b를 찾을 수 있다."
   ]
  },
  {
   "cell_type": "code",
   "execution_count": null,
   "metadata": {
    "id": "QhrqKEOL0hZ0",
    "outputId": "0d1578e0-cfee-4523-d848-cd119fbf00bc"
   },
   "outputs": [
    {
     "data": {
      "text/plain": [
       "<re.Match object; span=(0, 2), match='ab'>"
      ]
     },
     "execution_count": 10,
     "metadata": {},
     "output_type": "execute_result"
    }
   ],
   "source": [
    "re.match('a*b','ab')"
   ]
  },
  {
   "cell_type": "code",
   "execution_count": null,
   "metadata": {
    "id": "yjmOFRJM0hZ1",
    "outputId": "d34c7e92-ef6b-4eb8-a4ec-6c31e5892eea"
   },
   "outputs": [
    {
     "data": {
      "text/plain": [
       "<re.Match object; span=(0, 2), match='ab'>"
      ]
     },
     "execution_count": 11,
     "metadata": {},
     "output_type": "execute_result"
    }
   ],
   "source": [
    "re.match('a+b','ab')"
   ]
  },
  {
   "cell_type": "markdown",
   "metadata": {
    "id": "8rXEgX4Z0hZ1"
   },
   "source": [
    "### 한글, 문자개수, 영어, 숫자 다 확인했음"
   ]
  },
  {
   "cell_type": "markdown",
   "metadata": {
    "id": "fFhlceC80hZ2"
   },
   "source": [
    "- 특수문자 &&^^%$%$##@@\n",
    "- \\특수문자"
   ]
  },
  {
   "cell_type": "code",
   "execution_count": null,
   "metadata": {
    "id": "dUKi2ned0hZ2",
    "outputId": "550168bc-6b95-48f0-a4dc-b613b8224252"
   },
   "outputs": [
    {
     "data": {
      "text/plain": [
       "<re.Match object; span=(3, 4), match='*'>"
      ]
     },
     "execution_count": 12,
     "metadata": {},
     "output_type": "execute_result"
    }
   ],
   "source": [
    "#특수문자가 있는 경우\n",
    "re.search('\\*', '123*3')"
   ]
  },
  {
   "cell_type": "code",
   "execution_count": null,
   "metadata": {
    "id": "FONwFdfa0hZ3",
    "outputId": "f55699dc-4775-4e63-a167-53a39148fc50"
   },
   "outputs": [
    {
     "data": {
      "text/plain": [
       "<re.Match object; span=(3, 4), match='*'>"
      ]
     },
     "execution_count": 13,
     "metadata": {},
     "output_type": "execute_result"
    }
   ],
   "source": [
    "re.search('\\*', '123****3')"
   ]
  },
  {
   "cell_type": "code",
   "execution_count": null,
   "metadata": {
    "id": "kEdEZePP0hZ3",
    "outputId": "a0a26e2f-d8f6-4084-c5b5-6a02b37a4a80"
   },
   "outputs": [
    {
     "data": {
      "text/plain": [
       "<re.Match object; span=(3, 7), match='****'>"
      ]
     },
     "execution_count": 14,
     "metadata": {},
     "output_type": "execute_result"
    }
   ],
   "source": [
    "re.search('\\*+', '123****3') #* 별을 다 찾을 경우"
   ]
  },
  {
   "cell_type": "markdown",
   "metadata": {
    "id": "uDxmhp400hZ4"
   },
   "source": [
    "- 정규식 요약 설명\n",
    "- \\d : [0-9]\n",
    "- \\D : [^0-9] : 숫자를 제외한 모든 문자\n",
    "- \\w : [a-zA-Z0-9_]와 같음 영문, 대소문자, 밑줄문자, 숫자\n",
    "- \\W : [^a-zA-Z0-9_]와 같음 영문, 대소문자, 밑줄문자, 숫자 제외한 모든문자\n"
   ]
  },
  {
   "cell_type": "code",
   "execution_count": null,
   "metadata": {
    "id": "bUrSAasd0hZ4",
    "outputId": "e0fbf3cf-59b1-497c-f872-5550efc6f77b"
   },
   "outputs": [
    {
     "data": {
      "text/plain": [
       "<re.Match object; span=(0, 1), match='1'>"
      ]
     },
     "execution_count": 15,
     "metadata": {},
     "output_type": "execute_result"
    }
   ],
   "source": [
    "re.match('\\d','123123123124123123')"
   ]
  },
  {
   "cell_type": "code",
   "execution_count": null,
   "metadata": {
    "id": "KZZU3kW70hZ4",
    "outputId": "88119895-86f8-4fa9-86dc-0e7722c18350"
   },
   "outputs": [
    {
     "data": {
      "text/plain": [
       "<re.Match object; span=(0, 18), match='123123123124123123'>"
      ]
     },
     "execution_count": 16,
     "metadata": {},
     "output_type": "execute_result"
    }
   ],
   "source": [
    "re.match('\\d+','123123123124123123')"
   ]
  },
  {
   "cell_type": "code",
   "execution_count": null,
   "metadata": {
    "id": "dRAEPAKz0hZ5"
   },
   "outputs": [],
   "source": [
    "re.match('\\D+','123123123124123123')"
   ]
  },
  {
   "cell_type": "code",
   "execution_count": null,
   "metadata": {
    "id": "BrAP2eUo0hZ5"
   },
   "outputs": [],
   "source": [
    "re.match('\\D+','123123123124123123')"
   ]
  },
  {
   "cell_type": "code",
   "execution_count": null,
   "metadata": {
    "id": "p2naNx270hZ5",
    "outputId": "668b6e8f-e176-48a7-a42e-e74196e914bc"
   },
   "outputs": [
    {
     "data": {
      "text/plain": [
       "<re.Match object; span=(18, 24), match='dsadfa'>"
      ]
     },
     "execution_count": 21,
     "metadata": {},
     "output_type": "execute_result"
    }
   ],
   "source": [
    "re.search('\\D+','123123123124123123dsadfa')"
   ]
  },
  {
   "cell_type": "code",
   "execution_count": null,
   "metadata": {
    "id": "RXPFUKyy0hZ6",
    "outputId": "9dfad21c-1037-42d5-db00-afd59d552615"
   },
   "outputs": [
    {
     "data": {
      "text/plain": [
       "<re.Match object; span=(0, 1), match='P'>"
      ]
     },
     "execution_count": 22,
     "metadata": {},
     "output_type": "execute_result"
    }
   ],
   "source": [
    "re.match('\\w','Python_Python_123123123123')"
   ]
  },
  {
   "cell_type": "code",
   "execution_count": null,
   "metadata": {
    "id": "4GRJAITn0hZ6",
    "outputId": "7dad249d-ae4d-47b4-ef05-5bd4bc344026"
   },
   "outputs": [
    {
     "data": {
      "text/plain": [
       "<re.Match object; span=(0, 26), match='Python_Python_123123123123'>"
      ]
     },
     "execution_count": 23,
     "metadata": {},
     "output_type": "execute_result"
    }
   ],
   "source": [
    "re.match('\\w+','Python_Python_123123123123')"
   ]
  },
  {
   "cell_type": "code",
   "execution_count": null,
   "metadata": {
    "id": "kuU9GLmt0hZ7"
   },
   "outputs": [],
   "source": [
    "re.match('\\W+','Python_Python_123123123123!!!!!')"
   ]
  },
  {
   "cell_type": "code",
   "execution_count": null,
   "metadata": {
    "id": "tmR3BTAL0hZ7",
    "outputId": "83a99658-10cd-4c7f-e1a7-ebcbb6e5014a"
   },
   "outputs": [
    {
     "data": {
      "text/plain": [
       "<re.Match object; span=(26, 31), match='!!!!!'>"
      ]
     },
     "execution_count": 25,
     "metadata": {},
     "output_type": "execute_result"
    }
   ],
   "source": [
    "re.search('\\W+','Python_Python_123123123123!!!!!')"
   ]
  },
  {
   "cell_type": "markdown",
   "metadata": {
    "id": "8DW-EFK00hZ7"
   },
   "source": [
    "- 공백처리\n",
    "- ' ' 공백을 넣어도 되고, \\s \\S 표현가능\n"
   ]
  },
  {
   "cell_type": "code",
   "execution_count": null,
   "metadata": {
    "id": "tR8vSetK0hZ8",
    "outputId": "e1362300-c59e-4000-f171-1a88d403204e"
   },
   "outputs": [
    {
     "data": {
      "text/plain": [
       "<re.Match object; span=(0, 1), match='h'>"
      ]
     },
     "execution_count": 26,
     "metadata": {},
     "output_type": "execute_result"
    }
   ],
   "source": [
    "re.match('[a-z0-9]','hello 12345')"
   ]
  },
  {
   "cell_type": "code",
   "execution_count": null,
   "metadata": {
    "id": "4kmBBHe10hZ8",
    "outputId": "0229424b-0075-4e88-8f26-638d18d41cd8"
   },
   "outputs": [
    {
     "data": {
      "text/plain": [
       "<re.Match object; span=(0, 5), match='hello'>"
      ]
     },
     "execution_count": 27,
     "metadata": {},
     "output_type": "execute_result"
    }
   ],
   "source": [
    "re.match('[a-z0-9]+','hello 12345')"
   ]
  },
  {
   "cell_type": "code",
   "execution_count": null,
   "metadata": {
    "id": "U8DMV_2g0hZ8",
    "outputId": "32012b94-cb98-42b2-9efa-d5da5c8d15a4"
   },
   "outputs": [
    {
     "data": {
      "text/plain": [
       "<re.Match object; span=(0, 11), match='hello 12345'>"
      ]
     },
     "execution_count": 28,
     "metadata": {},
     "output_type": "execute_result"
    }
   ],
   "source": [
    "re.match('[a-z0-9 ]+','hello 12345')"
   ]
  },
  {
   "cell_type": "code",
   "execution_count": null,
   "metadata": {
    "id": "qoFHU1pu0hZ8",
    "outputId": "827ad7ff-3039-4fae-a541-e29c9232e2f8"
   },
   "outputs": [
    {
     "data": {
      "text/plain": [
       "<re.Match object; span=(0, 11), match='hello 12345'>"
      ]
     },
     "execution_count": 29,
     "metadata": {},
     "output_type": "execute_result"
    }
   ],
   "source": [
    "re.match('[a-z0-9\\s]+','hello 12345')"
   ]
  },
  {
   "cell_type": "markdown",
   "metadata": {
    "id": "BpMxGBg70hZ8"
   },
   "source": [
    "### Group 사용하기\n",
    "- (정규표현식)(정규표현식) 덩어리로 묶을 수 있다.\n",
    "- 객체를 넣을 변수.group(그룹의 숫자)"
   ]
  },
  {
   "cell_type": "code",
   "execution_count": null,
   "metadata": {
    "id": "ZsJD_o7f0hZ9"
   },
   "outputs": [],
   "source": [
    "df_re = re.match('([0-9]+) ([a-z]+)', '1234 abc')"
   ]
  },
  {
   "cell_type": "code",
   "execution_count": null,
   "metadata": {
    "id": "TLZHaM6k0hZ9",
    "outputId": "2a272f8e-d21f-4939-d762-1b00b3924ade"
   },
   "outputs": [
    {
     "data": {
      "text/plain": [
       "'1234'"
      ]
     },
     "execution_count": 31,
     "metadata": {},
     "output_type": "execute_result"
    }
   ],
   "source": [
    "df_re.group(1)"
   ]
  },
  {
   "cell_type": "code",
   "execution_count": null,
   "metadata": {
    "id": "oqr2amj40hZ9",
    "outputId": "28de4b69-4630-4e93-a1a7-3c18e6d1746b"
   },
   "outputs": [
    {
     "data": {
      "text/plain": [
       "'abc'"
      ]
     },
     "execution_count": 32,
     "metadata": {},
     "output_type": "execute_result"
    }
   ],
   "source": [
    "df_re.group(2)"
   ]
  },
  {
   "cell_type": "code",
   "execution_count": null,
   "metadata": {
    "id": "xzPxzIML0hZ9",
    "outputId": "10174bf7-583c-450e-f1e1-f42a74942541"
   },
   "outputs": [
    {
     "data": {
      "text/plain": [
       "'1234 abc'"
      ]
     },
     "execution_count": 33,
     "metadata": {},
     "output_type": "execute_result"
    }
   ],
   "source": [
    "df_re.group(0)"
   ]
  },
  {
   "cell_type": "code",
   "execution_count": null,
   "metadata": {
    "id": "XU_3P-6X0hZ-",
    "outputId": "7af2c65d-9dff-4b76-9446-4a244c3762de"
   },
   "outputs": [
    {
     "data": {
      "text/plain": [
       "('1234', 'abc')"
      ]
     },
     "execution_count": 34,
     "metadata": {},
     "output_type": "execute_result"
    }
   ],
   "source": [
    "df_re.groups()"
   ]
  },
  {
   "cell_type": "markdown",
   "metadata": {
    "id": "Y-L7Y7Rm0hZ-"
   },
   "source": [
    "### 기존함수를 이용해서 문자열 응용하기\n",
    "- findall\n",
    "- re.findall('패턴','문자열')"
   ]
  },
  {
   "cell_type": "code",
   "execution_count": null,
   "metadata": {
    "id": "1702ODnc0hZ-",
    "outputId": "dfa692d6-5781-4210-c100-05b3dca7cf1f"
   },
   "outputs": [
    {
     "data": {
      "text/plain": [
       "['1231', '123123', '3123']"
      ]
     },
     "execution_count": 36,
     "metadata": {},
     "output_type": "execute_result"
    }
   ],
   "source": [
    "re.findall('[0-9]+','여러분 1231 숫자를 123123 다 가지고 올 까요?!@3123') #리스트화 해준다!"
   ]
  },
  {
   "cell_type": "code",
   "execution_count": null,
   "metadata": {
    "id": "wQj8TaMe0hZ-"
   },
   "outputs": [],
   "source": [
    "abc = re.findall('[0-9]+','여러분 1231 숫자를 123123 다 가지고 올 까요?!@3123') #리스트화 해준다!"
   ]
  },
  {
   "cell_type": "code",
   "execution_count": null,
   "metadata": {
    "id": "bH0FZ6VO0hZ-",
    "outputId": "b9b723ae-330d-4b20-ec78-4fd9b7c68b65"
   },
   "outputs": [
    {
     "data": {
      "text/plain": [
       "['1231', '123123', '3123']"
      ]
     },
     "execution_count": 38,
     "metadata": {},
     "output_type": "execute_result"
    }
   ],
   "source": [
    "abc"
   ]
  },
  {
   "cell_type": "code",
   "execution_count": null,
   "metadata": {
    "id": "4ct-BoUD0hZ_",
    "outputId": "7bf20f6a-dd5c-4ed9-c4db-7721e4e96a08"
   },
   "outputs": [
    {
     "data": {
      "text/plain": [
       "['여러분', '숫자를', '다', '가지고', '올', '까요']"
      ]
     },
     "execution_count": 39,
     "metadata": {},
     "output_type": "execute_result"
    }
   ],
   "source": [
    "re.findall('[가-힣]+','여러분 1231 숫자를 123123 다 가지고 올 까요?!@3123') #리스트화 해준다!"
   ]
  },
  {
   "cell_type": "markdown",
   "metadata": {
    "id": "13JXKAdc0hZ_"
   },
   "source": [
    "### 문자열을 바꿀 수 있다.\n",
    "- re.sub('패턴', '바꿀문자열', '문자열', 바꿀횟수)"
   ]
  },
  {
   "cell_type": "code",
   "execution_count": null,
   "metadata": {
    "id": "uSx-p3rv0hZ_",
    "outputId": "e64363a2-bd88-464f-a2cc-23b206d35298"
   },
   "outputs": [
    {
     "data": {
      "text/plain": [
       "'여러분 hi 숫자를 hi 다 가지고 올 까요?!@hi'"
      ]
     },
     "execution_count": 40,
     "metadata": {},
     "output_type": "execute_result"
    }
   ],
   "source": [
    "re.sub('[0-9]+','hi','여러분 1231 숫자를 123123 다 가지고 올 까요?!@3123') #숫자가 모두 hi로 바뀐다."
   ]
  },
  {
   "cell_type": "code",
   "execution_count": null,
   "metadata": {
    "id": "mIqGpLe_0hZ_",
    "outputId": "529fd961-c41b-4def-cd71-7f36a63e92b6"
   },
   "outputs": [
    {
     "data": {
      "text/plain": [
       "'안녕 안녕 d안녕df안녕 안녕 안녕'"
      ]
     },
     "execution_count": 43,
     "metadata": {},
     "output_type": "execute_result"
    }
   ],
   "source": [
    "# | or 두 개 중에 있으면 바꿔달라\n",
    "re.sub('a|b|e','안녕','a b dedfe a b')"
   ]
  },
  {
   "cell_type": "markdown",
   "metadata": {
    "id": "dzg0rjgI0hZ_"
   },
   "source": [
    "### 퀴즈\n",
    "- 이메일을 찾을 수 있는 정규식을 만들자!\n",
    "- 첫 이메일 시작은 영어 소문자만 가능하고 \n",
    "- 이메일은 abc123 숫자도 붙을 수 있다.\n",
    "- abc_323 가능하다.\n",
    "- ppp@naver.com , gmail.com, .net \n",
    "- .com / .net 만 가능하다 \n",
    "\n",
    "- 지금 정규식을 만들어서 패턴을 찾아주세요!"
   ]
  },
  {
   "cell_type": "code",
   "execution_count": null,
   "metadata": {
    "id": "FTZbOSAm0hZ_"
   },
   "outputs": [],
   "source": [
    "re.match('[a-z]{1}\\w+@[a-zA-Z]+(\\.com|\\.net)','abc_123@naver_com')"
   ]
  },
  {
   "cell_type": "code",
   "execution_count": null,
   "metadata": {
    "id": "-leX8WrO0haA"
   },
   "outputs": [],
   "source": [
    "'[a-z]{1}\\w+@[a-zA-Z]+(\\.com|\\.net)'"
   ]
  },
  {
   "cell_type": "code",
   "execution_count": null,
   "metadata": {
    "id": "bm_ouqkj0haA"
   },
   "outputs": [],
   "source": [
    "''[A-Za-z]+[A-Za-z0-9_]*@[A-Za-z]+\\.[com|net]+$'"
   ]
  },
  {
   "cell_type": "code",
   "execution_count": null,
   "metadata": {
    "id": "Vusf2Wj20haA"
   },
   "outputs": [],
   "source": [
    "re.match('[A-Za-z]+[A-Za-z0-9_]*@[A-Za-z]+\\.[com|net]+$','Abc_123@naver_com')"
   ]
  },
  {
   "cell_type": "markdown",
   "metadata": {
    "id": "QuPyiEJw0haA"
   },
   "source": [
    "# 텍스트 분석\n",
    "- 문자열 데이터를 분석\n",
    "- 문자열은 숫자가 아니라 문자 데이터라서 -> 문자열 데이터를 수치로 만드는 것이 중요하다!\n",
    "- 문자열 데이터를 어떻게 숫자로 만들 것인가?\n",
    "- 기존에 레이블, 원핫 인코딩은 그냥 문자열 데이터를 단순하게 숫자로 바꾸는 것인데\n",
    "- 텍트스분석을 크게 보면\n",
    "- 빈도, 감성분석, 머신러닝으로 예측 -> 문자열 데이터에 대한 형태소를 나눠야 한다.\n",
    "- 형태소라는 것은 문자데이터에서 주어, 목적어, 서술어 구성성분으로 나눈다.\n",
    "- 영어도 한글도 있다.\n",
    "- 한글 konlp 자연어 관련해서 이미 만든 패키지 \n",
    "- 영어 okt, twitter 등등 형태소를 분석할 수 있는 패키지가 있다."
   ]
  },
  {
   "cell_type": "code",
   "execution_count": null,
   "metadata": {
    "id": "MN7q4jOl0haA"
   },
   "outputs": [],
   "source": [
    "import pandas as pd"
   ]
  },
  {
   "cell_type": "code",
   "execution_count": null,
   "metadata": {
    "id": "gahfj8IS0haA"
   },
   "outputs": [],
   "source": [
    "survey = pd.read_csv('survey_설문지.csv')"
   ]
  },
  {
   "cell_type": "code",
   "execution_count": null,
   "metadata": {
    "id": "oejaNQjS0haB",
    "outputId": "05f04064-6eea-42b5-80f4-2cdc4f55d34b"
   },
   "outputs": [
    {
     "data": {
      "text/plain": [
       "0            역앞에 젊은이들이 모여있다(AA역)\n",
       "1          운동할 수 있는 장소가 있는 것이 좋다\n",
       "2                      육아 지원이 좋다\n",
       "3     어린이집에 바로 입원할 수 있다(대기아동 없음)\n",
       "4                    역앞 상가가 쓸쓸하다\n",
       "                 ...            \n",
       "81        초등학교 운동장이 잔디밭이라서 아주 좋다\n",
       "82    홈페이지에서도 설문지를 투고할 수 있게 해 달라\n",
       "83               공원에 놀이기구가 너무 적다\n",
       "84                공원을 더 늘렸으면 좋겠다\n",
       "85             역앞에 주차장이 적다, 불편하다\n",
       "Name: comment, Length: 86, dtype: object"
      ]
     },
     "execution_count": 72,
     "metadata": {},
     "output_type": "execute_result"
    }
   ],
   "source": [
    "survey['comment'] #서베이에 대한 응답 데이터 따라서 단순하게 인코딩하기는 어렵다."
   ]
  },
  {
   "cell_type": "code",
   "execution_count": null,
   "metadata": {
    "id": "VxVxgUei0haB"
   },
   "outputs": [],
   "source": [
    "mpg= pd.read_csv('mpg.csv')"
   ]
  },
  {
   "cell_type": "code",
   "execution_count": null,
   "metadata": {
    "id": "s4HdSyMb0haB",
    "outputId": "2425a454-031b-42e5-a98e-1906e79fd57f"
   },
   "outputs": [
    {
     "data": {
      "text/plain": [
       "datetime        0\n",
       "comment         2\n",
       "satisfaction    0\n",
       "dtype: int64"
      ]
     },
     "execution_count": 74,
     "metadata": {},
     "output_type": "execute_result"
    }
   ],
   "source": [
    "survey.isna().sum() "
   ]
  },
  {
   "cell_type": "code",
   "execution_count": null,
   "metadata": {
    "id": "_O95yVhy0haB"
   },
   "outputs": [],
   "source": [
    "survey = survey.dropna()"
   ]
  },
  {
   "cell_type": "code",
   "execution_count": null,
   "metadata": {
    "id": "y5wFBJKF0haB",
    "outputId": "877d8482-0792-4a79-df55-acfa8daff4f7"
   },
   "outputs": [
    {
     "data": {
      "text/plain": [
       "datetime        0\n",
       "comment         0\n",
       "satisfaction    0\n",
       "dtype: int64"
      ]
     },
     "execution_count": 76,
     "metadata": {},
     "output_type": "execute_result"
    }
   ],
   "source": [
    "survey.isna().sum()"
   ]
  },
  {
   "cell_type": "code",
   "execution_count": null,
   "metadata": {
    "id": "7sQu4xYy0haB",
    "outputId": "47d8eb9d-8716-44ad-b1b7-e07fa568c24c"
   },
   "outputs": [
    {
     "data": {
      "text/html": [
       "<div>\n",
       "<style scoped>\n",
       "    .dataframe tbody tr th:only-of-type {\n",
       "        vertical-align: middle;\n",
       "    }\n",
       "\n",
       "    .dataframe tbody tr th {\n",
       "        vertical-align: top;\n",
       "    }\n",
       "\n",
       "    .dataframe thead th {\n",
       "        text-align: right;\n",
       "    }\n",
       "</style>\n",
       "<table border=\"1\" class=\"dataframe\">\n",
       "  <thead>\n",
       "    <tr style=\"text-align: right;\">\n",
       "      <th></th>\n",
       "      <th>datetime</th>\n",
       "      <th>comment</th>\n",
       "      <th>satisfaction</th>\n",
       "    </tr>\n",
       "  </thead>\n",
       "  <tbody>\n",
       "    <tr>\n",
       "      <th>0</th>\n",
       "      <td>2019-03-11</td>\n",
       "      <td>역앞에 젊은이들이 모여있다(AA역)</td>\n",
       "      <td>1</td>\n",
       "    </tr>\n",
       "    <tr>\n",
       "      <th>1</th>\n",
       "      <td>2019-02-25</td>\n",
       "      <td>운동할 수 있는 장소가 있는 것이 좋다</td>\n",
       "      <td>5</td>\n",
       "    </tr>\n",
       "    <tr>\n",
       "      <th>2</th>\n",
       "      <td>2019-02-18</td>\n",
       "      <td>육아 지원이 좋다</td>\n",
       "      <td>5</td>\n",
       "    </tr>\n",
       "    <tr>\n",
       "      <th>3</th>\n",
       "      <td>2019-04-09</td>\n",
       "      <td>어린이집에 바로 입원할 수 있다(대기아동 없음)</td>\n",
       "      <td>4</td>\n",
       "    </tr>\n",
       "    <tr>\n",
       "      <th>4</th>\n",
       "      <td>2019-01-06</td>\n",
       "      <td>역앞 상가가 쓸쓸하다</td>\n",
       "      <td>2</td>\n",
       "    </tr>\n",
       "    <tr>\n",
       "      <th>...</th>\n",
       "      <td>...</td>\n",
       "      <td>...</td>\n",
       "      <td>...</td>\n",
       "    </tr>\n",
       "    <tr>\n",
       "      <th>81</th>\n",
       "      <td>2019-01-21</td>\n",
       "      <td>초등학교 운동장이 잔디밭이라서 아주 좋다</td>\n",
       "      <td>5</td>\n",
       "    </tr>\n",
       "    <tr>\n",
       "      <th>82</th>\n",
       "      <td>2019-04-30</td>\n",
       "      <td>홈페이지에서도 설문지를 투고할 수 있게 해 달라</td>\n",
       "      <td>2</td>\n",
       "    </tr>\n",
       "    <tr>\n",
       "      <th>83</th>\n",
       "      <td>2019-01-09</td>\n",
       "      <td>공원에 놀이기구가 너무 적다</td>\n",
       "      <td>1</td>\n",
       "    </tr>\n",
       "    <tr>\n",
       "      <th>84</th>\n",
       "      <td>2019-03-09</td>\n",
       "      <td>공원을 더 늘렸으면 좋겠다</td>\n",
       "      <td>2</td>\n",
       "    </tr>\n",
       "    <tr>\n",
       "      <th>85</th>\n",
       "      <td>2019-04-02</td>\n",
       "      <td>역앞에 주차장이 적다, 불편하다</td>\n",
       "      <td>1</td>\n",
       "    </tr>\n",
       "  </tbody>\n",
       "</table>\n",
       "<p>84 rows × 3 columns</p>\n",
       "</div>"
      ],
      "text/plain": [
       "      datetime                     comment  satisfaction\n",
       "0   2019-03-11         역앞에 젊은이들이 모여있다(AA역)             1\n",
       "1   2019-02-25       운동할 수 있는 장소가 있는 것이 좋다             5\n",
       "2   2019-02-18                   육아 지원이 좋다             5\n",
       "3   2019-04-09  어린이집에 바로 입원할 수 있다(대기아동 없음)             4\n",
       "4   2019-01-06                 역앞 상가가 쓸쓸하다             2\n",
       "..         ...                         ...           ...\n",
       "81  2019-01-21      초등학교 운동장이 잔디밭이라서 아주 좋다             5\n",
       "82  2019-04-30  홈페이지에서도 설문지를 투고할 수 있게 해 달라             2\n",
       "83  2019-01-09             공원에 놀이기구가 너무 적다             1\n",
       "84  2019-03-09              공원을 더 늘렸으면 좋겠다             2\n",
       "85  2019-04-02           역앞에 주차장이 적다, 불편하다             1\n",
       "\n",
       "[84 rows x 3 columns]"
      ]
     },
     "execution_count": 77,
     "metadata": {},
     "output_type": "execute_result"
    }
   ],
   "source": [
    "#소괄호랑, 영어를 제외하는 정규식을 채팅으로 적어주세요!\n",
    "survey"
   ]
  },
  {
   "cell_type": "markdown",
   "metadata": {
    "id": "Ma8_mK420haB"
   },
   "source": [
    "- 데이터 프레임을 가지고 접근하는 법은 str 문법을 사용한다."
   ]
  },
  {
   "cell_type": "code",
   "execution_count": null,
   "metadata": {
    "id": "WnBp5Mmp0haB",
    "outputId": "fd0971a3-d8c4-4217-c073-d89c156f8e69"
   },
   "outputs": [
    {
     "name": "stderr",
     "output_type": "stream",
     "text": [
      "/opt/anaconda3/lib/python3.7/site-packages/ipykernel_launcher.py:1: FutureWarning: The default value of regex will change from True to False in a future version.\n",
      "  \"\"\"Entry point for launching an IPython kernel.\n"
     ]
    }
   ],
   "source": [
    "survey['comment']= survey['comment'].str.replace('[a-zA-Z]',\"\")"
   ]
  },
  {
   "cell_type": "code",
   "execution_count": null,
   "metadata": {
    "id": "Jzfaghyc0haB",
    "outputId": "26242942-e46f-4607-84bd-7227fac53f1a"
   },
   "outputs": [
    {
     "name": "stderr",
     "output_type": "stream",
     "text": [
      "/opt/anaconda3/lib/python3.7/site-packages/ipykernel_launcher.py:1: FutureWarning: The default value of regex will change from True to False in a future version.\n",
      "  \"\"\"Entry point for launching an IPython kernel.\n"
     ]
    }
   ],
   "source": [
    "survey['comment']= survey['comment'].str.replace('\\(.+?\\)',\"\") #괄호 안에 있는 값을 모두 날려버려라!"
   ]
  },
  {
   "cell_type": "code",
   "execution_count": null,
   "metadata": {
    "id": "3eTAMjRs0haC"
   },
   "outputs": [],
   "source": [
    "survey['length'] = survey['comment'].str.len()"
   ]
  },
  {
   "cell_type": "code",
   "execution_count": null,
   "metadata": {
    "id": "MuwQ5RnL0haC",
    "outputId": "a27fe4c5-4c56-4a36-9bf2-f5c457ad6e83"
   },
   "outputs": [
    {
     "data": {
      "text/html": [
       "<div>\n",
       "<style scoped>\n",
       "    .dataframe tbody tr th:only-of-type {\n",
       "        vertical-align: middle;\n",
       "    }\n",
       "\n",
       "    .dataframe tbody tr th {\n",
       "        vertical-align: top;\n",
       "    }\n",
       "\n",
       "    .dataframe thead th {\n",
       "        text-align: right;\n",
       "    }\n",
       "</style>\n",
       "<table border=\"1\" class=\"dataframe\">\n",
       "  <thead>\n",
       "    <tr style=\"text-align: right;\">\n",
       "      <th></th>\n",
       "      <th>datetime</th>\n",
       "      <th>comment</th>\n",
       "      <th>satisfaction</th>\n",
       "      <th>length</th>\n",
       "    </tr>\n",
       "  </thead>\n",
       "  <tbody>\n",
       "    <tr>\n",
       "      <th>0</th>\n",
       "      <td>2019-03-11</td>\n",
       "      <td>역앞에 젊은이들이 모여있다</td>\n",
       "      <td>1</td>\n",
       "      <td>14</td>\n",
       "    </tr>\n",
       "    <tr>\n",
       "      <th>1</th>\n",
       "      <td>2019-02-25</td>\n",
       "      <td>운동할 수 있는 장소가 있는 것이 좋다</td>\n",
       "      <td>5</td>\n",
       "      <td>21</td>\n",
       "    </tr>\n",
       "    <tr>\n",
       "      <th>2</th>\n",
       "      <td>2019-02-18</td>\n",
       "      <td>육아 지원이 좋다</td>\n",
       "      <td>5</td>\n",
       "      <td>9</td>\n",
       "    </tr>\n",
       "    <tr>\n",
       "      <th>3</th>\n",
       "      <td>2019-04-09</td>\n",
       "      <td>어린이집에 바로 입원할 수 있다</td>\n",
       "      <td>4</td>\n",
       "      <td>17</td>\n",
       "    </tr>\n",
       "    <tr>\n",
       "      <th>4</th>\n",
       "      <td>2019-01-06</td>\n",
       "      <td>역앞 상가가 쓸쓸하다</td>\n",
       "      <td>2</td>\n",
       "      <td>11</td>\n",
       "    </tr>\n",
       "    <tr>\n",
       "      <th>...</th>\n",
       "      <td>...</td>\n",
       "      <td>...</td>\n",
       "      <td>...</td>\n",
       "      <td>...</td>\n",
       "    </tr>\n",
       "    <tr>\n",
       "      <th>81</th>\n",
       "      <td>2019-01-21</td>\n",
       "      <td>초등학교 운동장이 잔디밭이라서 아주 좋다</td>\n",
       "      <td>5</td>\n",
       "      <td>22</td>\n",
       "    </tr>\n",
       "    <tr>\n",
       "      <th>82</th>\n",
       "      <td>2019-04-30</td>\n",
       "      <td>홈페이지에서도 설문지를 투고할 수 있게 해 달라</td>\n",
       "      <td>2</td>\n",
       "      <td>26</td>\n",
       "    </tr>\n",
       "    <tr>\n",
       "      <th>83</th>\n",
       "      <td>2019-01-09</td>\n",
       "      <td>공원에 놀이기구가 너무 적다</td>\n",
       "      <td>1</td>\n",
       "      <td>15</td>\n",
       "    </tr>\n",
       "    <tr>\n",
       "      <th>84</th>\n",
       "      <td>2019-03-09</td>\n",
       "      <td>공원을 더 늘렸으면 좋겠다</td>\n",
       "      <td>2</td>\n",
       "      <td>14</td>\n",
       "    </tr>\n",
       "    <tr>\n",
       "      <th>85</th>\n",
       "      <td>2019-04-02</td>\n",
       "      <td>역앞에 주차장이 적다, 불편하다</td>\n",
       "      <td>1</td>\n",
       "      <td>17</td>\n",
       "    </tr>\n",
       "  </tbody>\n",
       "</table>\n",
       "<p>84 rows × 4 columns</p>\n",
       "</div>"
      ],
      "text/plain": [
       "      datetime                     comment  satisfaction  length\n",
       "0   2019-03-11              역앞에 젊은이들이 모여있다             1      14\n",
       "1   2019-02-25       운동할 수 있는 장소가 있는 것이 좋다             5      21\n",
       "2   2019-02-18                   육아 지원이 좋다             5       9\n",
       "3   2019-04-09           어린이집에 바로 입원할 수 있다             4      17\n",
       "4   2019-01-06                 역앞 상가가 쓸쓸하다             2      11\n",
       "..         ...                         ...           ...     ...\n",
       "81  2019-01-21      초등학교 운동장이 잔디밭이라서 아주 좋다             5      22\n",
       "82  2019-04-30  홈페이지에서도 설문지를 투고할 수 있게 해 달라             2      26\n",
       "83  2019-01-09             공원에 놀이기구가 너무 적다             1      15\n",
       "84  2019-03-09              공원을 더 늘렸으면 좋겠다             2      14\n",
       "85  2019-04-02           역앞에 주차장이 적다, 불편하다             1      17\n",
       "\n",
       "[84 rows x 4 columns]"
      ]
     },
     "execution_count": 84,
     "metadata": {},
     "output_type": "execute_result"
    }
   ],
   "source": [
    "survey"
   ]
  },
  {
   "cell_type": "code",
   "execution_count": null,
   "metadata": {
    "id": "V-HT7jqU0haC"
   },
   "outputs": [],
   "source": [
    "import matplotlib.pyplot as plt"
   ]
  },
  {
   "cell_type": "code",
   "execution_count": null,
   "metadata": {
    "id": "6JiyfHDg0haC",
    "outputId": "970361ea-fe26-4ceb-ccd3-1f8028bf79b5"
   },
   "outputs": [
    {
     "data": {
      "text/plain": [
       "(array([20., 19., 20., 10.,  7.,  3.,  4.,  0.,  0.,  1.]),\n",
       " array([ 6. , 11.6, 17.2, 22.8, 28.4, 34. , 39.6, 45.2, 50.8, 56.4, 62. ]),\n",
       " <a list of 10 Patch objects>)"
      ]
     },
     "execution_count": 86,
     "metadata": {},
     "output_type": "execute_result"
    },
    {
     "data": {
      "image/png": "[encoded data removed]",
      "text/plain": [
       "<Figure size 432x288 with 1 Axes>"
      ]
     },
     "metadata": {
      "needs_background": "light"
     },
     "output_type": "display_data"
    }
   ],
   "source": [
    "plt.hist(survey['length'])"
   ]
  },
  {
   "cell_type": "markdown",
   "metadata": {
    "id": "ZybCgbr30haC"
   },
   "source": [
    "## 형태소 분석\n",
    "- 에러가 나시는 분들은 pip install 에러 나는 것 확인\n",
    "- 설치가 잘 안된다면 konlpy 이걸 설치해야 해서 에러나는 걸 구글링해서 해결하시는 걸 추천 "
   ]
  },
  {
   "cell_type": "code",
   "execution_count": null,
   "metadata": {
    "id": "4OLvDkHt0haC"
   },
   "outputs": [],
   "source": [
    "from konlpy.tag import Twitter"
   ]
  },
  {
   "cell_type": "code",
   "execution_count": null,
   "metadata": {
    "id": "cJ4VggOR0haC",
    "outputId": "86b7cda6-0f0c-47d5-8d75-b9e8ba94e26f"
   },
   "outputs": [
    {
     "name": "stderr",
     "output_type": "stream",
     "text": [
      "/opt/anaconda3/lib/python3.7/site-packages/konlpy/tag/_okt.py:17: UserWarning: \"Twitter\" has changed to \"Okt\" since KoNLPy v0.4.5.\n",
      "  warn('\"Twitter\" has changed to \"Okt\" since KoNLPy v0.4.5.')\n"
     ]
    },
    {
     "data": {
      "text/plain": [
       "[('여러분', 'Noun'),\n",
       " ('정규식', 'Noun'),\n",
       " ('많이', 'Adverb'),\n",
       " ('어렵나요', 'Adjective'),\n",
       " ('?', 'Punctuation'),\n",
       " ('표정', 'Noun'),\n",
       " ('이', 'Josa'),\n",
       " ('밝지', 'Verb'),\n",
       " ('못', 'Noun'),\n",
       " ('해서', 'Verb'),\n",
       " ('제', 'Noun'),\n",
       " ('마음', 'Noun'),\n",
       " ('도', 'Josa'),\n",
       " ('너무', 'Adverb'),\n",
       " ('슬프네요', 'Adjective'),\n",
       " ('!', 'Punctuation'),\n",
       " ('그래도', 'Adverb'),\n",
       " ('파이팅', 'Noun'),\n",
       " ('!!', 'Punctuation')]"
      ]
     },
     "execution_count": 88,
     "metadata": {},
     "output_type": "execute_result"
    }
   ],
   "source": [
    "twt = Twitter()\n",
    "text = '여러분 정규식 많이 어렵나요? 표정이 밝지 못 해서 제 마음도 너무 슬프네요! 그래도 파이팅!!'\n",
    "tagging = twt.pos(text)\n",
    "tagging\n"
   ]
  },
  {
   "cell_type": "markdown",
   "metadata": {
    "id": "hAPt0EzM0haC"
   },
   "source": [
    "- survey 데이터에서 내가 원하는 품사만 추출해서 가져와보자!"
   ]
  },
  {
   "cell_type": "code",
   "execution_count": null,
   "metadata": {
    "id": "VVqkuTmu0haC",
    "outputId": "5c7800d4-5e33-4b2a-f134-d03e07dab9bc"
   },
   "outputs": [
    {
     "data": {
      "text/html": [
       "<div>\n",
       "<style scoped>\n",
       "    .dataframe tbody tr th:only-of-type {\n",
       "        vertical-align: middle;\n",
       "    }\n",
       "\n",
       "    .dataframe tbody tr th {\n",
       "        vertical-align: top;\n",
       "    }\n",
       "\n",
       "    .dataframe thead th {\n",
       "        text-align: right;\n",
       "    }\n",
       "</style>\n",
       "<table border=\"1\" class=\"dataframe\">\n",
       "  <thead>\n",
       "    <tr style=\"text-align: right;\">\n",
       "      <th></th>\n",
       "      <th>datetime</th>\n",
       "      <th>comment</th>\n",
       "      <th>satisfaction</th>\n",
       "      <th>length</th>\n",
       "    </tr>\n",
       "  </thead>\n",
       "  <tbody>\n",
       "    <tr>\n",
       "      <th>0</th>\n",
       "      <td>2019-03-11</td>\n",
       "      <td>역앞에 젊은이들이 모여있다</td>\n",
       "      <td>1</td>\n",
       "      <td>14</td>\n",
       "    </tr>\n",
       "    <tr>\n",
       "      <th>1</th>\n",
       "      <td>2019-02-25</td>\n",
       "      <td>운동할 수 있는 장소가 있는 것이 좋다</td>\n",
       "      <td>5</td>\n",
       "      <td>21</td>\n",
       "    </tr>\n",
       "    <tr>\n",
       "      <th>2</th>\n",
       "      <td>2019-02-18</td>\n",
       "      <td>육아 지원이 좋다</td>\n",
       "      <td>5</td>\n",
       "      <td>9</td>\n",
       "    </tr>\n",
       "    <tr>\n",
       "      <th>3</th>\n",
       "      <td>2019-04-09</td>\n",
       "      <td>어린이집에 바로 입원할 수 있다</td>\n",
       "      <td>4</td>\n",
       "      <td>17</td>\n",
       "    </tr>\n",
       "    <tr>\n",
       "      <th>4</th>\n",
       "      <td>2019-01-06</td>\n",
       "      <td>역앞 상가가 쓸쓸하다</td>\n",
       "      <td>2</td>\n",
       "      <td>11</td>\n",
       "    </tr>\n",
       "    <tr>\n",
       "      <th>...</th>\n",
       "      <td>...</td>\n",
       "      <td>...</td>\n",
       "      <td>...</td>\n",
       "      <td>...</td>\n",
       "    </tr>\n",
       "    <tr>\n",
       "      <th>81</th>\n",
       "      <td>2019-01-21</td>\n",
       "      <td>초등학교 운동장이 잔디밭이라서 아주 좋다</td>\n",
       "      <td>5</td>\n",
       "      <td>22</td>\n",
       "    </tr>\n",
       "    <tr>\n",
       "      <th>82</th>\n",
       "      <td>2019-04-30</td>\n",
       "      <td>홈페이지에서도 설문지를 투고할 수 있게 해 달라</td>\n",
       "      <td>2</td>\n",
       "      <td>26</td>\n",
       "    </tr>\n",
       "    <tr>\n",
       "      <th>83</th>\n",
       "      <td>2019-01-09</td>\n",
       "      <td>공원에 놀이기구가 너무 적다</td>\n",
       "      <td>1</td>\n",
       "      <td>15</td>\n",
       "    </tr>\n",
       "    <tr>\n",
       "      <th>84</th>\n",
       "      <td>2019-03-09</td>\n",
       "      <td>공원을 더 늘렸으면 좋겠다</td>\n",
       "      <td>2</td>\n",
       "      <td>14</td>\n",
       "    </tr>\n",
       "    <tr>\n",
       "      <th>85</th>\n",
       "      <td>2019-04-02</td>\n",
       "      <td>역앞에 주차장이 적다, 불편하다</td>\n",
       "      <td>1</td>\n",
       "      <td>17</td>\n",
       "    </tr>\n",
       "  </tbody>\n",
       "</table>\n",
       "<p>84 rows × 4 columns</p>\n",
       "</div>"
      ],
      "text/plain": [
       "      datetime                     comment  satisfaction  length\n",
       "0   2019-03-11              역앞에 젊은이들이 모여있다             1      14\n",
       "1   2019-02-25       운동할 수 있는 장소가 있는 것이 좋다             5      21\n",
       "2   2019-02-18                   육아 지원이 좋다             5       9\n",
       "3   2019-04-09           어린이집에 바로 입원할 수 있다             4      17\n",
       "4   2019-01-06                 역앞 상가가 쓸쓸하다             2      11\n",
       "..         ...                         ...           ...     ...\n",
       "81  2019-01-21      초등학교 운동장이 잔디밭이라서 아주 좋다             5      22\n",
       "82  2019-04-30  홈페이지에서도 설문지를 투고할 수 있게 해 달라             2      26\n",
       "83  2019-01-09             공원에 놀이기구가 너무 적다             1      15\n",
       "84  2019-03-09              공원을 더 늘렸으면 좋겠다             2      14\n",
       "85  2019-04-02           역앞에 주차장이 적다, 불편하다             1      17\n",
       "\n",
       "[84 rows x 4 columns]"
      ]
     },
     "execution_count": 89,
     "metadata": {},
     "output_type": "execute_result"
    }
   ],
   "source": [
    "survey"
   ]
  },
  {
   "cell_type": "code",
   "execution_count": null,
   "metadata": {
    "id": "X8NcS2iO0haD",
    "outputId": "15f4fb86-a2bf-4fce-e1a4-d5f7d996bdd1"
   },
   "outputs": [
    {
     "name": "stdout",
     "output_type": "stream",
     "text": [
      "['에', '이', '가', '이', '에', '가', '은', '한', '가', '가', '이', '이', '가', '를', '가', '이', '에', '이', '까지', '가', '를', '를', '이', '가', '이', '를', '을', '가', '이', '가', '이다', '을', '든', '에', '이', '가', '이다', '에', '를', '가', '하고', '의', '이', '의', '을', '가', '로', '가', '이', '에', '이', '가', '을', '이', '을', '이', '의', '가', '가', '에서는', '를', '고', '에', '이', '가', '에', '가', '를', '의', '을', '이', '가', '한', '가', '에', '이', '가', '의', '은', '가', '를', '의', '이', '하고', '가', '의', '은', '이', '에', '을', '가', '과', '를', '이', '에', '을', '의', '로', '을', '에', '이', '는', '이', '가', '를', '하고', '에', '가', '에', '가', '에', '를', '에', '가', '도', '를', '의', '가', '에', '를', '이', '이', '로', '가', '이', '가', '은', '에', '로', '가', '의', '이', '이', '이', '이라서', '에서도', '를', '에', '가', '을', '에', '이']\n"
     ]
    }
   ],
   "source": [
    "all_words = []\n",
    "parts =['Josa']\n",
    "for i in range(len(survey)):\n",
    "    text = survey['comment'].iloc[i]\n",
    "    words = twt.pos(text)\n",
    "    words_arr = []\n",
    "    for n in words:\n",
    "        if n =='EOS' or n ==\"\":continue\n",
    "        word_tmp=n[0]\n",
    "        part = n[1]\n",
    "        if not (part in parts):continue\n",
    "        words_arr.append(word_tmp)\n",
    "    all_words.extend(words_arr)\n",
    "print(all_words)"
   ]
  },
  {
   "cell_type": "markdown",
   "metadata": {
    "id": "VNmSuLfg0haD"
   },
   "source": [
    "### 필수과제 \n",
    "- 트위터에 대통령 선거 관련된 문자열 데이터 \n",
    "- 대통령 이름도 있고, 여러가지 후보자 이름도 있을 것\n",
    "- 정규식으로 전처리하시고, 실제 의미있는 키워드를 빈도를 추출하고\n",
    "- 후보자와 관련이 가장 깊은 키워든느 무엇인지? \n",
    "- 그걸 간단하게 시각화하여 실제로 어떤 후보자가 어떤 키워드를 가지고 있다는 것을 보여주세요!"
   ]
  },
  {
   "cell_type": "code",
   "execution_count": null,
   "metadata": {
    "id": "sdfpRYN40haD"
   },
   "outputs": [],
   "source": []
  }
 ],
 "metadata": {
  "colab": {
   "provenance": []
  },
  "kernelspec": {
   "display_name": "Python 3 (ipykernel)",
   "language": "python",
   "name": "python3"
  },
  "language_info": {
   "codemirror_mode": {
    "name": "ipython",
    "version": 3
   },
   "file_extension": ".py",
   "mimetype": "text/x-python",
   "name": "python",
   "nbconvert_exporter": "python",
   "pygments_lexer": "ipython3",
   "version": "3.9.13"
  }
 },
 "nbformat": 4,
 "nbformat_minor": 1
}
